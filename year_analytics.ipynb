{
 "cells": [
  {
   "cell_type": "code",
   "execution_count": 1,
   "id": "bf4a6946",
   "metadata": {},
   "outputs": [],
   "source": [
    "import pandas as pd\n",
    "import gtfs_kit as gk\n",
    "import matplotlib as mpl\n",
    "import matplotlib.pyplot as plt\n",
    "import helper #homemade function file helper.py\n",
    "import numpy as np\n"
   ]
  },
  {
   "cell_type": "code",
   "execution_count": 2,
   "id": "374a1bf4",
   "metadata": {},
   "outputs": [],
   "source": [
    "feed = gk.feed.read_feed('../general_data_analytics.zip',dist_units=\"km\")"
   ]
  },
  {
   "cell_type": "code",
   "execution_count": 3,
   "id": "665de0c1",
   "metadata": {},
   "outputs": [],
   "source": [
    "routes = gk.routes.get_routes(feed)\n",
    "stop_times = feed.get_stop_times()\n",
    "trips = feed.get_trips()\n",
    "stops = feed.get_stops()\n",
    "shapes = feed.shapes\n",
    "calendar_dates = feed.calendar_dates\n",
    "calendar = feed.calendar"
   ]
  },
  {
   "cell_type": "markdown",
   "id": "dc2dd8cc",
   "metadata": {},
   "source": [
    "# Collecting a single week data"
   ]
  },
  {
   "cell_type": "markdown",
   "id": "f5998811",
   "metadata": {},
   "source": [
    "## Select trips between Mon 02-Oct-2023 and 08-Oct-2023\n"
   ]
  },
  {
   "cell_type": "code",
   "execution_count": 4,
   "id": "bcaf67fc",
   "metadata": {
    "scrolled": true
   },
   "outputs": [],
   "source": [
    "## Collecting all service date of trips on those days\n",
    "year_calendar_dates = calendar_dates.loc[(calendar_dates['date'] >= '20220101') & \n",
    "                                    (calendar_dates['date'] <= '20221231') ]\n"
   ]
  },
  {
   "cell_type": "code",
   "execution_count": 5,
   "id": "12a34d0e",
   "metadata": {},
   "outputs": [
    {
     "data": {
      "text/html": [
       "<div>\n",
       "<style scoped>\n",
       "    .dataframe tbody tr th:only-of-type {\n",
       "        vertical-align: middle;\n",
       "    }\n",
       "\n",
       "    .dataframe tbody tr th {\n",
       "        vertical-align: top;\n",
       "    }\n",
       "\n",
       "    .dataframe thead th {\n",
       "        text-align: right;\n",
       "    }\n",
       "</style>\n",
       "<table border=\"1\" class=\"dataframe\">\n",
       "  <thead>\n",
       "    <tr style=\"text-align: right;\">\n",
       "      <th></th>\n",
       "      <th>service_id</th>\n",
       "      <th>date</th>\n",
       "    </tr>\n",
       "  </thead>\n",
       "  <tbody>\n",
       "    <tr>\n",
       "      <th>19950</th>\n",
       "      <td>3233_224114</td>\n",
       "      <td>20220103</td>\n",
       "    </tr>\n",
       "    <tr>\n",
       "      <th>19951</th>\n",
       "      <td>3233_224114</td>\n",
       "      <td>20220104</td>\n",
       "    </tr>\n",
       "    <tr>\n",
       "      <th>19952</th>\n",
       "      <td>3233_224114</td>\n",
       "      <td>20220105</td>\n",
       "    </tr>\n",
       "    <tr>\n",
       "      <th>19953</th>\n",
       "      <td>3233_224114</td>\n",
       "      <td>20220107</td>\n",
       "    </tr>\n",
       "    <tr>\n",
       "      <th>19954</th>\n",
       "      <td>3233_224114</td>\n",
       "      <td>20220110</td>\n",
       "    </tr>\n",
       "    <tr>\n",
       "      <th>...</th>\n",
       "      <td>...</td>\n",
       "      <td>...</td>\n",
       "    </tr>\n",
       "    <tr>\n",
       "      <th>27912</th>\n",
       "      <td>4118_237648</td>\n",
       "      <td>20221227</td>\n",
       "    </tr>\n",
       "    <tr>\n",
       "      <th>27913</th>\n",
       "      <td>4118_237648</td>\n",
       "      <td>20221228</td>\n",
       "    </tr>\n",
       "    <tr>\n",
       "      <th>27914</th>\n",
       "      <td>4118_237648</td>\n",
       "      <td>20221229</td>\n",
       "    </tr>\n",
       "    <tr>\n",
       "      <th>27915</th>\n",
       "      <td>4118_237648</td>\n",
       "      <td>20221230</td>\n",
       "    </tr>\n",
       "    <tr>\n",
       "      <th>27916</th>\n",
       "      <td>4118_237648</td>\n",
       "      <td>20221231</td>\n",
       "    </tr>\n",
       "  </tbody>\n",
       "</table>\n",
       "<p>4197 rows × 2 columns</p>\n",
       "</div>"
      ],
      "text/plain": [
       "        service_id      date\n",
       "19950  3233_224114  20220103\n",
       "19951  3233_224114  20220104\n",
       "19952  3233_224114  20220105\n",
       "19953  3233_224114  20220107\n",
       "19954  3233_224114  20220110\n",
       "...            ...       ...\n",
       "27912  4118_237648  20221227\n",
       "27913  4118_237648  20221228\n",
       "27914  4118_237648  20221229\n",
       "27915  4118_237648  20221230\n",
       "27916  4118_237648  20221231\n",
       "\n",
       "[4197 rows x 2 columns]"
      ]
     },
     "execution_count": 5,
     "metadata": {},
     "output_type": "execute_result"
    }
   ],
   "source": [
    "year_calendar_dates"
   ]
  },
  {
   "cell_type": "code",
   "execution_count": 6,
   "id": "532f5282",
   "metadata": {},
   "outputs": [],
   "source": [
    "# Removing data outside the selected year \n",
    "\n",
    "## Creating new calendar and collect service date from previous new calendar_dates with drop duplicates\n",
    "year_calendar = calendar.iloc[0:0]\n",
    "service_id_list = list(dict.fromkeys(year_calendar_dates['service_id']))\n",
    "\n",
    "for service_id in service_id_list:\n",
    "    row  = calendar.loc[calendar['service_id'] == service_id]\n",
    "    year_calendar = pd.concat([year_calendar, row],\n",
    "                      ignore_index = True)\n",
    "\n",
    "## Creating new trips dataframe and collect trips using the list of service id\n",
    "year_trips = trips.iloc[0:0]\n",
    "\n",
    "for service_id in service_id_list:\n",
    "    row  = trips.loc[trips['service_id'] == service_id]\n",
    "    year_trips = pd.concat([year_trips, row],\n",
    "                      ignore_index = True)\n",
    "    \n",
    "## Creating list of shapes_id,route_id,trips_id from sw_trips\n",
    "route_id_list = list(dict.fromkeys(year_trips['route_id']))\n",
    "shape_id_list = list(dict.fromkeys(year_trips['shape_id']))\n",
    "trip_id_list = list(dict.fromkeys(year_trips['trip_id']))\n",
    "\n",
    "## Creating new route dataframe\n",
    "year_routes = routes.iloc[0:0]\n",
    "\n",
    "for route_id in route_id_list:\n",
    "    row = routes.loc[routes['route_id']==route_id]\n",
    "    year_routes = pd.concat([year_routes,row],ignore_index=True)\n",
    "\n",
    "## Creating new shape dataframe\n",
    "year_shapes = shapes.iloc[0:0]\n",
    "\n",
    "for shape_id in shape_id_list:\n",
    "    row = shapes.loc[shapes['shape_id']==shape_id]\n",
    "    year_shapes = pd.concat([year_shapes, row],ignore_index = True)\n",
    "\n",
    "## Creating new stop_times dataframe\n",
    "year_stop_times = stop_times.iloc[0:0]\n",
    "\n",
    "for trip_id in trip_id_list:\n",
    "    row = stop_times.loc[stop_times['trip_id'] == trip_id]\n",
    "    year_stop_times = pd.concat([year_stop_times,row],ignore_index = True)\n",
    "stop_id_list = list(dict.fromkeys(year_stop_times['stop_id']))\n",
    "\n",
    "## Creating new stop dataframe, should be equal at this point \n",
    "## but we do it for safe reasons\n",
    "year_stops = stops.iloc[0:0]\n",
    "\n",
    "for stop_id in stop_id_list:\n",
    "    row = stops.loc[stops['stop_id']==stop_id]\n",
    "    year_stops = pd.concat([year_stops,row],ignore_index = True)"
   ]
  },
  {
   "cell_type": "markdown",
   "id": "0a3ef001",
   "metadata": {},
   "source": [
    "# We performe data analytics on the monday"
   ]
  },
  {
   "cell_type": "code",
   "execution_count": 7,
   "id": "72a3dc31",
   "metadata": {},
   "outputs": [],
   "source": [
    "# Join the dataset for easy at use\n",
    "year_analytics = year_trips\n",
    "year_analytics = pd.merge(year_analytics, year_calendar_dates, on=['service_id','service_id'])\n",
    "year_analytics = pd.merge(year_analytics, year_stop_times, on=['trip_id','trip_id'])\n",
    "year_analytics = year_analytics.drop(['trip_headsign','direction_id','shape_id',\n",
    "                                     'arrival_time', 'departure_time','shape_dist_traveled',\n",
    "                                     'time_diff', 'speed', 'dist_diff','route_id'\n",
    "                                     ], axis='columns')\n",
    "year_analytics_save_copy = year_analytics.copy()"
   ]
  },
  {
   "cell_type": "code",
   "execution_count": 8,
   "id": "cbc123d3",
   "metadata": {},
   "outputs": [],
   "source": [
    "year_analytics = year_analytics.groupby(['trip_id','service_id','date']).max('stop_sequence').reset_index()"
   ]
  },
  {
   "cell_type": "code",
   "execution_count": 9,
   "id": "6060bf38",
   "metadata": {
    "scrolled": true
   },
   "outputs": [],
   "source": [
    "week_division_dates = helper.calendar_2022()"
   ]
  },
  {
   "cell_type": "code",
   "execution_count": 10,
   "id": "9aa9cc7d",
   "metadata": {},
   "outputs": [],
   "source": [
    "result = pd.DataFrame(columns=['corse_totali', 'corse_veloci', 'corse_medie', 'corse_lente'], index=range(len(week_division_dates)-1)).fillna(0)\n",
    "result.index += 1\n",
    "\n",
    "for i in range(len(week_division_dates)-1):\n",
    "    ## Collecting all service date of trips on those days\n",
    "    year_calendar_dates = calendar_dates.loc[(calendar_dates['date'] >= '20220101') & \n",
    "                                    (calendar_dates['date'] <= '20221231') ]\n",
    "    temp_analytics = year_analytics.loc[(year_analytics['date'] >= week_division_dates[i]) &\n",
    "                                       (year_analytics['date'] <= week_division_dates[i+1])]\n",
    "    for index, row  in temp_analytics.iterrows():\n",
    "        result.at[i+1,'corse_totali'] += 1\n",
    "        if(row.stop_sequence <= 10):\n",
    "            result.at[i+1,'corse_veloci'] += 1\n",
    "        if(row.stop_sequence > 10 and row.stop_sequence <= 20):\n",
    "            result.at[i+1,'corse_medie'] += 1\n",
    "        if(row.stop_sequence > 20):\n",
    "            result.at[i+1,'corse_lente'] += 1"
   ]
  },
  {
   "cell_type": "code",
   "execution_count": 11,
   "id": "350f6ad5",
   "metadata": {},
   "outputs": [
    {
     "data": {
      "image/png": "[encoded data removed]",
      "text/plain": [
       "<Figure size 432x288 with 1 Axes>"
      ]
     },
     "metadata": {
      "needs_background": "light"
     },
     "output_type": "display_data"
    }
   ],
   "source": [
    "# Plot total \n",
    "plt.bar(result.index, result['corse_totali'], color='b')\n",
    "plt.show()"
   ]
  },
  {
   "cell_type": "code",
   "execution_count": 17,
   "id": "8e948581",
   "metadata": {},
   "outputs": [
    {
     "data": {
      "image/png": "[encoded data removed]",
      "text/plain": [
       "<Figure size 432x288 with 1 Axes>"
      ]
     },
     "metadata": {
      "needs_background": "light"
     },
     "output_type": "display_data"
    }
   ],
   "source": [
    "plt.bar(result.index, result['corse_veloci'], color='r')\n",
    "plt.bar(result.index, result['corse_medie'], bottom=result['corse_veloci'], color='y')\n",
    "plt.bar(result.index, result['corse_lente'],bottom=result['corse_veloci']+result['corse_medie'], color='g')\n",
    "plt.show()"
   ]
  },
  {
   "cell_type": "code",
   "execution_count": 13,
   "id": "173ddd4e",
   "metadata": {},
   "outputs": [
    {
     "name": "stdout",
     "output_type": "stream",
     "text": [
      "    corse_totali  corse_veloci  corse_medie  corse_lente\n",
      "1            426           264           79           83\n",
      "2            500           307          112           81\n",
      "3            500           307          112           81\n",
      "4            500           307          112           81\n",
      "5            500           307          112           81\n",
      "6            500           307          112           81\n",
      "7            500           307          112           81\n",
      "8            500           307          112           81\n",
      "9            500           307          112           81\n",
      "10           500           307          112           81\n",
      "11           500           307          112           81\n",
      "12           500           307          112           81\n",
      "13           500           307          112           81\n",
      "14           500           307          112           81\n",
      "15           500           307          112           81\n",
      "16           466           286           98           82\n",
      "17           466           286           98           82\n",
      "18           500           307          112           81\n",
      "19           500           307          112           81\n",
      "20           500           307          112           81\n",
      "21           500           307          112           81\n",
      "22           464           284           98           82\n",
      "23           500           307          112           81\n",
      "24           482           302          100           80\n",
      "25           479           301           98           80\n",
      "26           479           301           98           80\n",
      "27           479           301           98           80\n",
      "28           479           301           98           80\n",
      "29           479           301           98           80\n",
      "30           449           301           92           56\n",
      "31           444           301           91           52\n",
      "32           444           301           91           52\n",
      "33           418           282           80           56\n",
      "34           474           300           97           77\n",
      "35           479           300           98           81\n",
      "36           479           300           98           81\n",
      "37           497           306          110           81\n",
      "38           500           307          112           81\n",
      "39           500           307          112           81\n",
      "40           500           307          112           81\n",
      "41           500           307          112           81\n",
      "42           500           307          112           81\n",
      "43           520           327          116           77\n",
      "44           559           379          111           69\n",
      "45           500           307          112           81\n",
      "46           500           307          112           81\n",
      "47           500           307          112           81\n",
      "48           500           307          112           81\n",
      "49           464           284           98           82\n",
      "50           263           135           78           50\n",
      "51           371           180          110           81\n",
      "52           330           162           86           82\n"
     ]
    }
   ],
   "source": [
    "print(result)"
   ]
  },
  {
   "cell_type": "code",
   "execution_count": null,
   "id": "11458757",
   "metadata": {},
   "outputs": [],
   "source": []
  }
 ],
 "metadata": {
  "kernelspec": {
   "display_name": "Python 3 (ipykernel)",
   "language": "python",
   "name": "python3"
  },
  "language_info": {
   "codemirror_mode": {
    "name": "ipython",
    "version": 3
   },
   "file_extension": ".py",
   "mimetype": "text/x-python",
   "name": "python",
   "nbconvert_exporter": "python",
   "pygments_lexer": "ipython3",
   "version": "3.9.18"
  }
 },
 "nbformat": 4,
 "nbformat_minor": 5
}
