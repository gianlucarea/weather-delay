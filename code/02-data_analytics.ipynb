{
 "cells": [
  {
   "cell_type": "markdown",
   "id": "26e73b8d",
   "metadata": {},
   "source": [
    "# Import"
   ]
  },
  {
   "cell_type": "code",
   "execution_count": 1,
   "id": "e0a938db",
   "metadata": {},
   "outputs": [],
   "source": [
    "import pandas as pd\n",
    "import gtfs_kit as gk\n",
    "import warnings\n",
    "import helper\n",
    "import matplotlib.pyplot as plt\n",
    "import seaborn as sns\n",
    "import numpy as np\n",
    "\n",
    "from sklearn.preprocessing import LabelEncoder\n",
    "from scipy.stats import pointbiserialr\n",
    "\n",
    "from sklearn.ensemble import RandomForestClassifier\n",
    "import joblib\n",
    "\n",
    "warnings.simplefilter(action='ignore', category=pd.errors.SettingWithCopyWarning)"
   ]
  },
  {
   "cell_type": "markdown",
   "id": "0bd17c43",
   "metadata": {},
   "source": [
    "# Load Datasets"
   ]
  },
  {
   "cell_type": "code",
   "execution_count": 2,
   "id": "324a8f75",
   "metadata": {},
   "outputs": [],
   "source": [
    "# Load the gtfs we generated with the various csv file created in the preprocessing\n",
    "feed = gk.feed.read_feed('../processed_files/preprocessing_gtfs_static.zip',dist_units=\"km\")\n",
    "stop_times = feed.get_stop_times()\n",
    "gtfs_static_stats = stop_times.copy()\n",
    "\n",
    "# Load complete gtfs static - delays and weather dataset\n",
    "main_dataset = pd.read_csv(\"../processed_files/main_dataset.csv\", index_col=[0])\n",
    "main_dataset = main_dataset.assign(isArrivoRitardo=None)\n",
    "main_dataset = main_dataset.assign(isPartenzaRitardo=None)"
   ]
  },
  {
   "cell_type": "code",
   "execution_count": null,
   "id": "7f206fad",
   "metadata": {},
   "outputs": [],
   "source": [
    "for index,row in main_dataset.iterrows():\n",
    "    if (row['ritardo_arrivo'] > 3):\n",
    "        main_dataset.loc[index,'isArrivoRitardo'] = 1\n",
    "    else:\n",
    "        main_dataset.loc[index,'isArrivoRitardo'] = 0\n",
    "    if (row['ritardo_partenza'] > 3):\n",
    "        main_dataset.loc[index,'isPartenzaRitardo'] = 1\n",
    "    else:\n",
    "        main_dataset.loc[index,'isPartenzaRitardo'] = 0"
   ]
  },
  {
   "cell_type": "code",
   "execution_count": null,
   "id": "e8109415",
   "metadata": {},
   "outputs": [],
   "source": [
    "#Drop Columns\n",
    "main_dataset = main_dataset.drop(['ritardo_arrivo',                              \n",
    "                                 ], axis=1)"
   ]
  },
  {
   "cell_type": "markdown",
   "id": "85409e2c",
   "metadata": {},
   "source": [
    "# Basic - Statistics"
   ]
  },
  {
   "cell_type": "code",
   "execution_count": null,
   "id": "b609a10d",
   "metadata": {},
   "outputs": [],
   "source": [
    "gtfs_static_stats.describe()"
   ]
  },
  {
   "cell_type": "markdown",
   "id": "fa445b29",
   "metadata": {},
   "source": [
    "## Stops"
   ]
  },
  {
   "cell_type": "code",
   "execution_count": null,
   "id": "59829a98",
   "metadata": {},
   "outputs": [],
   "source": [
    "# Distribution of number of stops in the dataset\n",
    "plt.title('Distribution of the no. stops in the dataset')\n",
    "plt.hist(gtfs_static_stats.stop_sequence)\n",
    "plt.xlabel('No. Stops')\n",
    "plt.ylabel('Frequency')\n",
    "plt.savefig('../images/data_analytics_images/stop_sequence_gtfs_static_statistics.png')\n",
    "plt.show()\n",
    "# Box Plot\n",
    "plt.boxplot(gtfs_static_stats.stop_sequence)\n",
    "plt.title('No. stops per trip')\n",
    "plt.savefig('../images/data_analytics_images/stop_sequence_gtfs_static_box_plot.png')\n",
    "plt.show()"
   ]
  },
  {
   "cell_type": "code",
   "execution_count": null,
   "id": "f6b72842",
   "metadata": {},
   "outputs": [],
   "source": [
    "# Analytics on number of stop per trip\n",
    "result = helper.calculate_stops(gtfs_static_stats)\n",
    "result.head(30)"
   ]
  },
  {
   "cell_type": "code",
   "execution_count": null,
   "id": "25527e89",
   "metadata": {},
   "outputs": [],
   "source": [
    "plt.title('N. trips for last stop_sequence')\n",
    "# Plot total \n",
    "plt.plot(result['last_stop_sequence'], result['value'], color='r')\n",
    "plt.xlabel('last_stop_sequence')\n",
    "plt.ylabel('value')\n",
    "plt.savefig('../images/data_analytics_images/number_stops_gtfs_static_plot.png')\n",
    "plt.show()"
   ]
  },
  {
   "cell_type": "markdown",
   "id": "567c96ec",
   "metadata": {},
   "source": [
    "## Time"
   ]
  },
  {
   "cell_type": "code",
   "execution_count": null,
   "id": "f7dcdc19",
   "metadata": {},
   "outputs": [],
   "source": [
    "# Distribution of time in the dataset\n",
    "plt.title('Distribution of time between stops')\n",
    "plt.hist(gtfs_static_stats.time_diff)\n",
    "plt.xlabel('Time Difference (h)')\n",
    "plt.ylabel('Frequency')\n",
    "plt.savefig('../images/data_analytics_images/time_gtfs_static_plot.png')\n",
    "plt.show()"
   ]
  },
  {
   "cell_type": "code",
   "execution_count": null,
   "id": "c7000d14",
   "metadata": {},
   "outputs": [],
   "source": [
    "plt.boxplot(gtfs_static_stats.time_diff)\n",
    "plt.title('Time Diff')\n",
    "plt.ylabel(\"seconds (s)\")\n",
    "plt.savefig('../images/data_analytics_images/time_gtfs_static_box_plot.png')\n",
    "plt.show()"
   ]
  },
  {
   "cell_type": "markdown",
   "id": "93cc4f26",
   "metadata": {},
   "source": [
    "## Distance"
   ]
  },
  {
   "cell_type": "code",
   "execution_count": null,
   "id": "3071cf00",
   "metadata": {},
   "outputs": [],
   "source": [
    "# Distribution of distance in the dataset\n",
    "plt.title('Distribution of distance between stops')\n",
    "plt.hist(gtfs_static_stats.dist_diff)\n",
    "plt.xlabel('Distance Difference (km)')\n",
    "plt.ylabel('Frequency')\n",
    "plt.savefig('../images/data_analytics_images/distance_gtfs_static_plot.png')\n",
    "plt.show()"
   ]
  },
  {
   "cell_type": "code",
   "execution_count": null,
   "id": "2ae372a8",
   "metadata": {},
   "outputs": [],
   "source": [
    "plt.boxplot(gtfs_static_stats.dist_diff)\n",
    "plt.title('Distance Diff')\n",
    "plt.ylabel(\"Kilometers (km)\")\n",
    "plt.savefig('../images/data_analytics_images/distance_gtfs_static_box_plot.png')\n",
    "plt.show()"
   ]
  },
  {
   "cell_type": "markdown",
   "id": "452c12dc",
   "metadata": {},
   "source": [
    "## Speed"
   ]
  },
  {
   "cell_type": "code",
   "execution_count": null,
   "id": "315bd2d5",
   "metadata": {},
   "outputs": [],
   "source": [
    "# Distribution of number of stops in the dataset\n",
    "plt.title('Distribution of speed between stops')\n",
    "plt.hist(gtfs_static_stats.speed)\n",
    "plt.xlabel('Speed (km/h)')\n",
    "plt.ylabel('Frequency')\n",
    "plt.savefig('../images/data_analytics_images/speed_gtfs_static_plot.png')\n",
    "plt.show()"
   ]
  },
  {
   "cell_type": "code",
   "execution_count": null,
   "id": "7289541d",
   "metadata": {},
   "outputs": [],
   "source": [
    "plt.boxplot(gtfs_static_stats.speed)\n",
    "plt.title('Speed')\n",
    "plt.ylabel(\"Kilometer per hour (km/h)\")\n",
    "plt.savefig('../images/data_analytics_images/speed_gtfs_static_box_plot.png')\n",
    "plt.show()\n"
   ]
  },
  {
   "cell_type": "markdown",
   "id": "c7a029ac",
   "metadata": {},
   "source": [
    "## Corr Speed Time and Distance"
   ]
  },
  {
   "cell_type": "code",
   "execution_count": null,
   "id": "6211d7dc",
   "metadata": {},
   "outputs": [],
   "source": [
    "df_corr = helper.dataset_for_scatter(stop_times)\n"
   ]
  },
  {
   "cell_type": "code",
   "execution_count": null,
   "id": "d4518d12",
   "metadata": {},
   "outputs": [],
   "source": [
    "helper.correlogram_time_distance_speed(df_corr)"
   ]
  },
  {
   "cell_type": "markdown",
   "id": "758fa191",
   "metadata": {},
   "source": [
    "## Year Analytics"
   ]
  },
  {
   "cell_type": "code",
   "execution_count": null,
   "id": "8036ce83",
   "metadata": {
    "scrolled": true
   },
   "outputs": [],
   "source": [
    "year_stats = helper.select_year_df('20210103','20220102')"
   ]
  },
  {
   "cell_type": "code",
   "execution_count": null,
   "id": "9b86108d",
   "metadata": {},
   "outputs": [],
   "source": [
    "year_stats = year_stats.groupby(['trip_id','service_id','date']).max('stop_sequence').reset_index()\n",
    "week_division_dates = helper.calendar_2021()\n",
    "\n",
    "result = pd.DataFrame(columns=['corse_totali', 'corse_veloci', 'corse_medie', 'corse_lente'], index=range(len(week_division_dates)-1)).fillna(0)\n",
    "result.index += 1\n",
    "\n",
    "#REGOLARE NUMERI CLUSTERING (Veloci , Medi, Lenti)\n",
    "for i in range(len(week_division_dates)-1):\n",
    "    ## Collecting all service date of trips on those days\n",
    "    temp_analytics = year_stats.loc[(year_stats['date'] >= week_division_dates[i]) &\n",
    "                                       (year_stats['date'] < week_division_dates[i+1])]\n",
    "    for index, row  in temp_analytics.iterrows():\n",
    "        result.at[i+1,'corse_totali'] += 1\n",
    "        if(row.stop_sequence <= 5):\n",
    "            result.at[i+1,'corse_veloci'] += 1\n",
    "        if(row.stop_sequence > 5 and row.stop_sequence <= 10):\n",
    "            result.at[i+1,'corse_medie'] += 1\n",
    "        if(row.stop_sequence > 10):\n",
    "            result.at[i+1,'corse_lente'] += 1"
   ]
  },
  {
   "cell_type": "code",
   "execution_count": null,
   "id": "34d300a0",
   "metadata": {},
   "outputs": [],
   "source": [
    "# Plot total \n",
    "plt.bar(result.index, result['corse_totali'], color='b')\n",
    "plt.show()"
   ]
  },
  {
   "cell_type": "code",
   "execution_count": null,
   "id": "c4829475",
   "metadata": {},
   "outputs": [],
   "source": [
    "plt.bar(result.index, result['corse_veloci'], color='r')\n",
    "plt.bar(result.index, result['corse_medie'], bottom=result['corse_veloci'], color='y')\n",
    "plt.bar(result.index, result['corse_lente'],bottom=result['corse_veloci']+result['corse_medie'], color='g')\n",
    "plt.show()\n"
   ]
  },
  {
   "cell_type": "markdown",
   "id": "65525739",
   "metadata": {},
   "source": [
    "# Advanced - Statistics\n"
   ]
  },
  {
   "cell_type": "code",
   "execution_count": null,
   "id": "00429f5f",
   "metadata": {},
   "outputs": [],
   "source": [
    "main_dataset.info()"
   ]
  },
  {
   "cell_type": "code",
   "execution_count": null,
   "id": "bd639c8f",
   "metadata": {},
   "outputs": [],
   "source": [
    "main_dataset = main_dataset.round({'temperature':0,'speed':0,'wind_speed':0,'temperature_linea':0,\n",
    "                                  'app_temp_linea':0,'wind_dir_10m_linea':0,'soil_temperature_linea':0 ,\n",
    "                                  'wind_gusts_linea':0, 'wind_dir_100m_linea':0 ,'wind_speed_100m_linea':0,\n",
    "                                  'wind_speed_10m_linea':0, 'wmo_code_linea':0 , 'humidity_linea':0}) "
   ]
  },
  {
   "cell_type": "code",
   "execution_count": null,
   "id": "b101a2ac",
   "metadata": {},
   "outputs": [],
   "source": [
    "# Point Biserial Correlation \n",
    "# encode categorical data into numeric values\n",
    "labelEncoder = LabelEncoder()\n",
    "main_dataset[\"trip_id\"] = labelEncoder.fit_transform(main_dataset[\"trip_id\"])\n",
    "main_dataset[\"codice_stazione\"] = labelEncoder.fit_transform(main_dataset[\"codice_stazione\"])\n",
    "main_dataset[\"orario_arrivo\"] = labelEncoder.fit_transform(main_dataset[\"orario_arrivo\"])\n",
    "main_dataset[\"orario_partenza\"] = labelEncoder.fit_transform(main_dataset[\"orario_partenza\"])\n",
    "main_dataset[\"orario\"] = labelEncoder.fit_transform(main_dataset[\"orario\"])\n",
    "main_dataset[\"time\"] = labelEncoder.fit_transform(main_dataset[\"time\"])\n",
    "\n",
    "# get continuous and dichotomous data\n",
    "categorical = [\"trip_id\", \"arrival_time\", \"departure_time\", \"codice_stazione\", \"stop_sequence\",\n",
    "               \"shape_dist_traveled\", \"time_diff\",\"speed\",\"dist_diff\",\"codice\",\"direction_id\",\n",
    "               \"data_giorno\",\"stop_lat\",\"stop_lon\",\"stop_code\",\"ritardo_partenza\",\n",
    "               \"orario_arrivo\",\"orario_partenza\",\n",
    "               \"orario\",\"location_id\",\"time\",\"temperature\",\"humidity\",\"app_temp\",\"precipitation\",\n",
    "               \"rain\",\"snow_fall\",\"snow_depth\",\"wmo_code\",\"wind_speed_10m\",\"wind_speed_100m\",\n",
    "               \"wind_dir_10m\",\"wind_dir_100m\",\"wind_gusts\",\"soil_temperature\",\n",
    "               \"temperature_linea\",\"humidity_linea\",\"app_temp_linea\",\"precipitation_linea\",\n",
    "               \"rain_linea\",\"snow_fall_linea\",\"snow_depth_linea\",\"wmo_code_linea\",\"wind_speed_10m_linea\",\n",
    "               \"wind_speed_100m_linea\",\"wind_dir_10m_linea\",\"wind_dir_100m_linea\",\"wind_gusts_linea\",\n",
    "               \"soil_temperature_linea\",\"isPartenzaRitardo\",\"isArrivoRitardo\"]\n",
    "numeric = [\"arrival_time\", \"departure_time\",\"stop_sequence\",\n",
    "               \"shape_dist_traveled\", \"time_diff\",\"speed\",\"dist_diff\",\"codice\",\"direction_id\",\n",
    "               \"data_giorno\",\"stop_lat\",\"stop_lon\",\"stop_code\",\"ritardo_partenza\",\n",
    "               \"location_id\",\"temperature\",\"humidity\",\"app_temp\",\"precipitation\",\n",
    "               \"rain\",\"snow_fall\",\"snow_depth\",\"wmo_code\",\"wind_speed_10m\",\"wind_speed_100m\",\n",
    "               \"wind_dir_10m\",\"wind_dir_100m\",\"wind_gusts\",\"soil_temperature\",\n",
    "               \"temperature_linea\",\"humidity_linea\",\"app_temp_linea\",\"precipitation_linea\",\n",
    "               \"rain_linea\",\"snow_fall_linea\",\"snow_depth_linea\",\"wmo_code_linea\",\"wind_speed_10m_linea\",\n",
    "               \"wind_speed_100m_linea\",\"wind_dir_10m_linea\",\"wind_dir_100m_linea\",\"wind_gusts_linea\",\n",
    "               \"soil_temperature_linea\",\"isPartenzaRitardo\",\"isArrivoRitardo\"]\n",
    "target = main_dataset[\"isArrivoRitardo\"]\n",
    "\n",
    "# pbc of first question\n",
    "pbc = list()\n",
    "for col in numeric:\n",
    "    ans = pointbiserialr(main_dataset[col], target)\n",
    "    pbc.append([col, ans[0], ans[1]])\n",
    "    \n",
    "pbc_corr = pd.DataFrame(pbc, columns=[\"Feature\", \"CorrCoeff\", \"pValue\"]).sort_values(by=\"CorrCoeff\", ascending=False).reset_index(drop=True)\n",
    "pbc_corr"
   ]
  },
  {
   "cell_type": "code",
   "execution_count": null,
   "id": "e8fa0717",
   "metadata": {},
   "outputs": [],
   "source": [
    "# Point biserial correlation\n",
    "\n",
    "plt.figure(figsize=(7, 15))\n",
    "pbc_corr = pbc_corr.set_index(\"Feature\")\n",
    "heatmap = sns.heatmap(pbc_corr[[\"CorrCoeff\"]].sort_values(by=\"CorrCoeff\", ascending=False), vmin=-1, vmax=1, annot=True, cmap=\"BrBG\")\n",
    "heatmap.set_title(\"PBC with ritardo_arrivo\", fontdict={\"fontsize\":18}, pad=16);\n",
    "plt.savefig(\"../images/data_analytics_images/pointbiserial_correlation.png\")\n",
    "del pbc_corr"
   ]
  },
  {
   "cell_type": "code",
   "execution_count": null,
   "id": "24834748",
   "metadata": {},
   "outputs": [],
   "source": [
    "# Spearman correlation\n",
    "plt.figure(figsize=(7, 15))\n",
    "heatmap = sns.heatmap(main_dataset[categorical].corr(method=\"spearman\")[[\"isArrivoRitardo\"]].sort_values(by=\"isArrivoRitardo\", ascending=False), vmin=-1, vmax=1, annot=True, cmap=\"BrBG\")\n",
    "heatmap.set_title(\"Spearman Correlations with ritardo_arrivo\", fontdict={\"fontsize\":18}, pad=16)\n",
    "plt.savefig(\"../images/data_analytics_images/spearman_correlation.png\")\n",
    "del heatmap"
   ]
  },
  {
   "cell_type": "code",
   "execution_count": null,
   "id": "d490c672",
   "metadata": {},
   "outputs": [],
   "source": [
    "#Drop Columns\n",
    "main_dataset_dropped = main_dataset.drop(['trip_id','arrival_time','departure_time',\n",
    "                                          'orario','orario_partenza','codice_stazione','temperature',\n",
    "                                          'temperature_linea','app_temp_linea','wind_dir_10m_linea',\n",
    "                                          'snow_fall_linea','snow_fall','snow_depth','snow_depth_linea','stop_lat',\n",
    "                                          'codice','time','location_id','app_temp'\n",
    "                                          \n",
    "                                 ], axis=1)"
   ]
  },
  {
   "cell_type": "code",
   "execution_count": null,
   "id": "9b5a8efa",
   "metadata": {},
   "outputs": [],
   "source": []
  },
  {
   "cell_type": "code",
   "execution_count": null,
   "id": "441c895d",
   "metadata": {},
   "outputs": [],
   "source": [
    "main_dataset_dropped[\"isArrivoRitardo\"] = main_dataset_dropped[\"isArrivoRitardo\"].astype(float)\n",
    "main_dataset_dropped[\"isPartenzaRitardo\"] = main_dataset_dropped[\"isPartenzaRitardo\"].astype(float)"
   ]
  },
  {
   "cell_type": "code",
   "execution_count": null,
   "id": "c0d5da5c",
   "metadata": {
    "scrolled": true
   },
   "outputs": [],
   "source": [
    "X = main_dataset_dropped.loc[:, main_dataset_dropped.columns != \"isArrivoRitardo\"]\n",
    "y = np.array(main_dataset_dropped.loc[:, main_dataset_dropped.columns == \"isArrivoRitardo\"][\"isArrivoRitardo\"])\n",
    "\n",
    "model = RandomForestClassifier(n_estimators=100,\n",
    "                       criterion=\"entropy\", random_state=42, n_jobs=-1)\n",
    "\n",
    "model.fit(X, y)\n",
    "\n",
    "joblib.dump(model, \"./Data/feature_importance_model.joblib\")\n",
    "model = joblib.load(\"./Data/feature_importance_model.joblib\")\n",
    "importances = model.feature_importances_\n",
    "importances"
   ]
  },
  {
   "cell_type": "code",
   "execution_count": null,
   "id": "5f067abf",
   "metadata": {},
   "outputs": [],
   "source": [
    "importances = pd.DataFrame({\n",
    "    \"Feature\": list(X.columns),\n",
    "    \"Importance\": model.feature_importances_\n",
    "})\n",
    "importances = importances.sort_values(by=\"Importance\", ascending=False)\n",
    "importances = importances.set_index(\"Feature\")\n",
    "importances\n",
    "plt.figure(figsize=(8, 18), dpi=80)\n",
    "plt.barh(importances.index, importances.Importance)\n",
    "plt.title(\"Feature Importance Ranking obtained from Random Forest Classifier\", fontsize=12)\n",
    "plt.xlabel(\"Importances\")\n",
    "plt.ylabel(\"Features\")\n",
    "plt.savefig(\"../images/data_analytics_images/Feature_Importances_stat.png\")"
   ]
  },
  {
   "cell_type": "markdown",
   "id": "4eef7dd2",
   "metadata": {},
   "source": [
    "# Balance of the Dataset "
   ]
  },
  {
   "cell_type": "code",
   "execution_count": null,
   "id": "c3ba1df1",
   "metadata": {},
   "outputs": [],
   "source": [
    "# Plotting the percentage of observations that fall under each class\n",
    "ax = main_dataset_dropped[\"isArrivoRitardo\"].value_counts().sort_values().plot(kind=\"barh\", color=[\"r\", \"g\"])\n",
    "totals= []\n",
    "for i in ax.patches:\n",
    "    totals.append(i.get_width())\n",
    "total = sum(totals)\n",
    "for i in ax.patches:\n",
    "     ax.text(i.get_width()+.3, i.get_y()+.20, \n",
    "     str(round((i.get_width()/total)*100, 2))+'%', \n",
    "     fontsize=10, color='black')\n",
    "plt.title(\"isArrivoRitardo\", fontsize=20)\n",
    "plt.xlabel(\"Count\", fontsize=14)\n",
    "plt.ylabel(\"Class\", fontsize=14)\n",
    "plt.show()\n",
    "print(main_dataset_dropped[\"isArrivoRitardo\"].value_counts())\n",
    "fig = ax.get_figure()\n",
    "fig.savefig(\"../images/data_analytics_images/imbalance.png\")"
   ]
  },
  {
   "cell_type": "code",
   "execution_count": null,
   "id": "d040e5fa",
   "metadata": {},
   "outputs": [],
   "source": [
    "#Save dataset_for_classification\n",
    "main_dataset_dropped.to_csv('../processed_files/df_for_classification.csv')"
   ]
  },
  {
   "cell_type": "code",
   "execution_count": null,
   "id": "a8e3c6be",
   "metadata": {},
   "outputs": [],
   "source": []
  }
 ],
 "metadata": {
  "kernelspec": {
   "display_name": "Python 3 (ipykernel)",
   "language": "python",
   "name": "python3"
  },
  "language_info": {
   "codemirror_mode": {
    "name": "ipython",
    "version": 3
   },
   "file_extension": ".py",
   "mimetype": "text/x-python",
   "name": "python",
   "nbconvert_exporter": "python",
   "pygments_lexer": "ipython3",
   "version": "3.11.5"
  }
 },
 "nbformat": 4,
 "nbformat_minor": 5
}
