{
 "cells": [
  {
   "cell_type": "code",
   "execution_count": 1,
   "id": "bf4a6946",
   "metadata": {},
   "outputs": [],
   "source": [
    "import pandas as pd\n",
    "import gtfs_kit as gk\n",
    "import matplotlib as mpl\n",
    "import matplotlib.pyplot as plt\n",
    "import helper #homemade function file helper.py\n",
    "import numpy as np\n"
   ]
  },
  {
   "cell_type": "code",
   "execution_count": 2,
   "id": "374a1bf4",
   "metadata": {},
   "outputs": [],
   "source": [
    "feed = gk.feed.read_feed('../general_data_analytics.zip',dist_units=\"km\")"
   ]
  },
  {
   "cell_type": "code",
   "execution_count": 3,
   "id": "665de0c1",
   "metadata": {},
   "outputs": [],
   "source": [
    "routes = gk.routes.get_routes(feed)\n",
    "stop_times = feed.get_stop_times()\n",
    "trips = feed.get_trips()\n",
    "stops = feed.get_stops()\n",
    "shapes = feed.shapes\n",
    "calendar_dates = feed.calendar_dates\n",
    "calendar = feed.calendar"
   ]
  },
  {
   "cell_type": "markdown",
   "id": "dc2dd8cc",
   "metadata": {},
   "source": [
    "# Collecting a single week data"
   ]
  },
  {
   "cell_type": "markdown",
   "id": "f5998811",
   "metadata": {},
   "source": [
    "## Select trips between Mon 02-Oct-2023 and 08-Oct-2023\n"
   ]
  },
  {
   "cell_type": "code",
   "execution_count": 4,
   "id": "bcaf67fc",
   "metadata": {
    "scrolled": true
   },
   "outputs": [],
   "source": [
    "## Collecting all service date of trips on those days\n",
    "sw_calendar_dates = calendar_dates.loc[(calendar_dates['date'] == '20231002') | \n",
    "                                    (calendar_dates['date'] == '20231003') |\n",
    "                                    (calendar_dates['date'] == '20231004') |\n",
    "                                    (calendar_dates['date'] == '20231005') |\n",
    "                                    (calendar_dates['date'] == '20231006') |\n",
    "                                    (calendar_dates['date'] == '20231007') |\n",
    "                                    (calendar_dates['date'] == '20231008') ]\n"
   ]
  },
  {
   "cell_type": "code",
   "execution_count": 5,
   "id": "532f5282",
   "metadata": {},
   "outputs": [],
   "source": [
    "# Removing data outside the selected week \n",
    "\n",
    "## Creating new calendar and collect service date from previous new calendar_dates with drop duplicates\n",
    "sw_calendar = calendar.iloc[0:0]\n",
    "service_id_list = list(dict.fromkeys( sw_calendar_dates['service_id']))\n",
    "\n",
    "for service_id in service_id_list:\n",
    "    row  = calendar.loc[calendar['service_id'] == service_id]\n",
    "    sw_calendar = pd.concat([sw_calendar, row],\n",
    "                      ignore_index = True)\n",
    "\n",
    "## Creating new trips dataframe and collect trips using the list of service id\n",
    "sw_trips = trips.iloc[0:0]\n",
    "\n",
    "for service_id in service_id_list:\n",
    "    row  = trips.loc[trips['service_id'] == service_id]\n",
    "    sw_trips = pd.concat([sw_trips, row],\n",
    "                      ignore_index = True)\n",
    "    \n",
    "## Creating list of shapes_id,route_id,trips_id from sw_trips\n",
    "route_id_list = list(dict.fromkeys(sw_trips['route_id']))\n",
    "shape_id_list = list(dict.fromkeys(sw_trips['shape_id']))\n",
    "trip_id_list = list(dict.fromkeys(sw_trips['trip_id']))\n",
    "\n",
    "## Creating new route dataframe\n",
    "sw_routes = routes.iloc[0:0]\n",
    "\n",
    "for route_id in route_id_list:\n",
    "    row = routes.loc[routes['route_id']==route_id]\n",
    "    sw_routes = pd.concat([sw_routes,row],ignore_index=True)\n",
    "\n",
    "## Creating new shape dataframe\n",
    "sw_shapes = shapes.iloc[0:0]\n",
    "\n",
    "for shape_id in shape_id_list:\n",
    "    row = shapes.loc[shapes['shape_id']==shape_id]\n",
    "    sw_shapes = pd.concat([sw_shapes, row],ignore_index = True)\n",
    "\n",
    "## Creating new stop_times dataframe\n",
    "sw_stop_times = stop_times.iloc[0:0]\n",
    "\n",
    "for trip_id in trip_id_list:\n",
    "    row = stop_times.loc[stop_times['trip_id'] == trip_id]\n",
    "    sw_stop_times = pd.concat([sw_stop_times,row],ignore_index = True)\n",
    "stop_id_list = list(dict.fromkeys(sw_stop_times['stop_id']))\n",
    "\n",
    "## Creating new stop dataframe, should be equal at this point \n",
    "## but we do it for safe reasons\n",
    "sw_stops = stops.iloc[0:0]\n",
    "\n",
    "for stop_id in stop_id_list:\n",
    "    row = stops.loc[stops['stop_id']==stop_id]\n",
    "    sw_stops = pd.concat([sw_stops,row],ignore_index = True)"
   ]
  },
  {
   "cell_type": "code",
   "execution_count": 6,
   "id": "66036d07",
   "metadata": {},
   "outputs": [
    {
     "data": {
      "text/html": [
       "<div>\n",
       "<style scoped>\n",
       "    .dataframe tbody tr th:only-of-type {\n",
       "        vertical-align: middle;\n",
       "    }\n",
       "\n",
       "    .dataframe tbody tr th {\n",
       "        vertical-align: top;\n",
       "    }\n",
       "\n",
       "    .dataframe thead th {\n",
       "        text-align: right;\n",
       "    }\n",
       "</style>\n",
       "<table border=\"1\" class=\"dataframe\">\n",
       "  <thead>\n",
       "    <tr style=\"text-align: right;\">\n",
       "      <th></th>\n",
       "      <th>Name</th>\n",
       "      <th>Initial</th>\n",
       "      <th>Updated</th>\n",
       "      <th>Difference</th>\n",
       "    </tr>\n",
       "  </thead>\n",
       "  <tbody>\n",
       "    <tr>\n",
       "      <th>0</th>\n",
       "      <td>Routes</td>\n",
       "      <td>(3, 7)</td>\n",
       "      <td>(1, 7)</td>\n",
       "      <td>(2, 0)</td>\n",
       "    </tr>\n",
       "    <tr>\n",
       "      <th>1</th>\n",
       "      <td>Stops</td>\n",
       "      <td>(28, 6)</td>\n",
       "      <td>(28, 6)</td>\n",
       "      <td>(0, 0)</td>\n",
       "    </tr>\n",
       "    <tr>\n",
       "      <th>2</th>\n",
       "      <td>Trips</td>\n",
       "      <td>(1149, 7)</td>\n",
       "      <td>(70, 7)</td>\n",
       "      <td>(1079, 0)</td>\n",
       "    </tr>\n",
       "    <tr>\n",
       "      <th>3</th>\n",
       "      <td>Stop_Times</td>\n",
       "      <td>(12497, 9)</td>\n",
       "      <td>(893, 9)</td>\n",
       "      <td>(11604, 0)</td>\n",
       "    </tr>\n",
       "    <tr>\n",
       "      <th>5</th>\n",
       "      <td>Calendar</td>\n",
       "      <td>(201, 10)</td>\n",
       "      <td>(18, 10)</td>\n",
       "      <td>(183, 0)</td>\n",
       "    </tr>\n",
       "    <tr>\n",
       "      <th>6</th>\n",
       "      <td>Calendar_Dates</td>\n",
       "      <td>(28260, 2)</td>\n",
       "      <td>(84, 2)</td>\n",
       "      <td>(28176, 0)</td>\n",
       "    </tr>\n",
       "  </tbody>\n",
       "</table>\n",
       "</div>"
      ],
      "text/plain": [
       "             Name     Initial   Updated  Difference\n",
       "0          Routes      (3, 7)    (1, 7)      (2, 0)\n",
       "1           Stops     (28, 6)   (28, 6)      (0, 0)\n",
       "2           Trips   (1149, 7)   (70, 7)   (1079, 0)\n",
       "3      Stop_Times  (12497, 9)  (893, 9)  (11604, 0)\n",
       "5        Calendar   (201, 10)  (18, 10)    (183, 0)\n",
       "6  Calendar_Dates  (28260, 2)   (84, 2)  (28176, 0)"
      ]
     },
     "execution_count": 6,
     "metadata": {},
     "output_type": "execute_result"
    }
   ],
   "source": [
    "# Check value change\n",
    "subtracted_dimensions = pd.DataFrame(columns=[\"Name\",\"Initial\",\"Updated\",\"Difference\"])\n",
    "\n",
    "res = tuple(map(lambda i, j: i - j, routes.shape, sw_routes.shape))\n",
    "subtracted_dimensions.loc[0] = [\"Routes\",routes.shape, sw_routes.shape, res]\n",
    "\n",
    "res = tuple(map(lambda i, j: i - j, stops.shape, sw_stops.shape))\n",
    "subtracted_dimensions.loc[1] = [\"Stops\",stops.shape, sw_stops.shape, res]\n",
    "\n",
    "res = tuple(map(lambda i, j: i - j, trips.shape, sw_trips.shape))\n",
    "subtracted_dimensions.loc[2] = [\"Trips\",trips.shape, sw_trips.shape, res]\n",
    "\n",
    "res = tuple(map(lambda i, j: i - j, stop_times.shape,sw_stop_times.shape))\n",
    "subtracted_dimensions.loc[3] = [\"Stop_Times\",stop_times.shape, sw_stop_times.shape, res]\n",
    "\n",
    "res = tuple(map(lambda i, j: i - j, calendar.shape, sw_calendar.shape))\n",
    "subtracted_dimensions.loc[5] = [\"Calendar\",calendar.shape, sw_calendar.shape, res]\n",
    "\n",
    "res = tuple(map(lambda i, j: i - j, calendar_dates.shape, sw_calendar_dates.shape))\n",
    "subtracted_dimensions.loc[6] = [\"Calendar_Dates\",calendar_dates.shape, sw_calendar_dates.shape, res]\n",
    "\n",
    "subtracted_dimensions"
   ]
  },
  {
   "cell_type": "code",
   "execution_count": 7,
   "id": "456afc53",
   "metadata": {},
   "outputs": [
    {
     "name": "stdout",
     "output_type": "stream",
     "text": [
      "N. on monday trips 16\n",
      "N. on tuesday trips 13\n",
      "N. on wednesday trips 13\n",
      "N. on thursday trips 13\n",
      "N. on friday trips 16\n",
      "N. on saturday trips 12\n",
      "N. on sunday trips 7\n"
     ]
    }
   ],
   "source": [
    "print(\"N. on monday service \" + str(sum(sw_calendar['monday'])))\n",
    "print(\"N. on tuesday service \" + str(sum(sw_calendar['tuesday'])))\n",
    "print(\"N. on wednesday service \" + str(sum(sw_calendar['wednesday'])))\n",
    "print(\"N. on thursday service \" + str(sum(sw_calendar['thursday'])))\n",
    "print(\"N. on friday service \" + str(sum(sw_calendar['friday'])))\n",
    "print(\"N. on saturday service \" + str(sum(sw_calendar['saturday'])))\n",
    "print(\"N. on sunday service \" + str(sum(sw_calendar['sunday'])))"
   ]
  },
  {
   "cell_type": "markdown",
   "id": "0a3ef001",
   "metadata": {},
   "source": [
    "# We performe data analytics on the monday"
   ]
  },
  {
   "cell_type": "code",
   "execution_count": 8,
   "id": "847961eb",
   "metadata": {},
   "outputs": [
    {
     "data": {
      "text/html": [
       "<div>\n",
       "<style scoped>\n",
       "    .dataframe tbody tr th:only-of-type {\n",
       "        vertical-align: middle;\n",
       "    }\n",
       "\n",
       "    .dataframe tbody tr th {\n",
       "        vertical-align: top;\n",
       "    }\n",
       "\n",
       "    .dataframe thead th {\n",
       "        text-align: right;\n",
       "    }\n",
       "</style>\n",
       "<table border=\"1\" class=\"dataframe\">\n",
       "  <thead>\n",
       "    <tr style=\"text-align: right;\">\n",
       "      <th></th>\n",
       "      <th>service_id</th>\n",
       "      <th>monday</th>\n",
       "      <th>tuesday</th>\n",
       "      <th>wednesday</th>\n",
       "      <th>thursday</th>\n",
       "      <th>friday</th>\n",
       "      <th>saturday</th>\n",
       "      <th>sunday</th>\n",
       "      <th>start_date</th>\n",
       "      <th>end_date</th>\n",
       "    </tr>\n",
       "  </thead>\n",
       "  <tbody>\n",
       "    <tr>\n",
       "      <th>0</th>\n",
       "      <td>4118_237642</td>\n",
       "      <td>1</td>\n",
       "      <td>0</td>\n",
       "      <td>0</td>\n",
       "      <td>0</td>\n",
       "      <td>1</td>\n",
       "      <td>0</td>\n",
       "      <td>1</td>\n",
       "      <td>20221218</td>\n",
       "      <td>20231208</td>\n",
       "    </tr>\n",
       "    <tr>\n",
       "      <th>1</th>\n",
       "      <td>4118_237643</td>\n",
       "      <td>1</td>\n",
       "      <td>1</td>\n",
       "      <td>1</td>\n",
       "      <td>1</td>\n",
       "      <td>1</td>\n",
       "      <td>1</td>\n",
       "      <td>0</td>\n",
       "      <td>20221214</td>\n",
       "      <td>20231209</td>\n",
       "    </tr>\n",
       "    <tr>\n",
       "      <th>2</th>\n",
       "      <td>4118_237644</td>\n",
       "      <td>1</td>\n",
       "      <td>1</td>\n",
       "      <td>1</td>\n",
       "      <td>1</td>\n",
       "      <td>1</td>\n",
       "      <td>1</td>\n",
       "      <td>0</td>\n",
       "      <td>20221214</td>\n",
       "      <td>20231209</td>\n",
       "    </tr>\n",
       "    <tr>\n",
       "      <th>3</th>\n",
       "      <td>4118_237645</td>\n",
       "      <td>1</td>\n",
       "      <td>1</td>\n",
       "      <td>1</td>\n",
       "      <td>1</td>\n",
       "      <td>1</td>\n",
       "      <td>0</td>\n",
       "      <td>0</td>\n",
       "      <td>20221214</td>\n",
       "      <td>20231207</td>\n",
       "    </tr>\n",
       "    <tr>\n",
       "      <th>5</th>\n",
       "      <td>4118_237659</td>\n",
       "      <td>1</td>\n",
       "      <td>1</td>\n",
       "      <td>1</td>\n",
       "      <td>1</td>\n",
       "      <td>1</td>\n",
       "      <td>1</td>\n",
       "      <td>1</td>\n",
       "      <td>20221214</td>\n",
       "      <td>20231209</td>\n",
       "    </tr>\n",
       "    <tr>\n",
       "      <th>6</th>\n",
       "      <td>4118_237651</td>\n",
       "      <td>1</td>\n",
       "      <td>1</td>\n",
       "      <td>1</td>\n",
       "      <td>1</td>\n",
       "      <td>1</td>\n",
       "      <td>1</td>\n",
       "      <td>0</td>\n",
       "      <td>20221214</td>\n",
       "      <td>20231209</td>\n",
       "    </tr>\n",
       "    <tr>\n",
       "      <th>8</th>\n",
       "      <td>4118_237652</td>\n",
       "      <td>1</td>\n",
       "      <td>1</td>\n",
       "      <td>1</td>\n",
       "      <td>1</td>\n",
       "      <td>1</td>\n",
       "      <td>1</td>\n",
       "      <td>0</td>\n",
       "      <td>20221214</td>\n",
       "      <td>20231209</td>\n",
       "    </tr>\n",
       "    <tr>\n",
       "      <th>9</th>\n",
       "      <td>4118_237653</td>\n",
       "      <td>1</td>\n",
       "      <td>0</td>\n",
       "      <td>0</td>\n",
       "      <td>0</td>\n",
       "      <td>1</td>\n",
       "      <td>0</td>\n",
       "      <td>1</td>\n",
       "      <td>20221218</td>\n",
       "      <td>20231208</td>\n",
       "    </tr>\n",
       "    <tr>\n",
       "      <th>10</th>\n",
       "      <td>4118_237661</td>\n",
       "      <td>1</td>\n",
       "      <td>1</td>\n",
       "      <td>1</td>\n",
       "      <td>1</td>\n",
       "      <td>1</td>\n",
       "      <td>1</td>\n",
       "      <td>1</td>\n",
       "      <td>20221214</td>\n",
       "      <td>20231209</td>\n",
       "    </tr>\n",
       "    <tr>\n",
       "      <th>11</th>\n",
       "      <td>4118_237662</td>\n",
       "      <td>1</td>\n",
       "      <td>1</td>\n",
       "      <td>1</td>\n",
       "      <td>1</td>\n",
       "      <td>1</td>\n",
       "      <td>0</td>\n",
       "      <td>0</td>\n",
       "      <td>20221214</td>\n",
       "      <td>20231206</td>\n",
       "    </tr>\n",
       "    <tr>\n",
       "      <th>12</th>\n",
       "      <td>4118_237663</td>\n",
       "      <td>1</td>\n",
       "      <td>1</td>\n",
       "      <td>1</td>\n",
       "      <td>1</td>\n",
       "      <td>1</td>\n",
       "      <td>0</td>\n",
       "      <td>0</td>\n",
       "      <td>20221214</td>\n",
       "      <td>20231207</td>\n",
       "    </tr>\n",
       "    <tr>\n",
       "      <th>13</th>\n",
       "      <td>4118_237664</td>\n",
       "      <td>1</td>\n",
       "      <td>1</td>\n",
       "      <td>1</td>\n",
       "      <td>1</td>\n",
       "      <td>1</td>\n",
       "      <td>1</td>\n",
       "      <td>0</td>\n",
       "      <td>20221214</td>\n",
       "      <td>20231209</td>\n",
       "    </tr>\n",
       "    <tr>\n",
       "      <th>14</th>\n",
       "      <td>4118_237649</td>\n",
       "      <td>1</td>\n",
       "      <td>1</td>\n",
       "      <td>1</td>\n",
       "      <td>1</td>\n",
       "      <td>1</td>\n",
       "      <td>1</td>\n",
       "      <td>0</td>\n",
       "      <td>20221214</td>\n",
       "      <td>20231209</td>\n",
       "    </tr>\n",
       "    <tr>\n",
       "      <th>15</th>\n",
       "      <td>4118_237665</td>\n",
       "      <td>1</td>\n",
       "      <td>1</td>\n",
       "      <td>1</td>\n",
       "      <td>1</td>\n",
       "      <td>1</td>\n",
       "      <td>1</td>\n",
       "      <td>1</td>\n",
       "      <td>20221214</td>\n",
       "      <td>20231209</td>\n",
       "    </tr>\n",
       "    <tr>\n",
       "      <th>16</th>\n",
       "      <td>4118_237655</td>\n",
       "      <td>1</td>\n",
       "      <td>0</td>\n",
       "      <td>0</td>\n",
       "      <td>0</td>\n",
       "      <td>1</td>\n",
       "      <td>0</td>\n",
       "      <td>1</td>\n",
       "      <td>20221218</td>\n",
       "      <td>20231208</td>\n",
       "    </tr>\n",
       "    <tr>\n",
       "      <th>17</th>\n",
       "      <td>4118_237648</td>\n",
       "      <td>1</td>\n",
       "      <td>1</td>\n",
       "      <td>1</td>\n",
       "      <td>1</td>\n",
       "      <td>1</td>\n",
       "      <td>1</td>\n",
       "      <td>1</td>\n",
       "      <td>20221214</td>\n",
       "      <td>20231209</td>\n",
       "    </tr>\n",
       "  </tbody>\n",
       "</table>\n",
       "</div>"
      ],
      "text/plain": [
       "     service_id  monday  tuesday  wednesday  thursday  friday  saturday  \\\n",
       "0   4118_237642       1        0          0         0       1         0   \n",
       "1   4118_237643       1        1          1         1       1         1   \n",
       "2   4118_237644       1        1          1         1       1         1   \n",
       "3   4118_237645       1        1          1         1       1         0   \n",
       "5   4118_237659       1        1          1         1       1         1   \n",
       "6   4118_237651       1        1          1         1       1         1   \n",
       "8   4118_237652       1        1          1         1       1         1   \n",
       "9   4118_237653       1        0          0         0       1         0   \n",
       "10  4118_237661       1        1          1         1       1         1   \n",
       "11  4118_237662       1        1          1         1       1         0   \n",
       "12  4118_237663       1        1          1         1       1         0   \n",
       "13  4118_237664       1        1          1         1       1         1   \n",
       "14  4118_237649       1        1          1         1       1         1   \n",
       "15  4118_237665       1        1          1         1       1         1   \n",
       "16  4118_237655       1        0          0         0       1         0   \n",
       "17  4118_237648       1        1          1         1       1         1   \n",
       "\n",
       "    sunday start_date  end_date  \n",
       "0        1   20221218  20231208  \n",
       "1        0   20221214  20231209  \n",
       "2        0   20221214  20231209  \n",
       "3        0   20221214  20231207  \n",
       "5        1   20221214  20231209  \n",
       "6        0   20221214  20231209  \n",
       "8        0   20221214  20231209  \n",
       "9        1   20221218  20231208  \n",
       "10       1   20221214  20231209  \n",
       "11       0   20221214  20231206  \n",
       "12       0   20221214  20231207  \n",
       "13       0   20221214  20231209  \n",
       "14       0   20221214  20231209  \n",
       "15       1   20221214  20231209  \n",
       "16       1   20221218  20231208  \n",
       "17       1   20221214  20231209  "
      ]
     },
     "execution_count": 8,
     "metadata": {},
     "output_type": "execute_result"
    }
   ],
   "source": [
    "sw_calendar.drop(sw_calendar[sw_calendar['monday'] <= 0].index, inplace = True)\n",
    "monday_service_id = list(sw_calendar['service_id'])\n",
    "sw_calendar.head(50)"
   ]
  },
  {
   "cell_type": "code",
   "execution_count": 9,
   "id": "1d9bc444",
   "metadata": {},
   "outputs": [],
   "source": [
    "## Creating new trips dataframe and collect trips using the list of service id\n",
    "monday_trips = trips.iloc[0:0]\n",
    "\n",
    "for service_id in monday_service_id:\n",
    "    rows  = sw_trips.loc[sw_trips['service_id'] == service_id]\n",
    "    monday_trips = pd.concat([monday_trips, rows],\n",
    "                      ignore_index = True)\n",
    "    \n",
    "monday_trip_id = list(monday_trips['trip_id'])"
   ]
  },
  {
   "cell_type": "code",
   "execution_count": 10,
   "id": "991a847f",
   "metadata": {},
   "outputs": [
    {
     "data": {
      "text/html": [
       "<div>\n",
       "<style scoped>\n",
       "    .dataframe tbody tr th:only-of-type {\n",
       "        vertical-align: middle;\n",
       "    }\n",
       "\n",
       "    .dataframe tbody tr th {\n",
       "        vertical-align: top;\n",
       "    }\n",
       "\n",
       "    .dataframe thead th {\n",
       "        text-align: right;\n",
       "    }\n",
       "</style>\n",
       "<table border=\"1\" class=\"dataframe\">\n",
       "  <thead>\n",
       "    <tr style=\"text-align: right;\">\n",
       "      <th></th>\n",
       "      <th>route_id</th>\n",
       "      <th>service_id</th>\n",
       "      <th>trip_id</th>\n",
       "      <th>trip_headsign</th>\n",
       "      <th>trip_short_name</th>\n",
       "      <th>direction_id</th>\n",
       "      <th>shape_id</th>\n",
       "    </tr>\n",
       "  </thead>\n",
       "  <tbody>\n",
       "    <tr>\n",
       "      <th>0</th>\n",
       "      <td>1199544473</td>\n",
       "      <td>4118_237642</td>\n",
       "      <td>4118_296516</td>\n",
       "      <td>Pisa C.Le</td>\n",
       "      <td>18556</td>\n",
       "      <td>0</td>\n",
       "      <td>3243786996</td>\n",
       "    </tr>\n",
       "    <tr>\n",
       "      <th>1</th>\n",
       "      <td>1199544473</td>\n",
       "      <td>4118_237642</td>\n",
       "      <td>4118_296517</td>\n",
       "      <td>Aulla Lunigiana</td>\n",
       "      <td>19212</td>\n",
       "      <td>1</td>\n",
       "      <td>1992882173</td>\n",
       "    </tr>\n",
       "    <tr>\n",
       "      <th>2</th>\n",
       "      <td>1199544473</td>\n",
       "      <td>4118_237642</td>\n",
       "      <td>4118_296518</td>\n",
       "      <td>Aulla Lunigiana</td>\n",
       "      <td>19204</td>\n",
       "      <td>0</td>\n",
       "      <td>2114515949</td>\n",
       "    </tr>\n",
       "    <tr>\n",
       "      <th>3</th>\n",
       "      <td>1199544473</td>\n",
       "      <td>4118_237642</td>\n",
       "      <td>4118_296519</td>\n",
       "      <td>Pisa C.Le</td>\n",
       "      <td>18576</td>\n",
       "      <td>0</td>\n",
       "      <td>3146061029</td>\n",
       "    </tr>\n",
       "    <tr>\n",
       "      <th>4</th>\n",
       "      <td>1199544473</td>\n",
       "      <td>4118_237642</td>\n",
       "      <td>4118_296520</td>\n",
       "      <td>Pisa C.Le</td>\n",
       "      <td>18562</td>\n",
       "      <td>0</td>\n",
       "      <td>3146061029</td>\n",
       "    </tr>\n",
       "    <tr>\n",
       "      <th>...</th>\n",
       "      <td>...</td>\n",
       "      <td>...</td>\n",
       "      <td>...</td>\n",
       "      <td>...</td>\n",
       "      <td>...</td>\n",
       "      <td>...</td>\n",
       "      <td>...</td>\n",
       "    </tr>\n",
       "    <tr>\n",
       "      <th>62</th>\n",
       "      <td>1199544473</td>\n",
       "      <td>4118_237655</td>\n",
       "      <td>4118_296619</td>\n",
       "      <td>Pisa C.Le</td>\n",
       "      <td>19169*19170</td>\n",
       "      <td>1</td>\n",
       "      <td>981366577</td>\n",
       "    </tr>\n",
       "    <tr>\n",
       "      <th>63</th>\n",
       "      <td>1199544473</td>\n",
       "      <td>4118_237648</td>\n",
       "      <td>4118_296635</td>\n",
       "      <td>Piazza Al Serch.</td>\n",
       "      <td>19215</td>\n",
       "      <td>1</td>\n",
       "      <td>1515259698</td>\n",
       "    </tr>\n",
       "    <tr>\n",
       "      <th>64</th>\n",
       "      <td>1199544473</td>\n",
       "      <td>4118_237648</td>\n",
       "      <td>4118_296636</td>\n",
       "      <td>Pisa C.Le</td>\n",
       "      <td>19149*19150</td>\n",
       "      <td>1</td>\n",
       "      <td>301718252</td>\n",
       "    </tr>\n",
       "    <tr>\n",
       "      <th>65</th>\n",
       "      <td>1199544473</td>\n",
       "      <td>4118_237648</td>\n",
       "      <td>4118_296637</td>\n",
       "      <td>Pisa C.Le</td>\n",
       "      <td>18606</td>\n",
       "      <td>0</td>\n",
       "      <td>3146061029</td>\n",
       "    </tr>\n",
       "    <tr>\n",
       "      <th>66</th>\n",
       "      <td>1199544473</td>\n",
       "      <td>4118_237648</td>\n",
       "      <td>4118_296638</td>\n",
       "      <td>Pisa C.Le</td>\n",
       "      <td>18594</td>\n",
       "      <td>0</td>\n",
       "      <td>3146061029</td>\n",
       "    </tr>\n",
       "  </tbody>\n",
       "</table>\n",
       "<p>67 rows × 7 columns</p>\n",
       "</div>"
      ],
      "text/plain": [
       "      route_id   service_id      trip_id     trip_headsign trip_short_name  \\\n",
       "0   1199544473  4118_237642  4118_296516         Pisa C.Le           18556   \n",
       "1   1199544473  4118_237642  4118_296517   Aulla Lunigiana           19212   \n",
       "2   1199544473  4118_237642  4118_296518   Aulla Lunigiana           19204   \n",
       "3   1199544473  4118_237642  4118_296519         Pisa C.Le           18576   \n",
       "4   1199544473  4118_237642  4118_296520         Pisa C.Le           18562   \n",
       "..         ...          ...          ...               ...             ...   \n",
       "62  1199544473  4118_237655  4118_296619         Pisa C.Le     19169*19170   \n",
       "63  1199544473  4118_237648  4118_296635  Piazza Al Serch.           19215   \n",
       "64  1199544473  4118_237648  4118_296636         Pisa C.Le     19149*19150   \n",
       "65  1199544473  4118_237648  4118_296637         Pisa C.Le           18606   \n",
       "66  1199544473  4118_237648  4118_296638         Pisa C.Le           18594   \n",
       "\n",
       "    direction_id    shape_id  \n",
       "0              0  3243786996  \n",
       "1              1  1992882173  \n",
       "2              0  2114515949  \n",
       "3              0  3146061029  \n",
       "4              0  3146061029  \n",
       "..           ...         ...  \n",
       "62             1   981366577  \n",
       "63             1  1515259698  \n",
       "64             1   301718252  \n",
       "65             0  3146061029  \n",
       "66             0  3146061029  \n",
       "\n",
       "[67 rows x 7 columns]"
      ]
     },
     "execution_count": 10,
     "metadata": {},
     "output_type": "execute_result"
    }
   ],
   "source": [
    "monday_trips"
   ]
  },
  {
   "cell_type": "markdown",
   "id": "39310bc9",
   "metadata": {},
   "source": [
    "# Generate usefull info on a week\n"
   ]
  },
  {
   "cell_type": "code",
   "execution_count": 11,
   "id": "72a3dc31",
   "metadata": {},
   "outputs": [],
   "source": [
    "# Join the dataset for easy at use\n",
    "df_analytics = monday_trips\n",
    "df_analytics = pd.merge(df_analytics, sw_routes, on=['route_id','route_id'])\n",
    "df_analytics = pd.merge(df_analytics, sw_stop_times, on=['trip_id','trip_id'])\n",
    "df_analytics = pd.merge(df_analytics, sw_stops, on=['stop_id','stop_id'])\n",
    "df_analytics_save_copy = df_analytics.copy()"
   ]
  },
  {
   "cell_type": "code",
   "execution_count": 12,
   "id": "45187c63",
   "metadata": {},
   "outputs": [
    {
     "name": "stdout",
     "output_type": "stream",
     "text": [
      "Mean of stop_sequence : 9.469852104664392\n",
      "--------------------------------------------------\n",
      "Median of stop_sequence : 8.0\n",
      "--------------------------------------------------\n",
      "Standard Deviation of stop_sequence : 6.696729480963078\n",
      "--------------------------------------------------\n",
      "Skewness of stop_sequence : 0.6133666900066209\n"
     ]
    },
    {
     "data": {
      "image/png": "[encoded data removed]",
      "text/plain": [
       "<Figure size 432x288 with 1 Axes>"
      ]
     },
     "metadata": {
      "needs_background": "light"
     },
     "output_type": "display_data"
    }
   ],
   "source": [
    "# Basic statistics on the number of stops and\n",
    "# Distribution of number of stops in the dataset\n",
    "helper.stop_sequence_statistics(df_analytics)"
   ]
  },
  {
   "cell_type": "code",
   "execution_count": 13,
   "id": "97ea1ec5",
   "metadata": {},
   "outputs": [
    {
     "data": {
      "image/png": "[encoded data removed]",
      "text/plain": [
       "<Figure size 432x288 with 1 Axes>"
      ]
     },
     "metadata": {
      "needs_background": "light"
     },
     "output_type": "display_data"
    }
   ],
   "source": [
    "# Number of stops per trip\n",
    "helper.boxplot_stop_sequence(df_analytics)"
   ]
  },
  {
   "cell_type": "code",
   "execution_count": 14,
   "id": "80296f06",
   "metadata": {},
   "outputs": [],
   "source": [
    "# For more precision of calculations we don't consider in the analysis the start stop \n",
    "# where speed, time , distance are all equal to 0\n",
    "df_analytics.drop(df_analytics[(df_analytics['time_diff'] == 0) & \n",
    "                              (df_analytics['dist_diff'] == 0) &\n",
    "                              (df_analytics['speed'] == 0)].index, inplace=True)"
   ]
  },
  {
   "cell_type": "code",
   "execution_count": 15,
   "id": "1198157a",
   "metadata": {},
   "outputs": [
    {
     "name": "stdout",
     "output_type": "stream",
     "text": [
      "Mean of time difference : 331.69950738916253\n",
      "--------------------------------------------------\n",
      "Standard Deviation of time difference : 144.26160765228013\n",
      "--------------------------------------------------\n",
      "Skewness of time difference : 0.9503432323405213\n",
      "--------------------------------------------------\n"
     ]
    },
    {
     "data": {
      "image/png": "[encoded data removed]",
      "text/plain": [
       "<Figure size 432x288 with 1 Axes>"
      ]
     },
     "metadata": {
      "needs_background": "light"
     },
     "output_type": "display_data"
    }
   ],
   "source": [
    "# Basic statistics for time\n",
    "helper.time_statistics(df_analytics)"
   ]
  },
  {
   "cell_type": "code",
   "execution_count": 16,
   "id": "1d0f1cba",
   "metadata": {},
   "outputs": [
    {
     "data": {
      "image/png": "[encoded data removed]",
      "text/plain": [
       "<Figure size 432x288 with 1 Axes>"
      ]
     },
     "metadata": {
      "needs_background": "light"
     },
     "output_type": "display_data"
    }
   ],
   "source": [
    "# Box plot on time difference\n",
    "helper.boxplot_time(df_analytics)"
   ]
  },
  {
   "cell_type": "code",
   "execution_count": 17,
   "id": "41f1d0bd",
   "metadata": {},
   "outputs": [
    {
     "name": "stdout",
     "output_type": "stream",
     "text": [
      "Mean of distance difference : 4.834217832512316\n",
      "--------------------------------------------------\n",
      "Standard Deviation of distance difference : 2.360001012910759\n",
      "--------------------------------------------------\n",
      "Skewness of distance difference : 1.1698101491968338\n",
      "--------------------------------------------------\n"
     ]
    },
    {
     "data": {
      "image/png": "[encoded data removed]",
      "text/plain": [
       "<Figure size 432x288 with 1 Axes>"
      ]
     },
     "metadata": {
      "needs_background": "light"
     },
     "output_type": "display_data"
    }
   ],
   "source": [
    "# Basic statistics for distance\n",
    "helper.distance_statistics(df_analytics)"
   ]
  },
  {
   "cell_type": "code",
   "execution_count": 18,
   "id": "d59c40b5",
   "metadata": {},
   "outputs": [
    {
     "data": {
      "image/png": "[encoded data removed]",
      "text/plain": [
       "<Figure size 432x288 with 1 Axes>"
      ]
     },
     "metadata": {
      "needs_background": "light"
     },
     "output_type": "display_data"
    }
   ],
   "source": [
    "# Box plot on distance difference\n",
    "helper.boxplot_distance(df_analytics)"
   ]
  },
  {
   "cell_type": "code",
   "execution_count": 19,
   "id": "e65029e7",
   "metadata": {},
   "outputs": [
    {
     "name": "stdout",
     "output_type": "stream",
     "text": [
      "Mean of speed : 53.411658766138665\n",
      "--------------------------------------------------\n",
      "Standard Deviation of speed : 14.01049651645494\n",
      "--------------------------------------------------\n",
      "Skewness of speed : 0.07364886833943464\n",
      "--------------------------------------------------\n"
     ]
    },
    {
     "data": {
      "image/png": "[encoded data removed]",
      "text/plain": [
       "<Figure size 432x288 with 1 Axes>"
      ]
     },
     "metadata": {
      "needs_background": "light"
     },
     "output_type": "display_data"
    }
   ],
   "source": [
    "# Basic statistics for speed\n",
    "helper.speed_statistics(df_analytics)"
   ]
  },
  {
   "cell_type": "code",
   "execution_count": 20,
   "id": "75b80b84",
   "metadata": {},
   "outputs": [
    {
     "data": {
      "image/png": "[encoded data removed]",
      "text/plain": [
       "<Figure size 432x288 with 1 Axes>"
      ]
     },
     "metadata": {
      "needs_background": "light"
     },
     "output_type": "display_data"
    }
   ],
   "source": [
    "# Number of speed per trip\n",
    "helper.boxplot_speed(df_analytics)"
   ]
  },
  {
   "cell_type": "code",
   "execution_count": 21,
   "id": "0ed1ed5a",
   "metadata": {},
   "outputs": [],
   "source": [
    "### TODO\n",
    "    # Plot the spatial distribution of speed variable at each stop\n",
    "### TODO\n",
    "    # Quindi lista pezzetti di distanza fra una fermata e l'altra\n",
    "    # Se distanza media in lista è intorno alla mean calcolata qui vuol dire che la maggior parte dei treni fa tutte o\n",
    "    # quasi le fermate"
   ]
  },
  {
   "cell_type": "code",
   "execution_count": 22,
   "id": "daa3a26d",
   "metadata": {},
   "outputs": [
    {
     "data": {
      "image/png": "[encoded data removed]",
      "text/plain": [
       "<Figure size 432x288 with 1 Axes>"
      ]
     },
     "metadata": {
      "needs_background": "light"
     },
     "output_type": "display_data"
    }
   ],
   "source": [
    "# Correlation between Speed and Distance\n",
    "helper.scatter_speed_distance(df_analytics)"
   ]
  },
  {
   "cell_type": "code",
   "execution_count": 23,
   "id": "b6f258bc",
   "metadata": {},
   "outputs": [
    {
     "data": {
      "image/png": "[encoded data removed]",
      "text/plain": [
       "<Figure size 432x288 with 1 Axes>"
      ]
     },
     "metadata": {
      "needs_background": "light"
     },
     "output_type": "display_data"
    }
   ],
   "source": [
    "# Correlation between Time and Distance\n",
    "helper.scatter_time_distance(df_analytics)"
   ]
  },
  {
   "cell_type": "code",
   "execution_count": 24,
   "id": "5207f417",
   "metadata": {},
   "outputs": [
    {
     "data": {
      "image/png": "[encoded data removed]",
      "text/plain": [
       "<Figure size 432x288 with 1 Axes>"
      ]
     },
     "metadata": {
      "needs_background": "light"
     },
     "output_type": "display_data"
    }
   ],
   "source": [
    "# Correlation between Time and Speed\n",
    "helper.scatter_time_speed(df_analytics)"
   ]
  },
  {
   "cell_type": "code",
   "execution_count": 25,
   "id": "febe736a",
   "metadata": {
    "scrolled": true
   },
   "outputs": [
    {
     "name": "stdout",
     "output_type": "stream",
     "text": [
      "For each value:\n",
      "    last_stop_sequence  value\n",
      "0                    2      0\n",
      "1                    3      0\n",
      "2                    4      1\n",
      "3                    5     19\n",
      "4                    6      5\n",
      "5                    7      2\n",
      "6                    8      5\n",
      "7                    9      1\n",
      "8                   10      0\n",
      "9                   11      1\n",
      "10                  12      0\n",
      "11                  13      4\n",
      "12                  14      0\n",
      "13                  15      3\n",
      "14                  16      0\n",
      "15                  17      1\n",
      "16                  18      3\n",
      "17                  19      0\n",
      "18                  20      5\n",
      "19                  21      2\n",
      "20                  22      4\n",
      "21                  23      1\n",
      "22                  24      3\n",
      "23                  25      2\n",
      "24                  26      3\n",
      "25                  27      1\n",
      "26                  28      1\n",
      "27                  29      0\n",
      "--------------------------------------------------\n"
     ]
    },
    {
     "data": {
      "image/png": "[encoded data removed]",
      "text/plain": [
       "<Figure size 432x288 with 1 Axes>"
      ]
     },
     "metadata": {
      "needs_background": "light"
     },
     "output_type": "display_data"
    }
   ],
   "source": [
    "result = helper.plot_number_stops(df_analytics)"
   ]
  },
  {
   "cell_type": "code",
   "execution_count": 26,
   "id": "d0efa1ef",
   "metadata": {
    "scrolled": true
   },
   "outputs": [
    {
     "name": "stdout",
     "output_type": "stream",
     "text": [
      "   last_stop_sequence  value\n",
      "0              (0, 3]      0\n",
      "1              (3, 6]     25\n",
      "2              (6, 9]      8\n",
      "3             (9, 12]      1\n",
      "4            (12, 15]      7\n",
      "5            (15, 18]      4\n",
      "6            (18, 21]      7\n",
      "7            (21, 24]      8\n",
      "8            (24, 27]      6\n",
      "9            (27, 30]      1\n",
      "10           (30, 33]      0\n"
     ]
    },
    {
     "name": "stderr",
     "output_type": "stream",
     "text": [
      "/Users/gianlucarea/Desktop/Projects/conda-workspace/master-thesis/helper.py:137: FutureWarning: The default of observed=False is deprecated and will be changed to True in a future version of pandas. Pass observed=False to retain current behavior or observed=True to adopt the future default and silence this warning.\n",
      "  df = result.groupby(pd.cut(result['last_stop_sequence'], np.arange(0, max_value + 5, input_value)))['value'].sum()\n"
     ]
    }
   ],
   "source": [
    "helper.aggregated_number_stops(result,3)"
   ]
  },
  {
   "cell_type": "markdown",
   "id": "d04a1d17",
   "metadata": {},
   "source": [
    "# Periodi ad alta intensità di traffico di treni con numerose fermate"
   ]
  },
  {
   "cell_type": "markdown",
   "id": "1d7de3db",
   "metadata": {},
   "source": [
    "# We choose the train between 07:00 and 10:00 \n",
    "lower_time = '07:00:00'\n",
    "higher_time = '10:00:00'\n",
    "monday_stop_times = sw_stop_times.iloc[0:0]\n",
    "\n",
    "sw_stop_times = sw_stop_times.loc[((sw_stop_times['arrival_time'] >= lower_time) &\n",
    "                                  (sw_stop_times['arrival_time'] <= higher_time))| (\n",
    "                                  (sw_stop_times['departure_time'] >= lower_time) &\n",
    "                                  (sw_stop_times['departure_time'] <= higher_time))]\n",
    "\n",
    "trips_between_bounds = list(dict.fromkeys(sw_stop_times['trip_id']))\n",
    "\n",
    "sw_monday_trips = trips.iloc[0:0]\n",
    "\n",
    "for trip_id in trips_between_bounds:\n",
    "    temp_trips = monday_trips.loc[monday_trips['trip_id'] == trip_id]\n",
    "    sw_monday_trips = pd.concat([sw_monday_trips, temp_trips], ignore_index = True)"
   ]
  },
  {
   "cell_type": "code",
   "execution_count": 27,
   "id": "6f6d0388",
   "metadata": {},
   "outputs": [],
   "source": [
    "# we return the dataset prior to the drop of the start point of each trip\n",
    "df_analytics = df_analytics_save_copy.copy().reset_index(drop=True)"
   ]
  },
  {
   "cell_type": "code",
   "execution_count": 28,
   "id": "5391dec7",
   "metadata": {},
   "outputs": [
    {
     "name": "stdout",
     "output_type": "stream",
     "text": [
      "the number of trains in transit during ['00:00:00', '02:00:00'] is 0\n",
      "the number of trains in transit during ['02:00:00', '04:00:00'] is 0\n",
      "the number of trains in transit during ['04:00:00', '06:00:00'] is 5\n",
      "the number of trains in transit during ['06:00:00', '08:00:00'] is 12\n",
      "the number of trains in transit during ['08:00:00', '10:00:00'] is 15\n",
      "the number of trains in transit during ['10:00:00', '12:00:00'] is 11\n",
      "the number of trains in transit during ['12:00:00', '14:00:00'] is 12\n",
      "the number of trains in transit during ['14:00:00', '16:00:00'] is 14\n",
      "the number of trains in transit during ['16:00:00', '18:00:00'] is 19\n",
      "the number of trains in transit during ['18:00:00', '20:00:00'] is 15\n",
      "the number of trains in transit during ['20:00:00', '22:00:00'] is 11\n",
      "the number of trains in transit during ['22:00:00', '24:00:00'] is 5\n",
      "[0, 0, 5, 12, 15, 11, 12, 14, 19, 15, 11, 5]\n"
     ]
    }
   ],
   "source": [
    "#We calculate the range of hours, but only using divider of 24 - 1,2,3,4,6,8,12\n",
    "list_of_range_time = helper.calculate_list_of_range_times(2)\n",
    "#We calculate the train based on the last stop during that period\n",
    "result = helper.period_stop_based_data(df_analytics,list_of_range_time)\n",
    "result.drop(result[(result['total_trains'] == 0)].index, inplace=True)\n",
    "result.to_csv('result.csv')"
   ]
  },
  {
   "cell_type": "code",
   "execution_count": 29,
   "id": "4a121c8c",
   "metadata": {},
   "outputs": [
    {
     "data": {
      "text/html": [
       "<div>\n",
       "<style scoped>\n",
       "    .dataframe tbody tr th:only-of-type {\n",
       "        vertical-align: middle;\n",
       "    }\n",
       "\n",
       "    .dataframe tbody tr th {\n",
       "        vertical-align: top;\n",
       "    }\n",
       "\n",
       "    .dataframe thead th {\n",
       "        text-align: right;\n",
       "    }\n",
       "</style>\n",
       "<table border=\"1\" class=\"dataframe\">\n",
       "  <thead>\n",
       "    <tr style=\"text-align: right;\">\n",
       "      <th></th>\n",
       "      <th>time_period_index</th>\n",
       "      <th>time_period</th>\n",
       "      <th>stop_sequence</th>\n",
       "      <th>total_trains</th>\n",
       "    </tr>\n",
       "  </thead>\n",
       "  <tbody>\n",
       "    <tr>\n",
       "      <th>60</th>\n",
       "      <td>2</td>\n",
       "      <td>[04:00:00, 06:00:00]</td>\n",
       "      <td>8</td>\n",
       "      <td>2</td>\n",
       "    </tr>\n",
       "    <tr>\n",
       "      <th>63</th>\n",
       "      <td>2</td>\n",
       "      <td>[04:00:00, 06:00:00]</td>\n",
       "      <td>11</td>\n",
       "      <td>1</td>\n",
       "    </tr>\n",
       "    <tr>\n",
       "      <th>78</th>\n",
       "      <td>2</td>\n",
       "      <td>[04:00:00, 06:00:00]</td>\n",
       "      <td>26</td>\n",
       "      <td>2</td>\n",
       "    </tr>\n",
       "    <tr>\n",
       "      <th>85</th>\n",
       "      <td>3</td>\n",
       "      <td>[06:00:00, 08:00:00]</td>\n",
       "      <td>6</td>\n",
       "      <td>2</td>\n",
       "    </tr>\n",
       "    <tr>\n",
       "      <th>86</th>\n",
       "      <td>3</td>\n",
       "      <td>[06:00:00, 08:00:00]</td>\n",
       "      <td>7</td>\n",
       "      <td>1</td>\n",
       "    </tr>\n",
       "    <tr>\n",
       "      <th>87</th>\n",
       "      <td>3</td>\n",
       "      <td>[06:00:00, 08:00:00]</td>\n",
       "      <td>8</td>\n",
       "      <td>2</td>\n",
       "    </tr>\n",
       "    <tr>\n",
       "      <th>90</th>\n",
       "      <td>3</td>\n",
       "      <td>[06:00:00, 08:00:00]</td>\n",
       "      <td>11</td>\n",
       "      <td>1</td>\n",
       "    </tr>\n",
       "    <tr>\n",
       "      <th>92</th>\n",
       "      <td>3</td>\n",
       "      <td>[06:00:00, 08:00:00]</td>\n",
       "      <td>13</td>\n",
       "      <td>1</td>\n",
       "    </tr>\n",
       "    <tr>\n",
       "      <th>99</th>\n",
       "      <td>3</td>\n",
       "      <td>[06:00:00, 08:00:00]</td>\n",
       "      <td>20</td>\n",
       "      <td>2</td>\n",
       "    </tr>\n",
       "    <tr>\n",
       "      <th>103</th>\n",
       "      <td>3</td>\n",
       "      <td>[06:00:00, 08:00:00]</td>\n",
       "      <td>24</td>\n",
       "      <td>1</td>\n",
       "    </tr>\n",
       "    <tr>\n",
       "      <th>105</th>\n",
       "      <td>3</td>\n",
       "      <td>[06:00:00, 08:00:00]</td>\n",
       "      <td>26</td>\n",
       "      <td>2</td>\n",
       "    </tr>\n",
       "    <tr>\n",
       "      <th>111</th>\n",
       "      <td>4</td>\n",
       "      <td>[08:00:00, 10:00:00]</td>\n",
       "      <td>5</td>\n",
       "      <td>2</td>\n",
       "    </tr>\n",
       "    <tr>\n",
       "      <th>112</th>\n",
       "      <td>4</td>\n",
       "      <td>[08:00:00, 10:00:00]</td>\n",
       "      <td>6</td>\n",
       "      <td>2</td>\n",
       "    </tr>\n",
       "    <tr>\n",
       "      <th>113</th>\n",
       "      <td>4</td>\n",
       "      <td>[08:00:00, 10:00:00]</td>\n",
       "      <td>7</td>\n",
       "      <td>1</td>\n",
       "    </tr>\n",
       "    <tr>\n",
       "      <th>114</th>\n",
       "      <td>4</td>\n",
       "      <td>[08:00:00, 10:00:00]</td>\n",
       "      <td>8</td>\n",
       "      <td>1</td>\n",
       "    </tr>\n",
       "    <tr>\n",
       "      <th>115</th>\n",
       "      <td>4</td>\n",
       "      <td>[08:00:00, 10:00:00]</td>\n",
       "      <td>9</td>\n",
       "      <td>1</td>\n",
       "    </tr>\n",
       "    <tr>\n",
       "      <th>119</th>\n",
       "      <td>4</td>\n",
       "      <td>[08:00:00, 10:00:00]</td>\n",
       "      <td>13</td>\n",
       "      <td>1</td>\n",
       "    </tr>\n",
       "    <tr>\n",
       "      <th>124</th>\n",
       "      <td>4</td>\n",
       "      <td>[08:00:00, 10:00:00]</td>\n",
       "      <td>18</td>\n",
       "      <td>1</td>\n",
       "    </tr>\n",
       "    <tr>\n",
       "      <th>126</th>\n",
       "      <td>4</td>\n",
       "      <td>[08:00:00, 10:00:00]</td>\n",
       "      <td>20</td>\n",
       "      <td>2</td>\n",
       "    </tr>\n",
       "    <tr>\n",
       "      <th>130</th>\n",
       "      <td>4</td>\n",
       "      <td>[08:00:00, 10:00:00]</td>\n",
       "      <td>24</td>\n",
       "      <td>1</td>\n",
       "    </tr>\n",
       "    <tr>\n",
       "      <th>132</th>\n",
       "      <td>4</td>\n",
       "      <td>[08:00:00, 10:00:00]</td>\n",
       "      <td>26</td>\n",
       "      <td>2</td>\n",
       "    </tr>\n",
       "    <tr>\n",
       "      <th>134</th>\n",
       "      <td>4</td>\n",
       "      <td>[08:00:00, 10:00:00]</td>\n",
       "      <td>28</td>\n",
       "      <td>1</td>\n",
       "    </tr>\n",
       "    <tr>\n",
       "      <th>138</th>\n",
       "      <td>5</td>\n",
       "      <td>[10:00:00, 12:00:00]</td>\n",
       "      <td>5</td>\n",
       "      <td>2</td>\n",
       "    </tr>\n",
       "    <tr>\n",
       "      <th>139</th>\n",
       "      <td>5</td>\n",
       "      <td>[10:00:00, 12:00:00]</td>\n",
       "      <td>6</td>\n",
       "      <td>1</td>\n",
       "    </tr>\n",
       "    <tr>\n",
       "      <th>142</th>\n",
       "      <td>5</td>\n",
       "      <td>[10:00:00, 12:00:00]</td>\n",
       "      <td>9</td>\n",
       "      <td>1</td>\n",
       "    </tr>\n",
       "    <tr>\n",
       "      <th>151</th>\n",
       "      <td>5</td>\n",
       "      <td>[10:00:00, 12:00:00]</td>\n",
       "      <td>18</td>\n",
       "      <td>1</td>\n",
       "    </tr>\n",
       "    <tr>\n",
       "      <th>153</th>\n",
       "      <td>5</td>\n",
       "      <td>[10:00:00, 12:00:00]</td>\n",
       "      <td>20</td>\n",
       "      <td>1</td>\n",
       "    </tr>\n",
       "    <tr>\n",
       "      <th>154</th>\n",
       "      <td>5</td>\n",
       "      <td>[10:00:00, 12:00:00]</td>\n",
       "      <td>21</td>\n",
       "      <td>1</td>\n",
       "    </tr>\n",
       "    <tr>\n",
       "      <th>155</th>\n",
       "      <td>5</td>\n",
       "      <td>[10:00:00, 12:00:00]</td>\n",
       "      <td>22</td>\n",
       "      <td>2</td>\n",
       "    </tr>\n",
       "    <tr>\n",
       "      <th>157</th>\n",
       "      <td>5</td>\n",
       "      <td>[10:00:00, 12:00:00]</td>\n",
       "      <td>24</td>\n",
       "      <td>1</td>\n",
       "    </tr>\n",
       "    <tr>\n",
       "      <th>161</th>\n",
       "      <td>5</td>\n",
       "      <td>[10:00:00, 12:00:00]</td>\n",
       "      <td>28</td>\n",
       "      <td>1</td>\n",
       "    </tr>\n",
       "    <tr>\n",
       "      <th>165</th>\n",
       "      <td>6</td>\n",
       "      <td>[12:00:00, 14:00:00]</td>\n",
       "      <td>5</td>\n",
       "      <td>3</td>\n",
       "    </tr>\n",
       "    <tr>\n",
       "      <th>175</th>\n",
       "      <td>6</td>\n",
       "      <td>[12:00:00, 14:00:00]</td>\n",
       "      <td>15</td>\n",
       "      <td>1</td>\n",
       "    </tr>\n",
       "    <tr>\n",
       "      <th>180</th>\n",
       "      <td>6</td>\n",
       "      <td>[12:00:00, 14:00:00]</td>\n",
       "      <td>20</td>\n",
       "      <td>2</td>\n",
       "    </tr>\n",
       "    <tr>\n",
       "      <th>181</th>\n",
       "      <td>6</td>\n",
       "      <td>[12:00:00, 14:00:00]</td>\n",
       "      <td>21</td>\n",
       "      <td>1</td>\n",
       "    </tr>\n",
       "    <tr>\n",
       "      <th>182</th>\n",
       "      <td>6</td>\n",
       "      <td>[12:00:00, 14:00:00]</td>\n",
       "      <td>22</td>\n",
       "      <td>3</td>\n",
       "    </tr>\n",
       "    <tr>\n",
       "      <th>186</th>\n",
       "      <td>6</td>\n",
       "      <td>[12:00:00, 14:00:00]</td>\n",
       "      <td>26</td>\n",
       "      <td>1</td>\n",
       "    </tr>\n",
       "    <tr>\n",
       "      <th>187</th>\n",
       "      <td>6</td>\n",
       "      <td>[12:00:00, 14:00:00]</td>\n",
       "      <td>27</td>\n",
       "      <td>1</td>\n",
       "    </tr>\n",
       "    <tr>\n",
       "      <th>192</th>\n",
       "      <td>7</td>\n",
       "      <td>[14:00:00, 16:00:00]</td>\n",
       "      <td>5</td>\n",
       "      <td>5</td>\n",
       "    </tr>\n",
       "    <tr>\n",
       "      <th>200</th>\n",
       "      <td>7</td>\n",
       "      <td>[14:00:00, 16:00:00]</td>\n",
       "      <td>13</td>\n",
       "      <td>1</td>\n",
       "    </tr>\n",
       "  </tbody>\n",
       "</table>\n",
       "</div>"
      ],
      "text/plain": [
       "    time_period_index           time_period stop_sequence total_trains\n",
       "60                  2  [04:00:00, 06:00:00]             8            2\n",
       "63                  2  [04:00:00, 06:00:00]            11            1\n",
       "78                  2  [04:00:00, 06:00:00]            26            2\n",
       "85                  3  [06:00:00, 08:00:00]             6            2\n",
       "86                  3  [06:00:00, 08:00:00]             7            1\n",
       "87                  3  [06:00:00, 08:00:00]             8            2\n",
       "90                  3  [06:00:00, 08:00:00]            11            1\n",
       "92                  3  [06:00:00, 08:00:00]            13            1\n",
       "99                  3  [06:00:00, 08:00:00]            20            2\n",
       "103                 3  [06:00:00, 08:00:00]            24            1\n",
       "105                 3  [06:00:00, 08:00:00]            26            2\n",
       "111                 4  [08:00:00, 10:00:00]             5            2\n",
       "112                 4  [08:00:00, 10:00:00]             6            2\n",
       "113                 4  [08:00:00, 10:00:00]             7            1\n",
       "114                 4  [08:00:00, 10:00:00]             8            1\n",
       "115                 4  [08:00:00, 10:00:00]             9            1\n",
       "119                 4  [08:00:00, 10:00:00]            13            1\n",
       "124                 4  [08:00:00, 10:00:00]            18            1\n",
       "126                 4  [08:00:00, 10:00:00]            20            2\n",
       "130                 4  [08:00:00, 10:00:00]            24            1\n",
       "132                 4  [08:00:00, 10:00:00]            26            2\n",
       "134                 4  [08:00:00, 10:00:00]            28            1\n",
       "138                 5  [10:00:00, 12:00:00]             5            2\n",
       "139                 5  [10:00:00, 12:00:00]             6            1\n",
       "142                 5  [10:00:00, 12:00:00]             9            1\n",
       "151                 5  [10:00:00, 12:00:00]            18            1\n",
       "153                 5  [10:00:00, 12:00:00]            20            1\n",
       "154                 5  [10:00:00, 12:00:00]            21            1\n",
       "155                 5  [10:00:00, 12:00:00]            22            2\n",
       "157                 5  [10:00:00, 12:00:00]            24            1\n",
       "161                 5  [10:00:00, 12:00:00]            28            1\n",
       "165                 6  [12:00:00, 14:00:00]             5            3\n",
       "175                 6  [12:00:00, 14:00:00]            15            1\n",
       "180                 6  [12:00:00, 14:00:00]            20            2\n",
       "181                 6  [12:00:00, 14:00:00]            21            1\n",
       "182                 6  [12:00:00, 14:00:00]            22            3\n",
       "186                 6  [12:00:00, 14:00:00]            26            1\n",
       "187                 6  [12:00:00, 14:00:00]            27            1\n",
       "192                 7  [14:00:00, 16:00:00]             5            5\n",
       "200                 7  [14:00:00, 16:00:00]            13            1"
      ]
     },
     "execution_count": 29,
     "metadata": {},
     "output_type": "execute_result"
    }
   ],
   "source": [
    "result.head(40)"
   ]
  },
  {
   "cell_type": "code",
   "execution_count": null,
   "id": "aac094eb",
   "metadata": {},
   "outputs": [],
   "source": []
  },
  {
   "cell_type": "code",
   "execution_count": null,
   "id": "8cb15ea9",
   "metadata": {},
   "outputs": [],
   "source": []
  }
 ],
 "metadata": {
  "kernelspec": {
   "display_name": "Python 3 (ipykernel)",
   "language": "python",
   "name": "python3"
  },
  "language_info": {
   "codemirror_mode": {
    "name": "ipython",
    "version": 3
   },
   "file_extension": ".py",
   "mimetype": "text/x-python",
   "name": "python",
   "nbconvert_exporter": "python",
   "pygments_lexer": "ipython3",
   "version": "3.8.15"
  }
 },
 "nbformat": 4,
 "nbformat_minor": 5
}
