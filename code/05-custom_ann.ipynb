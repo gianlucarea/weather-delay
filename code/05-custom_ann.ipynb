{
 "cells": [
  {
   "cell_type": "markdown",
   "id": "4704cdd0",
   "metadata": {},
   "source": [
    "# Import"
   ]
  },
  {
   "cell_type": "code",
   "execution_count": 1,
   "id": "95501803",
   "metadata": {},
   "outputs": [
    {
     "name": "stderr",
     "output_type": "stream",
     "text": [
      "/Users/gianlucarea/anaconda3/lib/python3.11/site-packages/tensorflow_addons/utils/tfa_eol_msg.py:23: UserWarning: \n",
      "\n",
      "TensorFlow Addons (TFA) has ended development and introduction of new features.\n",
      "TFA has entered a minimal maintenance and release mode until a planned end of life in May 2024.\n",
      "Please modify downstream libraries to take dependencies from other repositories in our TensorFlow community (e.g. Keras, Keras-CV, and Keras-NLP). \n",
      "\n",
      "For more information see: https://github.com/tensorflow/addons/issues/2807 \n",
      "\n",
      "  warnings.warn(\n"
     ]
    }
   ],
   "source": [
    "import pandas as pd\n",
    "import numpy as np\n",
    "import tensorflow as tf\n",
    "from tensorflow import keras\n",
    "from tensorflow.keras import layers\n",
    "from sklearn.model_selection import train_test_split\n",
    "from tensorflow.keras.layers import Normalization\n",
    "from tensorflow_addons.metrics import RSquare\n",
    "from keras import backend as K\n"
   ]
  },
  {
   "cell_type": "markdown",
   "id": "baa534f9",
   "metadata": {},
   "source": [
    "# Load Dataset"
   ]
  },
  {
   "cell_type": "code",
   "execution_count": 2,
   "id": "b23ecfa9",
   "metadata": {},
   "outputs": [],
   "source": [
    "df_regression = pd.read_csv(\"../processed_files/df_for_ml.csv\", index_col=[0])\n",
    "# Drop column on wich i don't want to train\n",
    "df_regression.drop(columns=[\"trip_id\",\n",
    "                 \"indice_tratta\",\n",
    "                 \"codice\",\n",
    "                 \"data_giorno\"], inplace=True)\n"
   ]
  },
  {
   "cell_type": "code",
   "execution_count": 3,
   "id": "59280a22",
   "metadata": {},
   "outputs": [],
   "source": [
    "# We only need to train on delayed trains on line\n",
    "df_regression = df_regression[df_regression['ritardo_arrivo'] > 0]\n",
    "df_regression.reset_index(inplace=True, drop=True)"
   ]
  },
  {
   "cell_type": "code",
   "execution_count": 4,
   "id": "56d987ae",
   "metadata": {},
   "outputs": [],
   "source": [
    "df_regression = df_regression.astype(np.float64)\n",
    "safe_copy = df_regression.copy()\n",
    "min_val = df_regression.min()\n",
    "max_val = df_regression.max()\n",
    "df_regression=(df_regression-min_val)/(max_val-min_val)\n"
   ]
  },
  {
   "cell_type": "code",
   "execution_count": 5,
   "id": "cc09632a",
   "metadata": {},
   "outputs": [],
   "source": [
    "X_train, X_val_and_test, y_train, y_val_and_test = train_test_split(df_regression.loc[:, df_regression.columns != \"ritardo_arrivo\"].values , df_regression[\"ritardo_arrivo\"].values , test_size=0.20, random_state=1)\n",
    "X_val, X_test, y_val, y_test = train_test_split(X_val_and_test, y_val_and_test, test_size=0.5,random_state=1)\n"
   ]
  },
  {
   "cell_type": "code",
   "execution_count": 6,
   "id": "41ffe925",
   "metadata": {},
   "outputs": [
    {
     "name": "stderr",
     "output_type": "stream",
     "text": [
      "WARNING:absl:At this time, the v2.11+ optimizer `tf.keras.optimizers.Adam` runs slowly on M1/M2 Macs, please use the legacy Keras optimizer instead, located at `tf.keras.optimizers.legacy.Adam`.\n",
      "WARNING:absl:`lr` is deprecated in Keras optimizer, please use `learning_rate` or use the legacy optimizer, e.g.,tf.keras.optimizers.legacy.Adam.\n",
      "WARNING:absl:There is a known slowdown when using v2.11+ Keras optimizers on M1/M2 Macs. Falling back to the legacy Keras optimizer, i.e., `tf.keras.optimizers.legacy.Adam`.\n"
     ]
    },
    {
     "name": "stdout",
     "output_type": "stream",
     "text": [
      "Epoch 1/100\n"
     ]
    },
    {
     "name": "stderr",
     "output_type": "stream",
     "text": [
      "2023-11-12 20:20:02.528912: W tensorflow/tsl/platform/profile_utils/cpu_utils.cc:128] Failed to get CPU frequency: 0 Hz\n"
     ]
    },
    {
     "name": "stdout",
     "output_type": "stream",
     "text": [
      "13039/13039 [==============================] - 6s 452us/step - loss: 7.6183e-04 - mse: 7.6183e-04 - root_mean_squared_error: 0.0276 - mae: 0.0126 - r_square: -0.2600 - val_loss: 1.6984e-04 - val_mse: 1.6984e-04 - val_root_mean_squared_error: 0.0130 - val_mae: 0.0068 - val_r_square: 0.7247\n",
      "Epoch 2/100\n",
      "13039/13039 [==============================] - 6s 444us/step - loss: 1.5790e-04 - mse: 1.5790e-04 - root_mean_squared_error: 0.0126 - mae: 0.0063 - r_square: 0.7388 - val_loss: 1.3623e-04 - val_mse: 1.3623e-04 - val_root_mean_squared_error: 0.0117 - val_mae: 0.0060 - val_r_square: 0.7792\n",
      "Epoch 3/100\n",
      "13039/13039 [==============================] - 6s 446us/step - loss: 9.1316e-05 - mse: 9.1316e-05 - root_mean_squared_error: 0.0096 - mae: 0.0053 - r_square: 0.8490 - val_loss: 9.7295e-05 - val_mse: 9.7295e-05 - val_root_mean_squared_error: 0.0099 - val_mae: 0.0047 - val_r_square: 0.8423\n",
      "Epoch 4/100\n",
      "13039/13039 [==============================] - 6s 444us/step - loss: 7.7215e-05 - mse: 7.7215e-05 - root_mean_squared_error: 0.0088 - mae: 0.0049 - r_square: 0.8723 - val_loss: 1.2651e-04 - val_mse: 1.2651e-04 - val_root_mean_squared_error: 0.0112 - val_mae: 0.0058 - val_r_square: 0.7949\n",
      "Epoch 5/100\n",
      "13039/13039 [==============================] - 6s 444us/step - loss: 7.4419e-05 - mse: 7.4419e-05 - root_mean_squared_error: 0.0086 - mae: 0.0047 - r_square: 0.8769 - val_loss: 1.1618e-04 - val_mse: 1.1618e-04 - val_root_mean_squared_error: 0.0108 - val_mae: 0.0058 - val_r_square: 0.8117\n",
      "Epoch 6/100\n",
      "13039/13039 [==============================] - 6s 443us/step - loss: 6.8538e-05 - mse: 6.8538e-05 - root_mean_squared_error: 0.0083 - mae: 0.0046 - r_square: 0.8866 - val_loss: 1.3765e-04 - val_mse: 1.3765e-04 - val_root_mean_squared_error: 0.0117 - val_mae: 0.0054 - val_r_square: 0.7769\n",
      "Epoch 7/100\n",
      "13039/13039 [==============================] - 6s 441us/step - loss: 6.9064e-05 - mse: 6.9064e-05 - root_mean_squared_error: 0.0083 - mae: 0.0046 - r_square: 0.8858 - val_loss: 1.0614e-04 - val_mse: 1.0614e-04 - val_root_mean_squared_error: 0.0103 - val_mae: 0.0045 - val_r_square: 0.8279\n",
      "Epoch 8/100\n",
      "13039/13039 [==============================] - 6s 442us/step - loss: 6.2820e-05 - mse: 6.2820e-05 - root_mean_squared_error: 0.0079 - mae: 0.0045 - r_square: 0.8961 - val_loss: 1.2754e-04 - val_mse: 1.2754e-04 - val_root_mean_squared_error: 0.0113 - val_mae: 0.0059 - val_r_square: 0.7932\n",
      "Epoch 9/100\n",
      "13039/13039 [==============================] - 6s 442us/step - loss: 6.9254e-05 - mse: 6.9254e-05 - root_mean_squared_error: 0.0083 - mae: 0.0045 - r_square: 0.8855 - val_loss: 1.1348e-04 - val_mse: 1.1348e-04 - val_root_mean_squared_error: 0.0107 - val_mae: 0.0057 - val_r_square: 0.8160\n",
      "Epoch 10/100\n",
      "13039/13039 [==============================] - 6s 443us/step - loss: 6.6669e-05 - mse: 6.6669e-05 - root_mean_squared_error: 0.0082 - mae: 0.0044 - r_square: 0.8897 - val_loss: 1.2572e-04 - val_mse: 1.2572e-04 - val_root_mean_squared_error: 0.0112 - val_mae: 0.0057 - val_r_square: 0.7962\n",
      "Epoch 11/100\n",
      "13039/13039 [==============================] - 6s 441us/step - loss: 6.7977e-05 - mse: 6.7977e-05 - root_mean_squared_error: 0.0082 - mae: 0.0045 - r_square: 0.8876 - val_loss: 9.6816e-05 - val_mse: 9.6816e-05 - val_root_mean_squared_error: 0.0098 - val_mae: 0.0045 - val_r_square: 0.8431\n",
      "Epoch 12/100\n",
      "13039/13039 [==============================] - 6s 440us/step - loss: 6.6562e-05 - mse: 6.6562e-05 - root_mean_squared_error: 0.0082 - mae: 0.0044 - r_square: 0.8899 - val_loss: 1.0708e-04 - val_mse: 1.0708e-04 - val_root_mean_squared_error: 0.0103 - val_mae: 0.0047 - val_r_square: 0.8264\n",
      "Epoch 13/100\n",
      "13039/13039 [==============================] - 6s 440us/step - loss: 6.3313e-05 - mse: 6.3313e-05 - root_mean_squared_error: 0.0080 - mae: 0.0044 - r_square: 0.8953 - val_loss: 9.4374e-05 - val_mse: 9.4374e-05 - val_root_mean_squared_error: 0.0097 - val_mae: 0.0047 - val_r_square: 0.8470\n",
      "Epoch 14/100\n",
      "13039/13039 [==============================] - 6s 443us/step - loss: 6.6774e-05 - mse: 6.6774e-05 - root_mean_squared_error: 0.0082 - mae: 0.0044 - r_square: 0.8896 - val_loss: 1.0389e-04 - val_mse: 1.0389e-04 - val_root_mean_squared_error: 0.0102 - val_mae: 0.0047 - val_r_square: 0.8316\n",
      "Epoch 15/100\n",
      "13039/13039 [==============================] - 6s 438us/step - loss: 6.7299e-05 - mse: 6.7299e-05 - root_mean_squared_error: 0.0082 - mae: 0.0044 - r_square: 0.8887 - val_loss: 9.6304e-05 - val_mse: 9.6304e-05 - val_root_mean_squared_error: 0.0098 - val_mae: 0.0046 - val_r_square: 0.8439\n",
      "Epoch 16/100\n",
      "13039/13039 [==============================] - 6s 439us/step - loss: 6.5112e-05 - mse: 6.5112e-05 - root_mean_squared_error: 0.0081 - mae: 0.0044 - r_square: 0.8923 - val_loss: 1.0768e-04 - val_mse: 1.0768e-04 - val_root_mean_squared_error: 0.0104 - val_mae: 0.0054 - val_r_square: 0.8254\n",
      "Epoch 17/100\n",
      "13039/13039 [==============================] - 6s 439us/step - loss: 6.6070e-05 - mse: 6.6070e-05 - root_mean_squared_error: 0.0081 - mae: 0.0044 - r_square: 0.8907 - val_loss: 9.0035e-05 - val_mse: 9.0035e-05 - val_root_mean_squared_error: 0.0095 - val_mae: 0.0044 - val_r_square: 0.8540\n",
      "Epoch 18/100\n",
      "13039/13039 [==============================] - 6s 438us/step - loss: 6.1627e-05 - mse: 6.1627e-05 - root_mean_squared_error: 0.0079 - mae: 0.0043 - r_square: 0.8981 - val_loss: 1.2025e-04 - val_mse: 1.2025e-04 - val_root_mean_squared_error: 0.0110 - val_mae: 0.0055 - val_r_square: 0.8051\n",
      "Epoch 19/100\n",
      "13039/13039 [==============================] - 6s 434us/step - loss: 6.6114e-05 - mse: 6.6114e-05 - root_mean_squared_error: 0.0081 - mae: 0.0044 - r_square: 0.8906 - val_loss: 9.0334e-05 - val_mse: 9.0334e-05 - val_root_mean_squared_error: 0.0095 - val_mae: 0.0048 - val_r_square: 0.8536\n",
      "Epoch 20/100\n",
      "13039/13039 [==============================] - 6s 437us/step - loss: 6.4622e-05 - mse: 6.4622e-05 - root_mean_squared_error: 0.0080 - mae: 0.0043 - r_square: 0.8931 - val_loss: 1.0657e-04 - val_mse: 1.0657e-04 - val_root_mean_squared_error: 0.0103 - val_mae: 0.0052 - val_r_square: 0.8272\n",
      "Epoch 21/100\n",
      "13039/13039 [==============================] - 6s 438us/step - loss: 6.3961e-05 - mse: 6.3961e-05 - root_mean_squared_error: 0.0080 - mae: 0.0043 - r_square: 0.8942 - val_loss: 1.1944e-04 - val_mse: 1.1944e-04 - val_root_mean_squared_error: 0.0109 - val_mae: 0.0056 - val_r_square: 0.8064\n",
      "Epoch 22/100\n",
      "13039/13039 [==============================] - 6s 436us/step - loss: 6.4353e-05 - mse: 6.4353e-05 - root_mean_squared_error: 0.0080 - mae: 0.0044 - r_square: 0.8936 - val_loss: 1.0493e-04 - val_mse: 1.0493e-04 - val_root_mean_squared_error: 0.0102 - val_mae: 0.0055 - val_r_square: 0.8299\n",
      "Epoch 23/100\n",
      "13039/13039 [==============================] - 6s 434us/step - loss: 6.3801e-05 - mse: 6.3801e-05 - root_mean_squared_error: 0.0080 - mae: 0.0044 - r_square: 0.8945 - val_loss: 9.3019e-05 - val_mse: 9.3019e-05 - val_root_mean_squared_error: 0.0096 - val_mae: 0.0046 - val_r_square: 0.8492\n",
      "Epoch 24/100\n",
      "13039/13039 [==============================] - 6s 435us/step - loss: 6.3735e-05 - mse: 6.3735e-05 - root_mean_squared_error: 0.0080 - mae: 0.0043 - r_square: 0.8946 - val_loss: 1.0268e-04 - val_mse: 1.0268e-04 - val_root_mean_squared_error: 0.0101 - val_mae: 0.0050 - val_r_square: 0.8335\n",
      "Epoch 25/100\n",
      "13039/13039 [==============================] - 6s 433us/step - loss: 6.3483e-05 - mse: 6.3483e-05 - root_mean_squared_error: 0.0080 - mae: 0.0043 - r_square: 0.8950 - val_loss: 1.4915e-04 - val_mse: 1.4915e-04 - val_root_mean_squared_error: 0.0122 - val_mae: 0.0063 - val_r_square: 0.7582\n",
      "Epoch 26/100\n",
      "13039/13039 [==============================] - 6s 437us/step - loss: 6.5312e-05 - mse: 6.5312e-05 - root_mean_squared_error: 0.0081 - mae: 0.0043 - r_square: 0.8920 - val_loss: 9.5865e-05 - val_mse: 9.5865e-05 - val_root_mean_squared_error: 0.0098 - val_mae: 0.0044 - val_r_square: 0.8446\n",
      "Epoch 27/100\n",
      "13039/13039 [==============================] - 6s 433us/step - loss: 6.4678e-05 - mse: 6.4678e-05 - root_mean_squared_error: 0.0080 - mae: 0.0043 - r_square: 0.8930 - val_loss: 8.8973e-05 - val_mse: 8.8973e-05 - val_root_mean_squared_error: 0.0094 - val_mae: 0.0048 - val_r_square: 0.8558\n",
      "Epoch 28/100\n"
     ]
    },
    {
     "name": "stdout",
     "output_type": "stream",
     "text": [
      "13039/13039 [==============================] - 6s 434us/step - loss: 6.5985e-05 - mse: 6.5985e-05 - root_mean_squared_error: 0.0081 - mae: 0.0043 - r_square: 0.8909 - val_loss: 1.1384e-04 - val_mse: 1.1384e-04 - val_root_mean_squared_error: 0.0107 - val_mae: 0.0054 - val_r_square: 0.8155\n",
      "Epoch 29/100\n",
      "13039/13039 [==============================] - 6s 433us/step - loss: 6.4194e-05 - mse: 6.4194e-05 - root_mean_squared_error: 0.0080 - mae: 0.0043 - r_square: 0.8938 - val_loss: 1.0393e-04 - val_mse: 1.0393e-04 - val_root_mean_squared_error: 0.0102 - val_mae: 0.0048 - val_r_square: 0.8315\n",
      "Epoch 30/100\n",
      "13039/13039 [==============================] - 6s 432us/step - loss: 6.4073e-05 - mse: 6.4073e-05 - root_mean_squared_error: 0.0080 - mae: 0.0043 - r_square: 0.8940 - val_loss: 1.1213e-04 - val_mse: 1.1213e-04 - val_root_mean_squared_error: 0.0106 - val_mae: 0.0053 - val_r_square: 0.8182\n",
      "Epoch 31/100\n",
      "13039/13039 [==============================] - 6s 437us/step - loss: 6.0535e-05 - mse: 6.0535e-05 - root_mean_squared_error: 0.0078 - mae: 0.0042 - r_square: 0.8999 - val_loss: 1.2500e-04 - val_mse: 1.2500e-04 - val_root_mean_squared_error: 0.0112 - val_mae: 0.0050 - val_r_square: 0.7974\n",
      "Epoch 32/100\n",
      "13039/13039 [==============================] - 6s 437us/step - loss: 6.2822e-05 - mse: 6.2822e-05 - root_mean_squared_error: 0.0079 - mae: 0.0042 - r_square: 0.8961 - val_loss: 1.0458e-04 - val_mse: 1.0458e-04 - val_root_mean_squared_error: 0.0102 - val_mae: 0.0043 - val_r_square: 0.8305\n",
      "Epoch 33/100\n",
      "13039/13039 [==============================] - 6s 436us/step - loss: 6.3605e-05 - mse: 6.3605e-05 - root_mean_squared_error: 0.0080 - mae: 0.0042 - r_square: 0.8948 - val_loss: 1.0794e-04 - val_mse: 1.0794e-04 - val_root_mean_squared_error: 0.0104 - val_mae: 0.0055 - val_r_square: 0.8250\n",
      "Epoch 34/100\n",
      "13039/13039 [==============================] - 6s 441us/step - loss: 6.2788e-05 - mse: 6.2788e-05 - root_mean_squared_error: 0.0079 - mae: 0.0042 - r_square: 0.8962 - val_loss: 9.0239e-05 - val_mse: 9.0239e-05 - val_root_mean_squared_error: 0.0095 - val_mae: 0.0048 - val_r_square: 0.8537\n",
      "Epoch 35/100\n",
      "13039/13039 [==============================] - 6s 435us/step - loss: 6.1675e-05 - mse: 6.1675e-05 - root_mean_squared_error: 0.0079 - mae: 0.0042 - r_square: 0.8980 - val_loss: 9.6457e-05 - val_mse: 9.6457e-05 - val_root_mean_squared_error: 0.0098 - val_mae: 0.0046 - val_r_square: 0.8436\n",
      "Epoch 36/100\n",
      "13039/13039 [==============================] - 6s 435us/step - loss: 6.1314e-05 - mse: 6.1314e-05 - root_mean_squared_error: 0.0078 - mae: 0.0041 - r_square: 0.8986 - val_loss: 1.0388e-04 - val_mse: 1.0388e-04 - val_root_mean_squared_error: 0.0102 - val_mae: 0.0050 - val_r_square: 0.8316\n",
      "Epoch 37/100\n",
      "13039/13039 [==============================] - 6s 437us/step - loss: 6.1761e-05 - mse: 6.1761e-05 - root_mean_squared_error: 0.0079 - mae: 0.0042 - r_square: 0.8979 - val_loss: 1.3511e-04 - val_mse: 1.3511e-04 - val_root_mean_squared_error: 0.0116 - val_mae: 0.0056 - val_r_square: 0.7810\n",
      "Epoch 38/100\n",
      "13039/13039 [==============================] - 6s 439us/step - loss: 6.0445e-05 - mse: 6.0445e-05 - root_mean_squared_error: 0.0078 - mae: 0.0041 - r_square: 0.9000 - val_loss: 1.0373e-04 - val_mse: 1.0373e-04 - val_root_mean_squared_error: 0.0102 - val_mae: 0.0048 - val_r_square: 0.8318\n",
      "Epoch 39/100\n",
      "13039/13039 [==============================] - 6s 440us/step - loss: 6.1131e-05 - mse: 6.1131e-05 - root_mean_squared_error: 0.0078 - mae: 0.0041 - r_square: 0.8989 - val_loss: 1.0362e-04 - val_mse: 1.0362e-04 - val_root_mean_squared_error: 0.0102 - val_mae: 0.0046 - val_r_square: 0.8320\n",
      "Epoch 40/100\n",
      "13039/13039 [==============================] - 6s 437us/step - loss: 6.0855e-05 - mse: 6.0855e-05 - root_mean_squared_error: 0.0078 - mae: 0.0041 - r_square: 0.8993 - val_loss: 9.8213e-05 - val_mse: 9.8213e-05 - val_root_mean_squared_error: 0.0099 - val_mae: 0.0048 - val_r_square: 0.8408\n",
      "Epoch 41/100\n",
      "13039/13039 [==============================] - 6s 434us/step - loss: 6.0334e-05 - mse: 6.0334e-05 - root_mean_squared_error: 0.0078 - mae: 0.0041 - r_square: 0.9002 - val_loss: 1.1187e-04 - val_mse: 1.1187e-04 - val_root_mean_squared_error: 0.0106 - val_mae: 0.0048 - val_r_square: 0.8187\n",
      "Epoch 42/100\n",
      "13039/13039 [==============================] - 6s 433us/step - loss: 6.0933e-05 - mse: 6.0933e-05 - root_mean_squared_error: 0.0078 - mae: 0.0041 - r_square: 0.8992 - val_loss: 1.1803e-04 - val_mse: 1.1803e-04 - val_root_mean_squared_error: 0.0109 - val_mae: 0.0051 - val_r_square: 0.8087\n",
      "Epoch 43/100\n",
      "13039/13039 [==============================] - 6s 427us/step - loss: 6.0383e-05 - mse: 6.0383e-05 - root_mean_squared_error: 0.0078 - mae: 0.0041 - r_square: 0.9001 - val_loss: 1.1493e-04 - val_mse: 1.1493e-04 - val_root_mean_squared_error: 0.0107 - val_mae: 0.0050 - val_r_square: 0.8137\n",
      "Epoch 44/100\n",
      "13039/13039 [==============================] - 6s 432us/step - loss: 6.1566e-05 - mse: 6.1566e-05 - root_mean_squared_error: 0.0078 - mae: 0.0041 - r_square: 0.8982 - val_loss: 8.9979e-05 - val_mse: 8.9979e-05 - val_root_mean_squared_error: 0.0095 - val_mae: 0.0044 - val_r_square: 0.8541\n",
      "Epoch 45/100\n",
      "13039/13039 [==============================] - 6s 430us/step - loss: 5.9876e-05 - mse: 5.9876e-05 - root_mean_squared_error: 0.0077 - mae: 0.0040 - r_square: 0.9010 - val_loss: 9.8579e-05 - val_mse: 9.8579e-05 - val_root_mean_squared_error: 0.0099 - val_mae: 0.0049 - val_r_square: 0.8402\n",
      "Epoch 46/100\n",
      "13039/13039 [==============================] - 6s 434us/step - loss: 5.9442e-05 - mse: 5.9442e-05 - root_mean_squared_error: 0.0077 - mae: 0.0040 - r_square: 0.9017 - val_loss: 9.6902e-05 - val_mse: 9.6902e-05 - val_root_mean_squared_error: 0.0098 - val_mae: 0.0048 - val_r_square: 0.8429\n",
      "Epoch 47/100\n",
      "13039/13039 [==============================] - 6s 436us/step - loss: 5.9581e-05 - mse: 5.9581e-05 - root_mean_squared_error: 0.0077 - mae: 0.0040 - r_square: 0.9015 - val_loss: 1.0542e-04 - val_mse: 1.0542e-04 - val_root_mean_squared_error: 0.0103 - val_mae: 0.0048 - val_r_square: 0.8291\n",
      "Epoch 48/100\n",
      "13039/13039 [==============================] - 6s 431us/step - loss: 6.0523e-05 - mse: 6.0523e-05 - root_mean_squared_error: 0.0078 - mae: 0.0040 - r_square: 0.8999 - val_loss: 1.0540e-04 - val_mse: 1.0540e-04 - val_root_mean_squared_error: 0.0103 - val_mae: 0.0050 - val_r_square: 0.8291\n",
      "Epoch 49/100\n",
      "13039/13039 [==============================] - 6s 432us/step - loss: 6.1886e-05 - mse: 6.1886e-05 - root_mean_squared_error: 0.0079 - mae: 0.0040 - r_square: 0.8976 - val_loss: 8.9170e-05 - val_mse: 8.9170e-05 - val_root_mean_squared_error: 0.0094 - val_mae: 0.0045 - val_r_square: 0.8554\n",
      "Epoch 50/100\n",
      "13039/13039 [==============================] - 6s 431us/step - loss: 6.0560e-05 - mse: 6.0560e-05 - root_mean_squared_error: 0.0078 - mae: 0.0039 - r_square: 0.8998 - val_loss: 8.4843e-05 - val_mse: 8.4843e-05 - val_root_mean_squared_error: 0.0092 - val_mae: 0.0044 - val_r_square: 0.8625\n",
      "Epoch 51/100\n",
      "13039/13039 [==============================] - 6s 432us/step - loss: 6.0083e-05 - mse: 6.0083e-05 - root_mean_squared_error: 0.0078 - mae: 0.0039 - r_square: 0.9006 - val_loss: 8.7864e-05 - val_mse: 8.7864e-05 - val_root_mean_squared_error: 0.0094 - val_mae: 0.0042 - val_r_square: 0.8576\n",
      "Epoch 52/100\n",
      "13039/13039 [==============================] - 6s 432us/step - loss: 5.9880e-05 - mse: 5.9880e-05 - root_mean_squared_error: 0.0077 - mae: 0.0039 - r_square: 0.9010 - val_loss: 7.8370e-05 - val_mse: 7.8370e-05 - val_root_mean_squared_error: 0.0089 - val_mae: 0.0041 - val_r_square: 0.8730\n",
      "Epoch 53/100\n",
      "13039/13039 [==============================] - 6s 434us/step - loss: 6.0504e-05 - mse: 6.0504e-05 - root_mean_squared_error: 0.0078 - mae: 0.0039 - r_square: 0.8999 - val_loss: 9.3511e-05 - val_mse: 9.3511e-05 - val_root_mean_squared_error: 0.0097 - val_mae: 0.0044 - val_r_square: 0.8484\n",
      "Epoch 54/100\n",
      "13039/13039 [==============================] - 6s 434us/step - loss: 5.9783e-05 - mse: 5.9783e-05 - root_mean_squared_error: 0.0077 - mae: 0.0039 - r_square: 0.9011 - val_loss: 8.4719e-05 - val_mse: 8.4719e-05 - val_root_mean_squared_error: 0.0092 - val_mae: 0.0041 - val_r_square: 0.8627\n",
      "Epoch 55/100\n"
     ]
    },
    {
     "name": "stdout",
     "output_type": "stream",
     "text": [
      "13039/13039 [==============================] - 6s 436us/step - loss: 6.0200e-05 - mse: 6.0200e-05 - root_mean_squared_error: 0.0078 - mae: 0.0040 - r_square: 0.9004 - val_loss: 9.8430e-05 - val_mse: 9.8430e-05 - val_root_mean_squared_error: 0.0099 - val_mae: 0.0048 - val_r_square: 0.8404\n",
      "Epoch 56/100\n",
      "13039/13039 [==============================] - 6s 437us/step - loss: 5.9457e-05 - mse: 5.9457e-05 - root_mean_squared_error: 0.0077 - mae: 0.0040 - r_square: 0.9017 - val_loss: 1.1103e-04 - val_mse: 1.1103e-04 - val_root_mean_squared_error: 0.0105 - val_mae: 0.0048 - val_r_square: 0.8200\n",
      "Epoch 57/100\n",
      "13039/13039 [==============================] - 6s 429us/step - loss: 5.7617e-05 - mse: 5.7617e-05 - root_mean_squared_error: 0.0076 - mae: 0.0039 - r_square: 0.9047 - val_loss: 1.0031e-04 - val_mse: 1.0031e-04 - val_root_mean_squared_error: 0.0100 - val_mae: 0.0044 - val_r_square: 0.8374\n",
      "Epoch 58/100\n",
      "13039/13039 [==============================] - 6s 430us/step - loss: 6.1105e-05 - mse: 6.1105e-05 - root_mean_squared_error: 0.0078 - mae: 0.0040 - r_square: 0.8989 - val_loss: 1.1347e-04 - val_mse: 1.1347e-04 - val_root_mean_squared_error: 0.0107 - val_mae: 0.0044 - val_r_square: 0.8161\n",
      "Epoch 59/100\n",
      "13039/13039 [==============================] - 6s 429us/step - loss: 6.2337e-05 - mse: 6.2337e-05 - root_mean_squared_error: 0.0079 - mae: 0.0039 - r_square: 0.8969 - val_loss: 1.2009e-04 - val_mse: 1.2009e-04 - val_root_mean_squared_error: 0.0110 - val_mae: 0.0043 - val_r_square: 0.8053\n",
      "Epoch 60/100\n",
      "13039/13039 [==============================] - 6s 430us/step - loss: 6.1480e-05 - mse: 6.1480e-05 - root_mean_squared_error: 0.0078 - mae: 0.0039 - r_square: 0.8983 - val_loss: 8.8150e-05 - val_mse: 8.8150e-05 - val_root_mean_squared_error: 0.0094 - val_mae: 0.0042 - val_r_square: 0.8571\n",
      "Epoch 61/100\n",
      "13039/13039 [==============================] - 6s 432us/step - loss: 5.9959e-05 - mse: 5.9959e-05 - root_mean_squared_error: 0.0077 - mae: 0.0039 - r_square: 0.9008 - val_loss: 9.1221e-05 - val_mse: 9.1221e-05 - val_root_mean_squared_error: 0.0096 - val_mae: 0.0040 - val_r_square: 0.8521\n",
      "Epoch 62/100\n",
      "13039/13039 [==============================] - 6s 429us/step - loss: 5.8638e-05 - mse: 5.8638e-05 - root_mean_squared_error: 0.0077 - mae: 0.0039 - r_square: 0.9030 - val_loss: 8.9328e-05 - val_mse: 8.9328e-05 - val_root_mean_squared_error: 0.0095 - val_mae: 0.0043 - val_r_square: 0.8552\n",
      "Epoch 63/100\n",
      "13039/13039 [==============================] - 6s 429us/step - loss: 5.9346e-05 - mse: 5.9346e-05 - root_mean_squared_error: 0.0077 - mae: 0.0039 - r_square: 0.9018 - val_loss: 9.5491e-05 - val_mse: 9.5491e-05 - val_root_mean_squared_error: 0.0098 - val_mae: 0.0040 - val_r_square: 0.8452\n",
      "Epoch 64/100\n",
      "13039/13039 [==============================] - 6s 430us/step - loss: 6.1004e-05 - mse: 6.1004e-05 - root_mean_squared_error: 0.0078 - mae: 0.0039 - r_square: 0.8991 - val_loss: 8.2011e-05 - val_mse: 8.2011e-05 - val_root_mean_squared_error: 0.0091 - val_mae: 0.0040 - val_r_square: 0.8671\n",
      "Epoch 65/100\n",
      "13039/13039 [==============================] - 6s 429us/step - loss: 5.9148e-05 - mse: 5.9148e-05 - root_mean_squared_error: 0.0077 - mae: 0.0039 - r_square: 0.9022 - val_loss: 8.1599e-05 - val_mse: 8.1599e-05 - val_root_mean_squared_error: 0.0090 - val_mae: 0.0039 - val_r_square: 0.8677\n",
      "Epoch 66/100\n",
      "13039/13039 [==============================] - 6s 435us/step - loss: 5.9252e-05 - mse: 5.9252e-05 - root_mean_squared_error: 0.0077 - mae: 0.0039 - r_square: 0.9020 - val_loss: 9.7824e-05 - val_mse: 9.7824e-05 - val_root_mean_squared_error: 0.0099 - val_mae: 0.0046 - val_r_square: 0.8414\n",
      "Epoch 67/100\n",
      "13039/13039 [==============================] - 6s 433us/step - loss: 6.1807e-05 - mse: 6.1807e-05 - root_mean_squared_error: 0.0079 - mae: 0.0039 - r_square: 0.8978 - val_loss: 9.0801e-05 - val_mse: 9.0801e-05 - val_root_mean_squared_error: 0.0095 - val_mae: 0.0040 - val_r_square: 0.8528\n",
      "Epoch 68/100\n",
      "13039/13039 [==============================] - 6s 432us/step - loss: 6.2999e-05 - mse: 6.2999e-05 - root_mean_squared_error: 0.0079 - mae: 0.0039 - r_square: 0.8958 - val_loss: 9.1625e-05 - val_mse: 9.1625e-05 - val_root_mean_squared_error: 0.0096 - val_mae: 0.0038 - val_r_square: 0.8515\n",
      "Epoch 69/100\n",
      "13039/13039 [==============================] - 6s 432us/step - loss: 5.9629e-05 - mse: 5.9629e-05 - root_mean_squared_error: 0.0077 - mae: 0.0038 - r_square: 0.9014 - val_loss: 1.3368e-04 - val_mse: 1.3368e-04 - val_root_mean_squared_error: 0.0116 - val_mae: 0.0067 - val_r_square: 0.7833\n",
      "Epoch 70/100\n",
      "13039/13039 [==============================] - 6s 435us/step - loss: 5.9318e-05 - mse: 5.9318e-05 - root_mean_squared_error: 0.0077 - mae: 0.0039 - r_square: 0.9019 - val_loss: 8.8219e-05 - val_mse: 8.8219e-05 - val_root_mean_squared_error: 0.0094 - val_mae: 0.0043 - val_r_square: 0.8570\n",
      "Epoch 71/100\n",
      "13039/13039 [==============================] - 6s 433us/step - loss: 6.0356e-05 - mse: 6.0356e-05 - root_mean_squared_error: 0.0078 - mae: 0.0039 - r_square: 0.9002 - val_loss: 8.5618e-05 - val_mse: 8.5618e-05 - val_root_mean_squared_error: 0.0093 - val_mae: 0.0040 - val_r_square: 0.8612\n",
      "Epoch 72/100\n",
      "13039/13039 [==============================] - 6s 429us/step - loss: 5.9084e-05 - mse: 5.9084e-05 - root_mean_squared_error: 0.0077 - mae: 0.0039 - r_square: 0.9023 - val_loss: 9.4668e-05 - val_mse: 9.4668e-05 - val_root_mean_squared_error: 0.0097 - val_mae: 0.0036 - val_r_square: 0.8465\n",
      "Epoch 73/100\n",
      "13039/13039 [==============================] - 6s 432us/step - loss: 5.9915e-05 - mse: 5.9915e-05 - root_mean_squared_error: 0.0077 - mae: 0.0039 - r_square: 0.9009 - val_loss: 1.0068e-04 - val_mse: 1.0068e-04 - val_root_mean_squared_error: 0.0100 - val_mae: 0.0043 - val_r_square: 0.8368\n",
      "Epoch 74/100\n",
      "13039/13039 [==============================] - 6s 438us/step - loss: 5.8919e-05 - mse: 5.8919e-05 - root_mean_squared_error: 0.0077 - mae: 0.0039 - r_square: 0.9026 - val_loss: 9.6914e-05 - val_mse: 9.6914e-05 - val_root_mean_squared_error: 0.0098 - val_mae: 0.0043 - val_r_square: 0.8429\n",
      "Epoch 75/100\n",
      "13039/13039 [==============================] - 6s 426us/step - loss: 6.0507e-05 - mse: 6.0507e-05 - root_mean_squared_error: 0.0078 - mae: 0.0039 - r_square: 0.8999 - val_loss: 8.6548e-05 - val_mse: 8.6548e-05 - val_root_mean_squared_error: 0.0093 - val_mae: 0.0040 - val_r_square: 0.8597\n",
      "Epoch 76/100\n",
      "13039/13039 [==============================] - 6s 431us/step - loss: 5.9398e-05 - mse: 5.9398e-05 - root_mean_squared_error: 0.0077 - mae: 0.0038 - r_square: 0.9018 - val_loss: 8.2252e-05 - val_mse: 8.2252e-05 - val_root_mean_squared_error: 0.0091 - val_mae: 0.0040 - val_r_square: 0.8667\n",
      "Epoch 77/100\n",
      "13039/13039 [==============================] - 6s 429us/step - loss: 5.8813e-05 - mse: 5.8813e-05 - root_mean_squared_error: 0.0077 - mae: 0.0038 - r_square: 0.9027 - val_loss: 9.9614e-05 - val_mse: 9.9614e-05 - val_root_mean_squared_error: 0.0100 - val_mae: 0.0037 - val_r_square: 0.8385\n",
      "Epoch 78/100\n",
      "13039/13039 [==============================] - 6s 428us/step - loss: 6.1199e-05 - mse: 6.1199e-05 - root_mean_squared_error: 0.0078 - mae: 0.0038 - r_square: 0.8988 - val_loss: 8.4868e-05 - val_mse: 8.4868e-05 - val_root_mean_squared_error: 0.0092 - val_mae: 0.0037 - val_r_square: 0.8624\n",
      "Epoch 79/100\n",
      "13039/13039 [==============================] - 6s 428us/step - loss: 5.9147e-05 - mse: 5.9147e-05 - root_mean_squared_error: 0.0077 - mae: 0.0039 - r_square: 0.9022 - val_loss: 1.0030e-04 - val_mse: 1.0030e-04 - val_root_mean_squared_error: 0.0100 - val_mae: 0.0046 - val_r_square: 0.8374\n",
      "Epoch 80/100\n",
      "13039/13039 [==============================] - 6s 427us/step - loss: 6.0440e-05 - mse: 6.0440e-05 - root_mean_squared_error: 0.0078 - mae: 0.0039 - r_square: 0.9000 - val_loss: 7.4140e-05 - val_mse: 7.4140e-05 - val_root_mean_squared_error: 0.0086 - val_mae: 0.0038 - val_r_square: 0.8798\n",
      "Epoch 81/100\n",
      "13039/13039 [==============================] - 6s 428us/step - loss: 5.8094e-05 - mse: 5.8094e-05 - root_mean_squared_error: 0.0076 - mae: 0.0038 - r_square: 0.9039 - val_loss: 9.6591e-05 - val_mse: 9.6591e-05 - val_root_mean_squared_error: 0.0098 - val_mae: 0.0038 - val_r_square: 0.8434\n",
      "Epoch 82/100\n"
     ]
    },
    {
     "name": "stdout",
     "output_type": "stream",
     "text": [
      "13039/13039 [==============================] - 6s 427us/step - loss: 5.9567e-05 - mse: 5.9567e-05 - root_mean_squared_error: 0.0077 - mae: 0.0038 - r_square: 0.9015 - val_loss: 9.1907e-05 - val_mse: 9.1907e-05 - val_root_mean_squared_error: 0.0096 - val_mae: 0.0039 - val_r_square: 0.8510\n",
      "Epoch 83/100\n",
      "13039/13039 [==============================] - 6s 429us/step - loss: 5.6816e-05 - mse: 5.6816e-05 - root_mean_squared_error: 0.0075 - mae: 0.0038 - r_square: 0.9060 - val_loss: 9.7409e-05 - val_mse: 9.7409e-05 - val_root_mean_squared_error: 0.0099 - val_mae: 0.0039 - val_r_square: 0.8421\n",
      "Epoch 84/100\n",
      "13039/13039 [==============================] - 6s 432us/step - loss: 5.9917e-05 - mse: 5.9917e-05 - root_mean_squared_error: 0.0077 - mae: 0.0039 - r_square: 0.9009 - val_loss: 1.0322e-04 - val_mse: 1.0322e-04 - val_root_mean_squared_error: 0.0102 - val_mae: 0.0036 - val_r_square: 0.8327\n",
      "Epoch 85/100\n",
      "13039/13039 [==============================] - 6s 436us/step - loss: 5.6630e-05 - mse: 5.6630e-05 - root_mean_squared_error: 0.0075 - mae: 0.0038 - r_square: 0.9063 - val_loss: 1.0186e-04 - val_mse: 1.0186e-04 - val_root_mean_squared_error: 0.0101 - val_mae: 0.0040 - val_r_square: 0.8349\n",
      "Epoch 86/100\n",
      "13039/13039 [==============================] - 6s 429us/step - loss: 6.0404e-05 - mse: 6.0404e-05 - root_mean_squared_error: 0.0078 - mae: 0.0038 - r_square: 0.9001 - val_loss: 1.0144e-04 - val_mse: 1.0144e-04 - val_root_mean_squared_error: 0.0101 - val_mae: 0.0042 - val_r_square: 0.8356\n",
      "Epoch 87/100\n",
      "13039/13039 [==============================] - 6s 427us/step - loss: 5.9852e-05 - mse: 5.9852e-05 - root_mean_squared_error: 0.0077 - mae: 0.0038 - r_square: 0.9010 - val_loss: 9.9919e-05 - val_mse: 9.9919e-05 - val_root_mean_squared_error: 0.0100 - val_mae: 0.0040 - val_r_square: 0.8380\n",
      "Epoch 88/100\n",
      "13039/13039 [==============================] - 6s 427us/step - loss: 5.9231e-05 - mse: 5.9231e-05 - root_mean_squared_error: 0.0077 - mae: 0.0038 - r_square: 0.9020 - val_loss: 1.0989e-04 - val_mse: 1.0989e-04 - val_root_mean_squared_error: 0.0105 - val_mae: 0.0042 - val_r_square: 0.8219\n",
      "Epoch 89/100\n",
      "13039/13039 [==============================] - 6s 428us/step - loss: 6.0996e-05 - mse: 6.0996e-05 - root_mean_squared_error: 0.0078 - mae: 0.0038 - r_square: 0.8991 - val_loss: 8.9181e-05 - val_mse: 8.9181e-05 - val_root_mean_squared_error: 0.0094 - val_mae: 0.0038 - val_r_square: 0.8554\n",
      "Epoch 90/100\n",
      "13039/13039 [==============================] - 6s 429us/step - loss: 5.9491e-05 - mse: 5.9491e-05 - root_mean_squared_error: 0.0077 - mae: 0.0038 - r_square: 0.9016 - val_loss: 1.0708e-04 - val_mse: 1.0708e-04 - val_root_mean_squared_error: 0.0103 - val_mae: 0.0040 - val_r_square: 0.8264\n",
      "Epoch 91/100\n",
      "13039/13039 [==============================] - 6s 428us/step - loss: 5.8106e-05 - mse: 5.8106e-05 - root_mean_squared_error: 0.0076 - mae: 0.0038 - r_square: 0.9039 - val_loss: 8.8453e-05 - val_mse: 8.8453e-05 - val_root_mean_squared_error: 0.0094 - val_mae: 0.0035 - val_r_square: 0.8566\n",
      "Epoch 92/100\n",
      "13039/13039 [==============================] - 6s 429us/step - loss: 5.9375e-05 - mse: 5.9375e-05 - root_mean_squared_error: 0.0077 - mae: 0.0038 - r_square: 0.9018 - val_loss: 8.5108e-05 - val_mse: 8.5108e-05 - val_root_mean_squared_error: 0.0092 - val_mae: 0.0037 - val_r_square: 0.8620\n",
      "Epoch 93/100\n",
      "13039/13039 [==============================] - 6s 428us/step - loss: 5.8737e-05 - mse: 5.8737e-05 - root_mean_squared_error: 0.0077 - mae: 0.0038 - r_square: 0.9029 - val_loss: 8.9904e-05 - val_mse: 8.9904e-05 - val_root_mean_squared_error: 0.0095 - val_mae: 0.0042 - val_r_square: 0.8543\n",
      "Epoch 94/100\n",
      "13039/13039 [==============================] - 6s 428us/step - loss: 5.9173e-05 - mse: 5.9173e-05 - root_mean_squared_error: 0.0077 - mae: 0.0038 - r_square: 0.9021 - val_loss: 8.9716e-05 - val_mse: 8.9716e-05 - val_root_mean_squared_error: 0.0095 - val_mae: 0.0036 - val_r_square: 0.8546\n",
      "Epoch 95/100\n",
      "13039/13039 [==============================] - 6s 428us/step - loss: 5.8856e-05 - mse: 5.8856e-05 - root_mean_squared_error: 0.0077 - mae: 0.0038 - r_square: 0.9027 - val_loss: 8.5376e-05 - val_mse: 8.5376e-05 - val_root_mean_squared_error: 0.0092 - val_mae: 0.0035 - val_r_square: 0.8616\n",
      "Epoch 96/100\n",
      "13039/13039 [==============================] - 6s 428us/step - loss: 6.0361e-05 - mse: 6.0361e-05 - root_mean_squared_error: 0.0078 - mae: 0.0038 - r_square: 0.9002 - val_loss: 1.6518e-04 - val_mse: 1.6518e-04 - val_root_mean_squared_error: 0.0129 - val_mae: 0.0047 - val_r_square: 0.7322\n",
      "Epoch 97/100\n",
      "13039/13039 [==============================] - 6s 427us/step - loss: 5.9635e-05 - mse: 5.9635e-05 - root_mean_squared_error: 0.0077 - mae: 0.0038 - r_square: 0.9014 - val_loss: 8.1547e-05 - val_mse: 8.1547e-05 - val_root_mean_squared_error: 0.0090 - val_mae: 0.0042 - val_r_square: 0.8678\n",
      "Epoch 98/100\n",
      "13039/13039 [==============================] - 6s 428us/step - loss: 5.6810e-05 - mse: 5.6810e-05 - root_mean_squared_error: 0.0075 - mae: 0.0038 - r_square: 0.9060 - val_loss: 1.1320e-04 - val_mse: 1.1320e-04 - val_root_mean_squared_error: 0.0106 - val_mae: 0.0043 - val_r_square: 0.8165\n",
      "Epoch 99/100\n",
      "13039/13039 [==============================] - 6s 428us/step - loss: 5.9886e-05 - mse: 5.9886e-05 - root_mean_squared_error: 0.0077 - mae: 0.0038 - r_square: 0.9010 - val_loss: 8.4847e-05 - val_mse: 8.4847e-05 - val_root_mean_squared_error: 0.0092 - val_mae: 0.0037 - val_r_square: 0.8625\n",
      "Epoch 100/100\n",
      "13039/13039 [==============================] - 6s 426us/step - loss: 5.8391e-05 - mse: 5.8391e-05 - root_mean_squared_error: 0.0076 - mae: 0.0038 - r_square: 0.9034 - val_loss: 7.6599e-05 - val_mse: 7.6600e-05 - val_root_mean_squared_error: 0.0088 - val_mae: 0.0036 - val_r_square: 0.8758\n"
     ]
    },
    {
     "data": {
      "text/plain": [
       "<keras.callbacks.History at 0x169338c50>"
      ]
     },
     "execution_count": 6,
     "metadata": {},
     "output_type": "execute_result"
    }
   ],
   "source": [
    "# Defining the model\n",
    "model = keras.Sequential([\n",
    "    keras.layers.Dense(32, input_shape=(26,) , activation='relu'),\n",
    "    keras.layers.AlphaDropout(0.1),\n",
    "    keras.layers.Dense(16,  activation='relu'),\n",
    "    keras.layers.Dense(16,  activation='relu'),\n",
    "    keras.layers.Dense(1, activation='linear')\n",
    "])\n",
    " \n",
    "optimizer = keras.optimizers.Adam(lr=0.01)\n",
    "model.compile(loss='mse',\n",
    "              optimizer=optimizer,\n",
    "              metrics=['mse',tf.keras.metrics.RootMeanSquaredError(),\n",
    "                       'mae',RSquare()])\n",
    "\n",
    "\n",
    "# fitting the model\n",
    "model.fit(X_train, y_train, epochs=100, batch_size=12,  validation_data=(X_val, y_val))"
   ]
  },
  {
   "cell_type": "code",
   "execution_count": 7,
   "id": "7d1a6ae2",
   "metadata": {
    "scrolled": true
   },
   "outputs": [
    {
     "name": "stdout",
     "output_type": "stream",
     "text": [
      "1223/1223 [==============================] - 0s 286us/step - loss: 3.8125e-05 - mse: 3.8125e-05 - root_mean_squared_error: 0.0062 - mae: 0.0035 - r_square: 0.9442\n"
     ]
    },
    {
     "data": {
      "text/plain": [
       "[3.812509021372534e-05,\n",
       " 3.812509021372534e-05,\n",
       " 0.006174551788717508,\n",
       " 0.0035217558033764362,\n",
       " 0.9442306160926819]"
      ]
     },
     "execution_count": 7,
     "metadata": {},
     "output_type": "execute_result"
    }
   ],
   "source": [
    "model.evaluate(X_test, y_test, batch_size=16)"
   ]
  },
  {
   "cell_type": "code",
   "execution_count": 8,
   "id": "5bfd3933",
   "metadata": {},
   "outputs": [
    {
     "name": "stdout",
     "output_type": "stream",
     "text": [
      "0     0.000000\n",
      "1     0.000000\n",
      "2     0.005155\n",
      "3     0.000000\n",
      "4     0.010309\n",
      "5     0.000000\n",
      "6     0.000000\n",
      "7     0.000000\n",
      "8     0.005155\n",
      "9     0.000000\n",
      "10    0.000000\n",
      "Name: ritardo_arrivo, dtype: float64\n"
     ]
    }
   ],
   "source": [
    "print(df_regression.loc[0:10].ritardo_arrivo)"
   ]
  },
  {
   "cell_type": "code",
   "execution_count": 9,
   "id": "23c1a756",
   "metadata": {
    "scrolled": true
   },
   "outputs": [],
   "source": [
    "prova = df_regression.loc[0:10]\n",
    "prova = prova.drop('ritardo_arrivo',axis=1)"
   ]
  },
  {
   "cell_type": "code",
   "execution_count": 10,
   "id": "adc1d284",
   "metadata": {
    "scrolled": true
   },
   "outputs": [
    {
     "name": "stdout",
     "output_type": "stream",
     "text": [
      "1/1 [==============================] - 0s 52ms/step\n"
     ]
    }
   ],
   "source": [
    "yhat = model.predict(prova.values)\n"
   ]
  },
  {
   "cell_type": "code",
   "execution_count": 11,
   "id": "04985c34",
   "metadata": {
    "scrolled": true
   },
   "outputs": [
    {
     "data": {
      "text/plain": [
       "array([[0.00323302],\n",
       "       [0.00323302],\n",
       "       [0.00323302],\n",
       "       [0.00323302],\n",
       "       [0.00607822],\n",
       "       [0.00531575],\n",
       "       [0.00393798],\n",
       "       [0.00323302],\n",
       "       [0.00323302],\n",
       "       [0.00370115],\n",
       "       [0.00323302]], dtype=float32)"
      ]
     },
     "execution_count": 11,
     "metadata": {},
     "output_type": "execute_result"
    }
   ],
   "source": [
    "yhat"
   ]
  },
  {
   "cell_type": "code",
   "execution_count": null,
   "id": "2116d833",
   "metadata": {},
   "outputs": [],
   "source": []
  }
 ],
 "metadata": {
  "kernelspec": {
   "display_name": "Python 3 (ipykernel)",
   "language": "python",
   "name": "python3"
  },
  "language_info": {
   "codemirror_mode": {
    "name": "ipython",
    "version": 3
   },
   "file_extension": ".py",
   "mimetype": "text/x-python",
   "name": "python",
   "nbconvert_exporter": "python",
   "pygments_lexer": "ipython3",
   "version": "3.11.5"
  }
 },
 "nbformat": 4,
 "nbformat_minor": 5
}
