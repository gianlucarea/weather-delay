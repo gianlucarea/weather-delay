{
 "cells": [
  {
   "cell_type": "markdown",
   "id": "b9db4684",
   "metadata": {},
   "source": [
    "# Import"
   ]
  },
  {
   "cell_type": "code",
   "execution_count": 1,
   "id": "c5c48cbe",
   "metadata": {},
   "outputs": [],
   "source": [
    "import pandas as pd\n",
    "import numpy as np\n",
    "import matplotlib.pyplot as plt\n",
    "import joblib\n",
    "import helper\n",
    "\n",
    "from sklearn.model_selection import train_test_split\n",
    "from sklearn.linear_model import LinearRegression\n",
    "from sklearn.tree import DecisionTreeRegressor\n",
    "from sklearn.ensemble import RandomForestRegressor\n",
    "from sklearn.ensemble import ExtraTreesRegressor\n",
    "from sklearn.ensemble import GradientBoostingRegressor\n",
    "from sklearn.ensemble import BaggingRegressor\n",
    "from sklearn.ensemble import AdaBoostRegressor"
   ]
  },
  {
   "cell_type": "markdown",
   "id": "832130f7",
   "metadata": {},
   "source": [
    "# Load Dataset"
   ]
  },
  {
   "cell_type": "code",
   "execution_count": 2,
   "id": "866918d7",
   "metadata": {},
   "outputs": [],
   "source": [
    "df_regression = pd.read_csv(\"../processed_files/df_for_ml.csv\", index_col=[0])"
   ]
  },
  {
   "cell_type": "code",
   "execution_count": 3,
   "id": "45be5d01",
   "metadata": {},
   "outputs": [
    {
     "name": "stdout",
     "output_type": "stream",
     "text": [
      "<class 'pandas.core.frame.DataFrame'>\n",
      "Index: 251059 entries, 0 to 251058\n",
      "Data columns (total 31 columns):\n",
      " #   Column                  Non-Null Count   Dtype  \n",
      "---  ------                  --------------   -----  \n",
      " 0   trip_id                 251059 non-null  int64  \n",
      " 1   arrival_time            251059 non-null  int64  \n",
      " 2   departure_time          251059 non-null  int64  \n",
      " 3   indice_tratta           251059 non-null  int64  \n",
      " 4   shape_dist_traveled     251059 non-null  float64\n",
      " 5   time_diff               251059 non-null  float64\n",
      " 6   speed                   251059 non-null  float64\n",
      " 7   dist_diff               251059 non-null  float64\n",
      " 8   codice                  251059 non-null  int64  \n",
      " 9   direction_id            251059 non-null  int64  \n",
      " 10  data_giorno             251059 non-null  int64  \n",
      " 11  stop_code_p             251059 non-null  int64  \n",
      " 12  stop_code_a             251059 non-null  int64  \n",
      " 13  ritardo_partenza        251059 non-null  int64  \n",
      " 14  ritardo_arrivo          251059 non-null  int64  \n",
      " 15  temperature_linea       251059 non-null  float64\n",
      " 16  app_temp_linea          251059 non-null  float64\n",
      " 17  rain_linea              251059 non-null  float64\n",
      " 18  snow_fall_linea         251059 non-null  float64\n",
      " 19  snow_depth_linea        251059 non-null  float64\n",
      " 20  humidity_linea          251059 non-null  float64\n",
      " 21  precipitation_linea     251059 non-null  float64\n",
      " 22  wmo_code_linea          251059 non-null  float64\n",
      " 23  wind_speed_10m_linea    251059 non-null  float64\n",
      " 24  wind_speed_100m_linea   251059 non-null  float64\n",
      " 25  wind_dir_10m_linea      251059 non-null  float64\n",
      " 26  wind_dir_100m_linea     251059 non-null  float64\n",
      " 27  wind_gusts_linea        251059 non-null  float64\n",
      " 28  soil_temperature_linea  251059 non-null  float64\n",
      " 29  isArrivoRitardo         251059 non-null  float64\n",
      " 30  isPartenzaRitardo       251059 non-null  float64\n",
      "dtypes: float64(20), int64(11)\n",
      "memory usage: 61.3 MB\n"
     ]
    }
   ],
   "source": [
    "df_regression.info()"
   ]
  },
  {
   "cell_type": "code",
   "execution_count": 4,
   "id": "3a46a821",
   "metadata": {},
   "outputs": [
    {
     "data": {
      "text/plain": [
       "(251059, 27)"
      ]
     },
     "execution_count": 4,
     "metadata": {},
     "output_type": "execute_result"
    }
   ],
   "source": [
    "# Drop column on wich i don't want to train\n",
    "df_regression.drop(columns=[\"trip_id\",\n",
    "                 \"indice_tratta\",\n",
    "                 \"codice\",\n",
    "                 \"data_giorno\"], inplace=True)\n",
    "df_regression.shape"
   ]
  },
  {
   "cell_type": "code",
   "execution_count": 5,
   "id": "de35e0ff",
   "metadata": {},
   "outputs": [],
   "source": [
    "# We only need to train on delayed trains on line\n",
    "df_regression = df_regression[df_regression['ritardo_arrivo'] > 0]\n",
    "df_regression.reset_index(inplace=True, drop=True)\n"
   ]
  },
  {
   "cell_type": "code",
   "execution_count": 6,
   "id": "81c0ed89",
   "metadata": {},
   "outputs": [],
   "source": [
    "X_train, X_test, y_train, y_test = train_test_split(df_regression.loc[:, df_regression.columns != \"ritardo_arrivo\"].values , df_regression[\"ritardo_arrivo\"].values , test_size=0.20, random_state=1)\n",
    "# To avoid excessive memory usage we delete the dataset\n",
    "del df_regression"
   ]
  },
  {
   "cell_type": "code",
   "execution_count": 7,
   "id": "16f22ca7",
   "metadata": {},
   "outputs": [
    {
     "name": "stdout",
     "output_type": "stream",
     "text": [
      "X_train:  {(156459, 26)}\n",
      "X_train:  {(39115, 26)}\n",
      "X_train:  {(156459,)}\n",
      "X_train:  {(39115,)}\n"
     ]
    }
   ],
   "source": [
    "print(f\"X_train: \",{X_train.shape})\n",
    "print(f\"X_train: \",{X_test.shape})\n",
    "print(f\"X_train: \",{y_train.shape})\n",
    "print(f\"X_train: \",{y_test.shape})"
   ]
  },
  {
   "cell_type": "code",
   "execution_count": 8,
   "id": "5d00c857",
   "metadata": {},
   "outputs": [],
   "source": [
    "# We initialize a dataset to easily call for see statistics\n",
    "statistics = pd.DataFrame(columns=['regressor','mse','rmse','mae','r2'])\n"
   ]
  },
  {
   "cell_type": "markdown",
   "id": "e26e0192",
   "metadata": {},
   "source": [
    "# Regression"
   ]
  },
  {
   "cell_type": "markdown",
   "id": "fd773806",
   "metadata": {},
   "source": [
    "## Linear Regression"
   ]
  },
  {
   "cell_type": "code",
   "execution_count": 9,
   "id": "22be6f62",
   "metadata": {},
   "outputs": [
    {
     "name": "stdout",
     "output_type": "stream",
     "text": [
      "  regressor      mse     rmse       mae        r2\n",
      "0    Linear  2.63267  1.62255  0.730399  0.892425\n"
     ]
    }
   ],
   "source": [
    "model = LinearRegression(n_jobs=-1)\n",
    "model.fit(X_train, y_train)\n",
    "joblib.dump(model, \"./models/regressions/LinearRegression.joblib\")\n",
    "# model = joblib.load(\"./models/regressions/LinearRegression.joblib\")\n",
    "y_pred = model.predict(X_test)\n",
    "statistics = helper.regressor_metrics(y_test, y_pred, \"Linear\", statistics)\n",
    "\n",
    "del model\n",
    "del y_pred"
   ]
  },
  {
   "cell_type": "markdown",
   "id": "e47e1045",
   "metadata": {},
   "source": [
    "## Decision Tree Regressor"
   ]
  },
  {
   "cell_type": "code",
   "execution_count": 10,
   "id": "31f3e13c",
   "metadata": {},
   "outputs": [
    {
     "name": "stdout",
     "output_type": "stream",
     "text": [
      "      regressor       mse     rmse       mae        r2\n",
      "0  DecisionTree  3.854506  1.96329  0.510418  0.842499\n"
     ]
    }
   ],
   "source": [
    "model = DecisionTreeRegressor()\n",
    "model.fit(X_train, y_train)\n",
    "joblib.dump(model, \"./models/regressions/DecisionTreeRegressor.joblib\")\n",
    "#model = joblib.load(\"./models/regressions/DecisionTreeRegressor.joblib\")\n",
    "y_pred = model.predict(X_test)\n",
    "statistics = helper.regressor_metrics(y_test, y_pred, \"DecisionTree\", statistics)\n",
    "del model\n",
    "del y_pred"
   ]
  },
  {
   "cell_type": "markdown",
   "id": "73e6e405",
   "metadata": {},
   "source": [
    "## Random Forest"
   ]
  },
  {
   "cell_type": "code",
   "execution_count": 11,
   "id": "1dcff6d7",
   "metadata": {},
   "outputs": [
    {
     "name": "stdout",
     "output_type": "stream",
     "text": [
      "      regressor       mse      rmse       mae        r2\n",
      "0  RandomForest  1.830179  1.352841  0.415898  0.925216\n"
     ]
    }
   ],
   "source": [
    "model = RandomForestRegressor(n_jobs=-1)\n",
    "model.fit(X_train, y_train)\n",
    "joblib.dump(model, \"./models/regressions/RandomForestRegressor.joblib\")\n",
    "#model = joblib.load(\"./models/regressions/RandomForestRegressor.joblib\")\n",
    "y_pred = model.predict(X_test)\n",
    "statistics = helper.regressor_metrics(y_test, y_pred, \"RandomForest\", statistics)\n",
    "del model\n",
    "del y_pred"
   ]
  },
  {
   "cell_type": "markdown",
   "id": "883efe6d",
   "metadata": {},
   "source": [
    "## Extra Trees Regressor"
   ]
  },
  {
   "cell_type": "code",
   "execution_count": 12,
   "id": "c215839c",
   "metadata": {},
   "outputs": [
    {
     "name": "stdout",
     "output_type": "stream",
     "text": [
      "    regressor       mse      rmse       mae        r2\n",
      "0  ExtraTrees  1.695376  1.302066  0.418718  0.930724\n"
     ]
    }
   ],
   "source": [
    "model = ExtraTreesRegressor(n_jobs=-1)\n",
    "model.fit(X_train, y_train)\n",
    "joblib.dump(model, \"./models/regressions/ExtraTreesRegressor.joblib\")\n",
    "#model = joblib.load(\"./models/regressions/ExtraTreesRegressor.joblib\")\n",
    "y_pred = model.predict(X_test)\n",
    "statistics = helper.regressor_metrics(y_test, y_pred, \"ExtraTrees\", statistics)\n",
    "del model\n",
    "del y_pred"
   ]
  },
  {
   "cell_type": "markdown",
   "id": "d439196a",
   "metadata": {},
   "source": [
    "## Gradient Boosting Regressor"
   ]
  },
  {
   "cell_type": "code",
   "execution_count": 13,
   "id": "cd743e6a",
   "metadata": {},
   "outputs": [
    {
     "name": "stdout",
     "output_type": "stream",
     "text": [
      "          regressor       mse      rmse     mae        r2\n",
      "0  GradientBoosting  1.779241  1.333882  0.5391  0.927297\n"
     ]
    }
   ],
   "source": [
    "model = GradientBoostingRegressor()\n",
    "model.fit(X_train, y_train)\n",
    "joblib.dump(model, \"./models/regressions/GradientBoostingRegressor.joblib\")\n",
    "#model = joblib.load(\"./models/regressions/GradientBoostingRegressor.joblib\")\n",
    "y_pred = model.predict(X_test)\n",
    "statistics = helper.regressor_metrics(y_test, y_pred, \"GradientBoosting\", statistics)\n",
    "del model\n",
    "del y_pred"
   ]
  },
  {
   "cell_type": "markdown",
   "id": "60710703",
   "metadata": {},
   "source": [
    "## Bagging Regressor\n"
   ]
  },
  {
   "cell_type": "code",
   "execution_count": 14,
   "id": "da8ff9c2",
   "metadata": {
    "scrolled": true
   },
   "outputs": [
    {
     "name": "stdout",
     "output_type": "stream",
     "text": [
      "  regressor       mse      rmse       mae        r2\n",
      "0   Bagging  1.840564  1.356674  0.435751  0.924792\n"
     ]
    }
   ],
   "source": [
    "model = BaggingRegressor()\n",
    "model.fit(X_train, y_train)\n",
    "joblib.dump(model, \"./models/regressions/BaggingRegressor.joblib\")\n",
    "#model = joblib.load(\"./models/regressions/BaggingRegressor.joblib\")\n",
    "y_pred = model.predict(X_test)\n",
    "statistics = helper.regressor_metrics(y_test, y_pred, \"Bagging\", statistics)\n",
    "del model\n",
    "del y_pred"
   ]
  },
  {
   "cell_type": "markdown",
   "id": "f1f56e11",
   "metadata": {},
   "source": [
    "## AdaBoostRegressor\n"
   ]
  },
  {
   "cell_type": "code",
   "execution_count": 15,
   "id": "013efc28",
   "metadata": {},
   "outputs": [
    {
     "name": "stdout",
     "output_type": "stream",
     "text": [
      "  regressor        mse      rmse       mae        r2\n",
      "0  AdaBoost  53.627486  7.323079  5.748684 -1.191304\n"
     ]
    }
   ],
   "source": [
    "model = AdaBoostRegressor()\n",
    "model.fit(X_train, y_train)\n",
    "joblib.dump(model, \"./models/regressions/AdaBoostRegressor.joblib\")\n",
    "#model = joblib.load(\"./models/regressions/AdaBoostRegressor.joblib\")\n",
    "y_pred = model.predict(X_test)\n",
    "statistics = helper.regressor_metrics(y_test, y_pred, \"AdaBoost\", statistics)\n",
    "del model\n",
    "del y_pred"
   ]
  },
  {
   "cell_type": "code",
   "execution_count": 16,
   "id": "891ba185",
   "metadata": {
    "scrolled": true
   },
   "outputs": [
    {
     "data": {
      "text/html": [
       "<div>\n",
       "<style scoped>\n",
       "    .dataframe tbody tr th:only-of-type {\n",
       "        vertical-align: middle;\n",
       "    }\n",
       "\n",
       "    .dataframe tbody tr th {\n",
       "        vertical-align: top;\n",
       "    }\n",
       "\n",
       "    .dataframe thead th {\n",
       "        text-align: right;\n",
       "    }\n",
       "</style>\n",
       "<table border=\"1\" class=\"dataframe\">\n",
       "  <thead>\n",
       "    <tr style=\"text-align: right;\">\n",
       "      <th></th>\n",
       "      <th>regressor</th>\n",
       "      <th>mse</th>\n",
       "      <th>rmse</th>\n",
       "      <th>mae</th>\n",
       "      <th>r2</th>\n",
       "    </tr>\n",
       "  </thead>\n",
       "  <tbody>\n",
       "    <tr>\n",
       "      <th>0</th>\n",
       "      <td>Linear</td>\n",
       "      <td>2.632670</td>\n",
       "      <td>1.622550</td>\n",
       "      <td>0.730399</td>\n",
       "      <td>0.892425</td>\n",
       "    </tr>\n",
       "    <tr>\n",
       "      <th>1</th>\n",
       "      <td>DecisionTree</td>\n",
       "      <td>3.854506</td>\n",
       "      <td>1.963290</td>\n",
       "      <td>0.510418</td>\n",
       "      <td>0.842499</td>\n",
       "    </tr>\n",
       "    <tr>\n",
       "      <th>2</th>\n",
       "      <td>RandomForest</td>\n",
       "      <td>1.830179</td>\n",
       "      <td>1.352841</td>\n",
       "      <td>0.415898</td>\n",
       "      <td>0.925216</td>\n",
       "    </tr>\n",
       "    <tr>\n",
       "      <th>3</th>\n",
       "      <td>ExtraTrees</td>\n",
       "      <td>1.695376</td>\n",
       "      <td>1.302066</td>\n",
       "      <td>0.418718</td>\n",
       "      <td>0.930724</td>\n",
       "    </tr>\n",
       "    <tr>\n",
       "      <th>4</th>\n",
       "      <td>GradientBoosting</td>\n",
       "      <td>1.779241</td>\n",
       "      <td>1.333882</td>\n",
       "      <td>0.539100</td>\n",
       "      <td>0.927297</td>\n",
       "    </tr>\n",
       "    <tr>\n",
       "      <th>5</th>\n",
       "      <td>Bagging</td>\n",
       "      <td>1.840564</td>\n",
       "      <td>1.356674</td>\n",
       "      <td>0.435751</td>\n",
       "      <td>0.924792</td>\n",
       "    </tr>\n",
       "    <tr>\n",
       "      <th>6</th>\n",
       "      <td>AdaBoost</td>\n",
       "      <td>53.627486</td>\n",
       "      <td>7.323079</td>\n",
       "      <td>5.748684</td>\n",
       "      <td>-1.191304</td>\n",
       "    </tr>\n",
       "  </tbody>\n",
       "</table>\n",
       "</div>"
      ],
      "text/plain": [
       "          regressor        mse      rmse       mae        r2\n",
       "0            Linear   2.632670  1.622550  0.730399  0.892425\n",
       "1      DecisionTree   3.854506  1.963290  0.510418  0.842499\n",
       "2      RandomForest   1.830179  1.352841  0.415898  0.925216\n",
       "3        ExtraTrees   1.695376  1.302066  0.418718  0.930724\n",
       "4  GradientBoosting   1.779241  1.333882  0.539100  0.927297\n",
       "5           Bagging   1.840564  1.356674  0.435751  0.924792\n",
       "6          AdaBoost  53.627486  7.323079  5.748684 -1.191304"
      ]
     },
     "execution_count": 16,
     "metadata": {},
     "output_type": "execute_result"
    }
   ],
   "source": [
    "statistics.head(10)"
   ]
  },
  {
   "cell_type": "code",
   "execution_count": 17,
   "id": "7421b20d",
   "metadata": {},
   "outputs": [],
   "source": [
    "model = joblib.load(\"./models/regressions/RandomForestRegressor.joblib\")\n",
    "predetta = model.predict(X_test)\n"
   ]
  },
  {
   "cell_type": "code",
   "execution_count": 18,
   "id": "9650f698",
   "metadata": {},
   "outputs": [
    {
     "data": {
      "text/plain": [
       "array([ 6.79, 10.91,  2.  , ...,  3.  ,  1.  ,  4.63])"
      ]
     },
     "execution_count": 18,
     "metadata": {},
     "output_type": "execute_result"
    }
   ],
   "source": [
    "predetta"
   ]
  },
  {
   "cell_type": "code",
   "execution_count": 19,
   "id": "f455f4de",
   "metadata": {},
   "outputs": [
    {
     "data": {
      "text/plain": [
       "array([ 8, 11,  2, ...,  3,  1,  4])"
      ]
     },
     "execution_count": 19,
     "metadata": {},
     "output_type": "execute_result"
    }
   ],
   "source": [
    "y_test"
   ]
  },
  {
   "cell_type": "code",
   "execution_count": 20,
   "id": "c53d4a49",
   "metadata": {},
   "outputs": [],
   "source": [
    "# GRAFICO RISULTATO PREDIZIONE"
   ]
  },
  {
   "cell_type": "code",
   "execution_count": 21,
   "id": "d441d34d",
   "metadata": {},
   "outputs": [],
   "source": [
    "diff = predetta - y_test "
   ]
  },
  {
   "cell_type": "code",
   "execution_count": 22,
   "id": "8a463b47",
   "metadata": {},
   "outputs": [
    {
     "data": {
      "text/plain": [
       "array([-1.21, -0.09,  0.  , ...,  0.  ,  0.  ,  0.63])"
      ]
     },
     "execution_count": 22,
     "metadata": {},
     "output_type": "execute_result"
    }
   ],
   "source": [
    "diff"
   ]
  },
  {
   "cell_type": "code",
   "execution_count": 23,
   "id": "d14a27d3",
   "metadata": {},
   "outputs": [
    {
     "data": {
      "text/plain": [
       "0.01646018151604244"
      ]
     },
     "execution_count": 23,
     "metadata": {},
     "output_type": "execute_result"
    }
   ],
   "source": [
    "diff.mean()"
   ]
  },
  {
   "cell_type": "code",
   "execution_count": 24,
   "id": "ccb4127b",
   "metadata": {},
   "outputs": [],
   "source": [
    "X = np.sort(diff)"
   ]
  },
  {
   "cell_type": "code",
   "execution_count": 25,
   "id": "f04be9e4",
   "metadata": {},
   "outputs": [],
   "source": [
    "df = pd.DataFrame(X, columns = ['Value'])\n",
    "df.to_csv(\"x.csv\")"
   ]
  },
  {
   "cell_type": "code",
   "execution_count": null,
   "id": "d2db9f03",
   "metadata": {},
   "outputs": [],
   "source": []
  }
 ],
 "metadata": {
  "kernelspec": {
   "display_name": "Python 3 (ipykernel)",
   "language": "python",
   "name": "python3"
  },
  "language_info": {
   "codemirror_mode": {
    "name": "ipython",
    "version": 3
   },
   "file_extension": ".py",
   "mimetype": "text/x-python",
   "name": "python",
   "nbconvert_exporter": "python",
   "pygments_lexer": "ipython3",
   "version": "3.11.5"
  }
 },
 "nbformat": 4,
 "nbformat_minor": 5
}
