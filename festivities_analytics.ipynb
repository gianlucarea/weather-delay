{
 "cells": [
  {
   "cell_type": "code",
   "execution_count": 1,
   "id": "571724a0",
   "metadata": {},
   "outputs": [],
   "source": [
    "import pandas as pd\n",
    "import gtfs_kit as gk\n",
    "import matplotlib as mpl\n",
    "import matplotlib.pyplot as plt\n",
    "import helper #homemade function file helper.py\n",
    "import numpy as np"
   ]
  },
  {
   "cell_type": "code",
   "execution_count": 2,
   "id": "16cea9ff",
   "metadata": {},
   "outputs": [],
   "source": [
    "feed = gk.feed.read_feed('../general_data_analytics.zip',dist_units=\"km\")\n",
    "routes = gk.routes.get_routes(feed)\n",
    "stop_times = feed.get_stop_times()\n",
    "trips = feed.get_trips()\n",
    "stops = feed.get_stops()\n",
    "shapes = feed.shapes\n",
    "calendar_dates = feed.calendar_dates\n",
    "calendar = feed.calendar"
   ]
  },
  {
   "cell_type": "markdown",
   "id": "9cf2d453",
   "metadata": {},
   "source": [
    "### Selecting dates"
   ]
  },
  {
   "cell_type": "code",
   "execution_count": 3,
   "id": "a35c4f9c",
   "metadata": {},
   "outputs": [],
   "source": [
    "## Collecting all service date of trips on those days\n",
    "xmas_calendar_dates = calendar_dates.loc[(calendar_dates['date'] == '20221222') | \n",
    "                                    (calendar_dates['date'] == '20221223') |\n",
    "                                    (calendar_dates['date'] == '20221224') |\n",
    "                                    (calendar_dates['date'] == '20221225') |\n",
    "                                    (calendar_dates['date'] == '20221226') |\n",
    "                                    (calendar_dates['date'] == '20221227') |\n",
    "                                    (calendar_dates['date'] == '20221228') ]"
   ]
  },
  {
   "cell_type": "code",
   "execution_count": 4,
   "id": "a8cebcfe",
   "metadata": {},
   "outputs": [],
   "source": [
    "## Collecting all service date of trips on those days\n",
    "easter_calendar_dates = calendar_dates.loc[(calendar_dates['date'] == '20230406') | \n",
    "                                    (calendar_dates['date'] == '20230407') |\n",
    "                                    (calendar_dates['date'] == '20230408') |\n",
    "                                    (calendar_dates['date'] == '20230409') |\n",
    "                                    (calendar_dates['date'] == '20230410') |\n",
    "                                    (calendar_dates['date'] == '20230411') |\n",
    "                                    (calendar_dates['date'] == '20230412') ]"
   ]
  },
  {
   "cell_type": "code",
   "execution_count": 5,
   "id": "2a5b2af8",
   "metadata": {},
   "outputs": [],
   "source": [
    "## Collecting all service date of trips on those days\n",
    "august_calendar_dates = calendar_dates.loc[(calendar_dates['date'] == '20230813') | \n",
    "                                    (calendar_dates['date'] == '20230814') |\n",
    "                                    (calendar_dates['date'] == '20230815') |\n",
    "                                    (calendar_dates['date'] == '20230816') |\n",
    "                                    (calendar_dates['date'] == '20230817') |\n",
    "                                    (calendar_dates['date'] == '20230818') |\n",
    "                                    (calendar_dates['date'] == '20230819') ]"
   ]
  },
  {
   "cell_type": "markdown",
   "id": "a0e8f963",
   "metadata": {},
   "source": [
    "### Subdataset"
   ]
  },
  {
   "cell_type": "code",
   "execution_count": 6,
   "id": "b2db383a",
   "metadata": {},
   "outputs": [],
   "source": [
    "# Removing data outside the selected week \n",
    "\n",
    "## Creating new calendar and collect service date from previous new calendar_dates with drop duplicates\n",
    "xmas_calendar = calendar.iloc[0:0]\n",
    "service_id_list = list(dict.fromkeys( xmas_calendar_dates['service_id']))\n",
    "\n",
    "for service_id in service_id_list:\n",
    "    row  = calendar.loc[calendar['service_id'] == service_id]\n",
    "    xmas_calendar = pd.concat([xmas_calendar, row],\n",
    "                      ignore_index = True)\n",
    "\n",
    "## Creating new trips dataframe and collect trips using the list of service id\n",
    "xmas_trips = trips.iloc[0:0]\n",
    "\n",
    "for service_id in service_id_list:\n",
    "    row  = trips.loc[trips['service_id'] == service_id]\n",
    "    xmas_trips = pd.concat([xmas_trips, row],\n",
    "                      ignore_index = True)\n",
    "    \n",
    "## Creating list of shapes_id,route_id,trips_id from sw_trips\n",
    "route_id_list = list(dict.fromkeys(xmas_trips['route_id']))\n",
    "shape_id_list = list(dict.fromkeys(xmas_trips['shape_id']))\n",
    "trip_id_list = list(dict.fromkeys(xmas_trips['trip_id']))\n",
    "\n",
    "## Creating new route dataframe\n",
    "xmas_routes = routes.iloc[0:0]\n",
    "\n",
    "for route_id in route_id_list:\n",
    "    row = routes.loc[routes['route_id']==route_id]\n",
    "    xmas_routes = pd.concat([xmas_routes,row],ignore_index=True)\n",
    "\n",
    "## Creating new shape dataframe\n",
    "xmas_shapes = shapes.iloc[0:0]\n",
    "\n",
    "for shape_id in shape_id_list:\n",
    "    row = shapes.loc[shapes['shape_id']==shape_id]\n",
    "    xmas_shapes = pd.concat([xmas_shapes, row],ignore_index = True)\n",
    "\n",
    "## Creating new stop_times dataframe\n",
    "xmas_stop_times = stop_times.iloc[0:0]\n",
    "\n",
    "for trip_id in trip_id_list:\n",
    "    row = stop_times.loc[stop_times['trip_id'] == trip_id]\n",
    "    xmas_stop_times = pd.concat([xmas_stop_times,row],ignore_index = True)\n",
    "stop_id_list = list(dict.fromkeys(xmas_stop_times['stop_id']))\n",
    "\n",
    "## Creating new stop dataframe, should be equal at this point \n",
    "## but we do it for safe reasons\n",
    "xmas_stops = stops.iloc[0:0]\n",
    "\n",
    "for stop_id in stop_id_list:\n",
    "    row = stops.loc[stops['stop_id']==stop_id]\n",
    "    xmas_stops = pd.concat([xmas_stops,row],ignore_index = True)"
   ]
  },
  {
   "cell_type": "code",
   "execution_count": 7,
   "id": "e8f70a71",
   "metadata": {},
   "outputs": [],
   "source": [
    "# Removing data outside the selected week \n",
    "\n",
    "## Creating new calendar and collect service date from previous new calendar_dates with drop duplicates\n",
    "easter_calendar = calendar.iloc[0:0]\n",
    "service_id_list = list(dict.fromkeys( easter_calendar_dates['service_id']))\n",
    "\n",
    "for service_id in service_id_list:\n",
    "    row  = calendar.loc[calendar['service_id'] == service_id]\n",
    "    easter_calendar = pd.concat([easter_calendar, row],\n",
    "                      ignore_index = True)\n",
    "\n",
    "## Creating new trips dataframe and collect trips using the list of service id\n",
    "easter_trips = trips.iloc[0:0]\n",
    "\n",
    "for service_id in service_id_list:\n",
    "    row  = trips.loc[trips['service_id'] == service_id]\n",
    "    easter_trips = pd.concat([easter_trips, row],\n",
    "                      ignore_index = True)\n",
    "    \n",
    "## Creating list of shapes_id,route_id,trips_id from sw_trips\n",
    "route_id_list = list(dict.fromkeys(easter_trips['route_id']))\n",
    "shape_id_list = list(dict.fromkeys(easter_trips['shape_id']))\n",
    "trip_id_list = list(dict.fromkeys(easter_trips['trip_id']))\n",
    "\n",
    "## Creating new route dataframe\n",
    "easter_routes = routes.iloc[0:0]\n",
    "\n",
    "for route_id in route_id_list:\n",
    "    row = routes.loc[routes['route_id']==route_id]\n",
    "    easter_routes = pd.concat([easter_routes,row],ignore_index=True)\n",
    "\n",
    "## Creating new shape dataframe\n",
    "easter_shapes = shapes.iloc[0:0]\n",
    "\n",
    "for shape_id in shape_id_list:\n",
    "    row = shapes.loc[shapes['shape_id']==shape_id]\n",
    "    easter_shapes = pd.concat([easter_shapes, row],ignore_index = True)\n",
    "\n",
    "## Creating new stop_times dataframe\n",
    "easter_stop_times = stop_times.iloc[0:0]\n",
    "\n",
    "for trip_id in trip_id_list:\n",
    "    row = stop_times.loc[stop_times['trip_id'] == trip_id]\n",
    "    easter_stop_times = pd.concat([easter_stop_times,row],ignore_index = True)\n",
    "stop_id_list = list(dict.fromkeys(easter_stop_times['stop_id']))\n",
    "\n",
    "## Creating new stop dataframe, should be equal at this point \n",
    "## but we do it for safe reasons\n",
    "easter_stops = stops.iloc[0:0]\n",
    "\n",
    "for stop_id in stop_id_list:\n",
    "    row = stops.loc[stops['stop_id']==stop_id]\n",
    "    easter_stops = pd.concat([easter_stops,row],ignore_index = True)"
   ]
  },
  {
   "cell_type": "code",
   "execution_count": 8,
   "id": "db75c9f2",
   "metadata": {},
   "outputs": [],
   "source": [
    "# Removing data outside the selected week \n",
    "\n",
    "## Creating new calendar and collect service date from previous new calendar_dates with drop duplicates\n",
    "august_calendar = calendar.iloc[0:0]\n",
    "service_id_list = list(dict.fromkeys( august_calendar_dates['service_id']))\n",
    "\n",
    "for service_id in service_id_list:\n",
    "    row  = calendar.loc[calendar['service_id'] == service_id]\n",
    "    august_calendar = pd.concat([august_calendar, row],\n",
    "                      ignore_index = True)\n",
    "\n",
    "## Creating new trips dataframe and collect trips using the list of service id\n",
    "august_trips = trips.iloc[0:0]\n",
    "\n",
    "for service_id in service_id_list:\n",
    "    row  = trips.loc[trips['service_id'] == service_id]\n",
    "    august_trips = pd.concat([august_trips, row],\n",
    "                      ignore_index = True)\n",
    "    \n",
    "## Creating list of shapes_id,route_id,trips_id from sw_trips\n",
    "route_id_list = list(dict.fromkeys(august_trips['route_id']))\n",
    "shape_id_list = list(dict.fromkeys(august_trips['shape_id']))\n",
    "trip_id_list = list(dict.fromkeys(august_trips['trip_id']))\n",
    "\n",
    "## Creating new route dataframe\n",
    "august_routes = routes.iloc[0:0]\n",
    "\n",
    "for route_id in route_id_list:\n",
    "    row = routes.loc[routes['route_id']==route_id]\n",
    "    august_routes = pd.concat([august_routes,row],ignore_index=True)\n",
    "\n",
    "## Creating new shape dataframe\n",
    "august_shapes = shapes.iloc[0:0]\n",
    "\n",
    "for shape_id in shape_id_list:\n",
    "    row = shapes.loc[shapes['shape_id']==shape_id]\n",
    "    august_shapes = pd.concat([august_shapes, row],ignore_index = True)\n",
    "\n",
    "## Creating new stop_times dataframe\n",
    "august_stop_times = stop_times.iloc[0:0]\n",
    "\n",
    "for trip_id in trip_id_list:\n",
    "    row = stop_times.loc[stop_times['trip_id'] == trip_id]\n",
    "    august_stop_times = pd.concat([august_stop_times,row],ignore_index = True)\n",
    "stop_id_list = list(dict.fromkeys(august_stop_times['stop_id']))\n",
    "\n",
    "## Creating new stop dataframe, should be equal at this point \n",
    "## but we do it for safe reasons\n",
    "august_stops = stops.iloc[0:0]\n",
    "\n",
    "for stop_id in stop_id_list:\n",
    "    row = stops.loc[stops['stop_id']==stop_id]\n",
    "    august_stops = pd.concat([august_stops,row],ignore_index = True)"
   ]
  },
  {
   "cell_type": "code",
   "execution_count": 9,
   "id": "1c322085",
   "metadata": {},
   "outputs": [
    {
     "name": "stdout",
     "output_type": "stream",
     "text": [
      "Xmas\n",
      "N. on monday service 16\n",
      "N. on tuesday service 13\n",
      "N. on wednesday service 13\n",
      "N. on thursday service 13\n",
      "N. on friday service 16\n",
      "N. on saturday service 12\n",
      "N. on sunday service 7\n",
      "--------------------------------------------------\n",
      "Easter\n",
      "N. on monday service 16\n",
      "N. on tuesday service 13\n",
      "N. on wednesday service 13\n",
      "N. on thursday service 13\n",
      "N. on friday service 16\n",
      "N. on saturday service 12\n",
      "N. on sunday service 7\n",
      "--------------------------------------------------\n",
      "Mid August\n",
      "N. on monday service 13\n",
      "N. on tuesday service 12\n",
      "N. on wednesday service 11\n",
      "N. on thursday service 11\n",
      "N. on friday service 13\n",
      "N. on saturday service 10\n",
      "N. on sunday service 7\n"
     ]
    }
   ],
   "source": [
    "print('Xmas')\n",
    "print(\"N. on monday service \" + str(sum(xmas_calendar['monday'])))\n",
    "print(\"N. on tuesday service \" + str(sum(xmas_calendar['tuesday'])))\n",
    "print(\"N. on wednesday service \" + str(sum(xmas_calendar['wednesday'])))\n",
    "print(\"N. on thursday service \" + str(sum(xmas_calendar['thursday'])))\n",
    "print(\"N. on friday service \" + str(sum(xmas_calendar['friday'])))\n",
    "print(\"N. on saturday service \" + str(sum(xmas_calendar['saturday'])))\n",
    "print(\"N. on sunday service \" + str(sum(xmas_calendar['sunday'])))\n",
    "print('-' * 50)\n",
    "print('Easter')\n",
    "print(\"N. on monday service \" + str(sum(easter_calendar['monday'])))\n",
    "print(\"N. on tuesday service \" + str(sum(easter_calendar['tuesday'])))\n",
    "print(\"N. on wednesday service \" + str(sum(easter_calendar['wednesday'])))\n",
    "print(\"N. on thursday service \" + str(sum(easter_calendar['thursday'])))\n",
    "print(\"N. on friday service \" + str(sum(easter_calendar['friday'])))\n",
    "print(\"N. on saturday service \" + str(sum(easter_calendar['saturday'])))\n",
    "print(\"N. on sunday service \" + str(sum(easter_calendar['sunday'])))\n",
    "print('-' * 50)\n",
    "print('Mid August')\n",
    "print(\"N. on monday service \" + str(sum(august_calendar['monday'])))\n",
    "print(\"N. on tuesday service \" + str(sum(august_calendar['tuesday'])))\n",
    "print(\"N. on wednesday service \" + str(sum(august_calendar['wednesday'])))\n",
    "print(\"N. on thursday service \" + str(sum(august_calendar['thursday'])))\n",
    "print(\"N. on friday service \" + str(sum(august_calendar['friday'])))\n",
    "print(\"N. on saturday service \" + str(sum(august_calendar['saturday'])))\n",
    "print(\"N. on sunday service \" + str(sum(august_calendar['sunday'])))"
   ]
  },
  {
   "cell_type": "code",
   "execution_count": 10,
   "id": "dc60c0e0",
   "metadata": {},
   "outputs": [],
   "source": [
    "# Join the dataset for easy at use\n",
    "# Xmas dataframe \n",
    "xmas_analytics = xmas_trips\n",
    "xmas_analytics = pd.merge(xmas_analytics, xmas_routes, on=['route_id','route_id'])\n",
    "xmas_analytics = pd.merge(xmas_analytics, xmas_stop_times, on=['trip_id','trip_id'])\n",
    "xmas_analytics = pd.merge(xmas_analytics, xmas_stops, on=['stop_id','stop_id'])\n",
    "# Easter dataframe \n",
    "easter_analytics = easter_trips\n",
    "easter_analytics = pd.merge(easter_analytics, easter_routes, on=['route_id','route_id'])\n",
    "easter_analytics = pd.merge(easter_analytics, easter_stop_times, on=['trip_id','trip_id'])\n",
    "easter_analytics = pd.merge(easter_analytics, easter_stops, on=['stop_id','stop_id'])\n",
    "# August dataframe \n",
    "august_analytics = august_trips\n",
    "august_analytics = pd.merge(august_analytics, august_routes, on=['route_id','route_id'])\n",
    "august_analytics = pd.merge(august_analytics, august_stop_times, on=['trip_id','trip_id'])\n",
    "august_analytics = pd.merge(august_analytics, august_stops, on=['stop_id','stop_id'])"
   ]
  },
  {
   "cell_type": "code",
   "execution_count": 11,
   "id": "a2da0e9f",
   "metadata": {},
   "outputs": [
    {
     "name": "stdout",
     "output_type": "stream",
     "text": [
      "For each value:\n",
      "    last_stop_sequence  value\n",
      "0                    1      0\n",
      "1                    2      0\n",
      "2                    3      0\n",
      "3                    4      2\n",
      "4                    5     21\n",
      "5                    6      5\n",
      "6                    7      2\n",
      "7                    8      5\n",
      "8                    9      1\n",
      "9                   10      0\n",
      "10                  11      1\n",
      "11                  12      0\n",
      "12                  13      4\n",
      "13                  14      0\n",
      "14                  15      3\n",
      "15                  16      0\n",
      "16                  17      1\n",
      "17                  18      3\n",
      "18                  19      0\n",
      "19                  20      5\n",
      "20                  21      2\n",
      "21                  22      4\n",
      "22                  23      1\n",
      "23                  24      3\n",
      "24                  25      2\n",
      "25                  26      3\n",
      "26                  27      1\n",
      "27                  28      1\n",
      "28                  29      0\n",
      "--------------------------------------------------\n"
     ]
    },
    {
     "data": {
      "image/png": "[encoded data removed]",
      "text/plain": [
       "<Figure size 432x288 with 1 Axes>"
      ]
     },
     "metadata": {
      "needs_background": "light"
     },
     "output_type": "display_data"
    }
   ],
   "source": [
    "xmas_result = helper.plot_number_stops(xmas_analytics)"
   ]
  },
  {
   "cell_type": "code",
   "execution_count": 12,
   "id": "2ae55761",
   "metadata": {},
   "outputs": [
    {
     "name": "stdout",
     "output_type": "stream",
     "text": [
      "   last_stop_sequence  value\n",
      "0              (0, 3]      0\n",
      "1              (3, 6]     28\n",
      "2              (6, 9]      8\n",
      "3             (9, 12]      1\n",
      "4            (12, 15]      7\n",
      "5            (15, 18]      4\n",
      "6            (18, 21]      7\n",
      "7            (21, 24]      8\n",
      "8            (24, 27]      6\n",
      "9            (27, 30]      1\n",
      "10           (30, 33]      0\n"
     ]
    },
    {
     "name": "stderr",
     "output_type": "stream",
     "text": [
      "/Users/gianlucarea/Developer/Projects/conda-workspace/master-thesis/helper.py:137: FutureWarning: The default of observed=False is deprecated and will be changed to True in a future version of pandas. Pass observed=False to retain current behavior or observed=True to adopt the future default and silence this warning.\n",
      "  df = result.groupby(pd.cut(result['last_stop_sequence'], np.arange(0, max_value + 5, input_value)))['value'].sum()\n"
     ]
    }
   ],
   "source": [
    "helper.aggregated_number_stops(xmas_result,3)"
   ]
  },
  {
   "cell_type": "code",
   "execution_count": 13,
   "id": "411a9879",
   "metadata": {},
   "outputs": [
    {
     "name": "stdout",
     "output_type": "stream",
     "text": [
      "For each value:\n",
      "    last_stop_sequence  value\n",
      "0                    1      0\n",
      "1                    2      0\n",
      "2                    3      0\n",
      "3                    4      2\n",
      "4                    5     21\n",
      "5                    6      5\n",
      "6                    7      2\n",
      "7                    8      5\n",
      "8                    9      1\n",
      "9                   10      0\n",
      "10                  11      1\n",
      "11                  12      0\n",
      "12                  13      4\n",
      "13                  14      0\n",
      "14                  15      3\n",
      "15                  16      0\n",
      "16                  17      1\n",
      "17                  18      3\n",
      "18                  19      0\n",
      "19                  20      5\n",
      "20                  21      2\n",
      "21                  22      4\n",
      "22                  23      1\n",
      "23                  24      3\n",
      "24                  25      2\n",
      "25                  26      3\n",
      "26                  27      1\n",
      "27                  28      1\n",
      "28                  29      0\n",
      "--------------------------------------------------\n"
     ]
    },
    {
     "data": {
      "image/png": "[encoded data removed]",
      "text/plain": [
       "<Figure size 432x288 with 1 Axes>"
      ]
     },
     "metadata": {
      "needs_background": "light"
     },
     "output_type": "display_data"
    }
   ],
   "source": [
    "easter_result = helper.plot_number_stops(easter_analytics)"
   ]
  },
  {
   "cell_type": "code",
   "execution_count": 14,
   "id": "aaf421a3",
   "metadata": {},
   "outputs": [
    {
     "name": "stdout",
     "output_type": "stream",
     "text": [
      "   last_stop_sequence  value\n",
      "0              (0, 3]      0\n",
      "1              (3, 6]     28\n",
      "2              (6, 9]      8\n",
      "3             (9, 12]      1\n",
      "4            (12, 15]      7\n",
      "5            (15, 18]      4\n",
      "6            (18, 21]      7\n",
      "7            (21, 24]      8\n",
      "8            (24, 27]      6\n",
      "9            (27, 30]      1\n",
      "10           (30, 33]      0\n"
     ]
    },
    {
     "name": "stderr",
     "output_type": "stream",
     "text": [
      "/Users/gianlucarea/Developer/Projects/conda-workspace/master-thesis/helper.py:137: FutureWarning: The default of observed=False is deprecated and will be changed to True in a future version of pandas. Pass observed=False to retain current behavior or observed=True to adopt the future default and silence this warning.\n",
      "  df = result.groupby(pd.cut(result['last_stop_sequence'], np.arange(0, max_value + 5, input_value)))['value'].sum()\n"
     ]
    }
   ],
   "source": [
    "helper.aggregated_number_stops(easter_result,3)"
   ]
  },
  {
   "cell_type": "code",
   "execution_count": 15,
   "id": "f5e47f38",
   "metadata": {},
   "outputs": [
    {
     "name": "stdout",
     "output_type": "stream",
     "text": [
      "For each value:\n",
      "    last_stop_sequence  value\n",
      "0                    1      0\n",
      "1                    2      0\n",
      "2                    3      0\n",
      "3                    4      2\n",
      "4                    5     24\n",
      "5                    6      5\n",
      "6                    7      2\n",
      "7                    8      4\n",
      "8                    9      0\n",
      "9                   10      0\n",
      "10                  11      1\n",
      "11                  12      0\n",
      "12                  13      2\n",
      "13                  14      0\n",
      "14                  15      2\n",
      "15                  16      0\n",
      "16                  17      2\n",
      "17                  18      3\n",
      "18                  19      0\n",
      "19                  20      4\n",
      "20                  21      2\n",
      "21                  22      4\n",
      "22                  23      1\n",
      "23                  24      2\n",
      "24                  25      1\n",
      "25                  26      2\n",
      "26                  27      1\n",
      "27                  28      1\n",
      "28                  29      0\n",
      "--------------------------------------------------\n"
     ]
    },
    {
     "data": {
      "image/png": "[encoded data removed]",
      "text/plain": [
       "<Figure size 432x288 with 1 Axes>"
      ]
     },
     "metadata": {
      "needs_background": "light"
     },
     "output_type": "display_data"
    }
   ],
   "source": [
    "august_result = helper.plot_number_stops(august_analytics)"
   ]
  },
  {
   "cell_type": "code",
   "execution_count": 16,
   "id": "8e96e397",
   "metadata": {},
   "outputs": [
    {
     "name": "stdout",
     "output_type": "stream",
     "text": [
      "   last_stop_sequence  value\n",
      "0              (0, 3]      0\n",
      "1              (3, 6]     31\n",
      "2              (6, 9]      6\n",
      "3             (9, 12]      1\n",
      "4            (12, 15]      4\n",
      "5            (15, 18]      5\n",
      "6            (18, 21]      6\n",
      "7            (21, 24]      7\n",
      "8            (24, 27]      4\n",
      "9            (27, 30]      1\n",
      "10           (30, 33]      0\n"
     ]
    },
    {
     "name": "stderr",
     "output_type": "stream",
     "text": [
      "/Users/gianlucarea/Developer/Projects/conda-workspace/master-thesis/helper.py:137: FutureWarning: The default of observed=False is deprecated and will be changed to True in a future version of pandas. Pass observed=False to retain current behavior or observed=True to adopt the future default and silence this warning.\n",
      "  df = result.groupby(pd.cut(result['last_stop_sequence'], np.arange(0, max_value + 5, input_value)))['value'].sum()\n"
     ]
    }
   ],
   "source": [
    "helper.aggregated_number_stops(august_result,3)"
   ]
  },
  {
   "cell_type": "code",
   "execution_count": null,
   "id": "4b78b5f8",
   "metadata": {},
   "outputs": [],
   "source": []
  },
  {
   "cell_type": "code",
   "execution_count": null,
   "id": "30ba1f16",
   "metadata": {},
   "outputs": [],
   "source": []
  }
 ],
 "metadata": {
  "kernelspec": {
   "display_name": "Python 3 (ipykernel)",
   "language": "python",
   "name": "python3"
  },
  "language_info": {
   "codemirror_mode": {
    "name": "ipython",
    "version": 3
   },
   "file_extension": ".py",
   "mimetype": "text/x-python",
   "name": "python",
   "nbconvert_exporter": "python",
   "pygments_lexer": "ipython3",
   "version": "3.9.18"
  }
 },
 "nbformat": 4,
 "nbformat_minor": 5
}
