{
 "cells": [
  {
   "cell_type": "markdown",
   "id": "4704cdd0",
   "metadata": {},
   "source": [
    "# Import"
   ]
  },
  {
   "cell_type": "code",
   "execution_count": 1,
   "id": "95501803",
   "metadata": {},
   "outputs": [
    {
     "name": "stderr",
     "output_type": "stream",
     "text": [
      "/Users/gianlucarea/anaconda3/lib/python3.11/site-packages/tensorflow_addons/utils/tfa_eol_msg.py:23: UserWarning: \n",
      "\n",
      "TensorFlow Addons (TFA) has ended development and introduction of new features.\n",
      "TFA has entered a minimal maintenance and release mode until a planned end of life in May 2024.\n",
      "Please modify downstream libraries to take dependencies from other repositories in our TensorFlow community (e.g. Keras, Keras-CV, and Keras-NLP). \n",
      "\n",
      "For more information see: https://github.com/tensorflow/addons/issues/2807 \n",
      "\n",
      "  warnings.warn(\n"
     ]
    }
   ],
   "source": [
    "import pandas as pd\n",
    "import numpy as np\n",
    "import tensorflow as tf\n",
    "from tensorflow import keras\n",
    "from tensorflow.keras import layers\n",
    "from sklearn.model_selection import train_test_split\n",
    "from tensorflow.keras.layers import Normalization\n",
    "from tensorflow_addons.metrics import RSquare\n",
    "from keras import backend as K\n"
   ]
  },
  {
   "cell_type": "markdown",
   "id": "baa534f9",
   "metadata": {},
   "source": [
    "# Load Dataset"
   ]
  },
  {
   "cell_type": "code",
   "execution_count": 2,
   "id": "b23ecfa9",
   "metadata": {},
   "outputs": [],
   "source": [
    "df_regression = pd.read_csv(\"../processed_files/df_for_ml.csv\", index_col=[0])\n",
    "# Drop column on wich i don't want to train\n",
    "df_regression.drop(columns=[\"trip_id\",\n",
    "                 \"indice_tratta\",\n",
    "                 \"codice\",\n",
    "                 \"data_giorno\"], inplace=True)\n"
   ]
  },
  {
   "cell_type": "code",
   "execution_count": 3,
   "id": "59280a22",
   "metadata": {},
   "outputs": [],
   "source": [
    "# We only need to train on delayed trains on line\n",
    "df_regression = df_regression[df_regression['ritardo_arrivo'] > 0]\n",
    "df_regression.reset_index(inplace=True, drop=True)"
   ]
  },
  {
   "cell_type": "code",
   "execution_count": 4,
   "id": "56d987ae",
   "metadata": {},
   "outputs": [],
   "source": [
    "df_regression = df_regression.astype(np.float64)\n",
    "safe_copy = df_regression.copy()\n",
    "min_val = df_regression.min()\n",
    "max_val = df_regression.max()\n",
    "df_regression=(df_regression-min_val)/(max_val-min_val)\n"
   ]
  },
  {
   "cell_type": "code",
   "execution_count": 5,
   "id": "cc09632a",
   "metadata": {},
   "outputs": [],
   "source": [
    "X_train, X_val_and_test, y_train, y_val_and_test = train_test_split(df_regression.loc[:, df_regression.columns != \"ritardo_arrivo\"].values , df_regression[\"ritardo_arrivo\"].values , test_size=0.20, random_state=1)\n",
    "X_val, X_test, y_val, y_test = train_test_split(X_val_and_test, y_val_and_test, test_size=0.5,random_state=1)\n"
   ]
  },
  {
   "cell_type": "code",
   "execution_count": 6,
   "id": "41ffe925",
   "metadata": {},
   "outputs": [
    {
     "name": "stderr",
     "output_type": "stream",
     "text": [
      "WARNING:absl:At this time, the v2.11+ optimizer `tf.keras.optimizers.Adam` runs slowly on M1/M2 Macs, please use the legacy Keras optimizer instead, located at `tf.keras.optimizers.legacy.Adam`.\n",
      "WARNING:absl:`lr` is deprecated in Keras optimizer, please use `learning_rate` or use the legacy optimizer, e.g.,tf.keras.optimizers.legacy.Adam.\n",
      "WARNING:absl:There is a known slowdown when using v2.11+ Keras optimizers on M1/M2 Macs. Falling back to the legacy Keras optimizer, i.e., `tf.keras.optimizers.legacy.Adam`.\n"
     ]
    },
    {
     "name": "stdout",
     "output_type": "stream",
     "text": [
      "Epoch 1/100\n"
     ]
    },
    {
     "name": "stderr",
     "output_type": "stream",
     "text": [
      "2023-11-13 16:10:41.363709: W tensorflow/tsl/platform/profile_utils/cpu_utils.cc:128] Failed to get CPU frequency: 0 Hz\n"
     ]
    },
    {
     "name": "stdout",
     "output_type": "stream",
     "text": [
      "13039/13039 [==============================] - 6s 450us/step - loss: 9.4789e-04 - mae: 0.0140 - r_square: -0.5678 - root_mean_squared_error: 0.0308 - val_loss: 3.5976e-04 - val_mae: 0.0081 - val_r_square: 0.4168 - val_root_mean_squared_error: 0.0190\n",
      "Epoch 2/100\n",
      "13039/13039 [==============================] - 6s 442us/step - loss: 1.9196e-04 - mae: 0.0070 - r_square: 0.6825 - root_mean_squared_error: 0.0139 - val_loss: 1.9142e-04 - val_mae: 0.0075 - val_r_square: 0.6897 - val_root_mean_squared_error: 0.0138\n",
      "Epoch 3/100\n",
      "13039/13039 [==============================] - 6s 440us/step - loss: 8.5719e-05 - mae: 0.0049 - r_square: 0.8582 - root_mean_squared_error: 0.0093 - val_loss: 1.6559e-04 - val_mae: 0.0072 - val_r_square: 0.7316 - val_root_mean_squared_error: 0.0129\n",
      "Epoch 4/100\n",
      "13039/13039 [==============================] - 6s 441us/step - loss: 7.1135e-05 - mae: 0.0046 - r_square: 0.8823 - root_mean_squared_error: 0.0084 - val_loss: 1.5332e-04 - val_mae: 0.0066 - val_r_square: 0.7515 - val_root_mean_squared_error: 0.0124\n",
      "Epoch 5/100\n",
      "13039/13039 [==============================] - 6s 441us/step - loss: 7.1472e-05 - mae: 0.0045 - r_square: 0.8818 - root_mean_squared_error: 0.0085 - val_loss: 1.6516e-04 - val_mae: 0.0071 - val_r_square: 0.7323 - val_root_mean_squared_error: 0.0129\n",
      "Epoch 6/100\n",
      "13039/13039 [==============================] - 6s 449us/step - loss: 6.7986e-05 - mae: 0.0044 - r_square: 0.8876 - root_mean_squared_error: 0.0082 - val_loss: 1.6720e-04 - val_mae: 0.0071 - val_r_square: 0.7289 - val_root_mean_squared_error: 0.0129\n",
      "Epoch 7/100\n",
      "13039/13039 [==============================] - 6s 439us/step - loss: 6.7991e-05 - mae: 0.0044 - r_square: 0.8875 - root_mean_squared_error: 0.0082 - val_loss: 1.7763e-04 - val_mae: 0.0076 - val_r_square: 0.7120 - val_root_mean_squared_error: 0.0133\n",
      "Epoch 8/100\n",
      "13039/13039 [==============================] - 6s 440us/step - loss: 6.9001e-05 - mae: 0.0044 - r_square: 0.8859 - root_mean_squared_error: 0.0083 - val_loss: 1.5315e-04 - val_mae: 0.0061 - val_r_square: 0.7517 - val_root_mean_squared_error: 0.0124\n",
      "Epoch 9/100\n",
      "13039/13039 [==============================] - 6s 442us/step - loss: 6.9460e-05 - mae: 0.0043 - r_square: 0.8851 - root_mean_squared_error: 0.0083 - val_loss: 1.5589e-04 - val_mae: 0.0066 - val_r_square: 0.7473 - val_root_mean_squared_error: 0.0125\n",
      "Epoch 10/100\n",
      "13039/13039 [==============================] - 6s 437us/step - loss: 6.6333e-05 - mae: 0.0043 - r_square: 0.8903 - root_mean_squared_error: 0.0081 - val_loss: 1.5158e-04 - val_mae: 0.0064 - val_r_square: 0.7543 - val_root_mean_squared_error: 0.0123\n",
      "Epoch 11/100\n",
      "13039/13039 [==============================] - 6s 436us/step - loss: 6.5648e-05 - mae: 0.0043 - r_square: 0.8914 - root_mean_squared_error: 0.0081 - val_loss: 1.4523e-04 - val_mae: 0.0063 - val_r_square: 0.7646 - val_root_mean_squared_error: 0.0121\n",
      "Epoch 12/100\n",
      "13039/13039 [==============================] - 6s 437us/step - loss: 6.6775e-05 - mae: 0.0043 - r_square: 0.8896 - root_mean_squared_error: 0.0082 - val_loss: 1.4452e-04 - val_mae: 0.0063 - val_r_square: 0.7657 - val_root_mean_squared_error: 0.0120\n",
      "Epoch 13/100\n",
      "13039/13039 [==============================] - 6s 443us/step - loss: 6.6158e-05 - mae: 0.0043 - r_square: 0.8906 - root_mean_squared_error: 0.0081 - val_loss: 1.4347e-04 - val_mae: 0.0065 - val_r_square: 0.7674 - val_root_mean_squared_error: 0.0120\n",
      "Epoch 14/100\n",
      "13039/13039 [==============================] - 6s 441us/step - loss: 6.4400e-05 - mae: 0.0043 - r_square: 0.8935 - root_mean_squared_error: 0.0080 - val_loss: 1.4193e-04 - val_mae: 0.0061 - val_r_square: 0.7699 - val_root_mean_squared_error: 0.0119\n",
      "Epoch 15/100\n",
      "13039/13039 [==============================] - 6s 441us/step - loss: 6.7458e-05 - mae: 0.0043 - r_square: 0.8884 - root_mean_squared_error: 0.0082 - val_loss: 1.5478e-04 - val_mae: 0.0067 - val_r_square: 0.7491 - val_root_mean_squared_error: 0.0124\n",
      "Epoch 16/100\n",
      "13039/13039 [==============================] - 6s 475us/step - loss: 6.3796e-05 - mae: 0.0043 - r_square: 0.8945 - root_mean_squared_error: 0.0080 - val_loss: 1.2731e-04 - val_mae: 0.0054 - val_r_square: 0.7936 - val_root_mean_squared_error: 0.0113\n",
      "Epoch 17/100\n",
      "13039/13039 [==============================] - 6s 436us/step - loss: 6.6999e-05 - mae: 0.0043 - r_square: 0.8892 - root_mean_squared_error: 0.0082 - val_loss: 1.5713e-04 - val_mae: 0.0068 - val_r_square: 0.7453 - val_root_mean_squared_error: 0.0125\n",
      "Epoch 18/100\n",
      "13039/13039 [==============================] - 6s 424us/step - loss: 6.2867e-05 - mae: 0.0043 - r_square: 0.8960 - root_mean_squared_error: 0.0079 - val_loss: 1.4164e-04 - val_mae: 0.0059 - val_r_square: 0.7704 - val_root_mean_squared_error: 0.0119\n",
      "Epoch 19/100\n",
      "13039/13039 [==============================] - 6s 438us/step - loss: 6.5117e-05 - mae: 0.0042 - r_square: 0.8923 - root_mean_squared_error: 0.0081 - val_loss: 1.2728e-04 - val_mae: 0.0051 - val_r_square: 0.7937 - val_root_mean_squared_error: 0.0113\n",
      "Epoch 20/100\n",
      "13039/13039 [==============================] - 6s 440us/step - loss: 6.5855e-05 - mae: 0.0042 - r_square: 0.8911 - root_mean_squared_error: 0.0081 - val_loss: 1.2712e-04 - val_mae: 0.0051 - val_r_square: 0.7939 - val_root_mean_squared_error: 0.0113\n",
      "Epoch 21/100\n",
      "13039/13039 [==============================] - 6s 439us/step - loss: 6.7891e-05 - mae: 0.0042 - r_square: 0.8877 - root_mean_squared_error: 0.0082 - val_loss: 1.3405e-04 - val_mae: 0.0051 - val_r_square: 0.7827 - val_root_mean_squared_error: 0.0116\n",
      "Epoch 22/100\n",
      "13039/13039 [==============================] - 6s 435us/step - loss: 6.3735e-05 - mae: 0.0042 - r_square: 0.8946 - root_mean_squared_error: 0.0080 - val_loss: 1.2770e-04 - val_mae: 0.0055 - val_r_square: 0.7930 - val_root_mean_squared_error: 0.0113\n",
      "Epoch 23/100\n",
      "13039/13039 [==============================] - 6s 435us/step - loss: 6.5371e-05 - mae: 0.0042 - r_square: 0.8919 - root_mean_squared_error: 0.0081 - val_loss: 1.1235e-04 - val_mae: 0.0053 - val_r_square: 0.8179 - val_root_mean_squared_error: 0.0106\n",
      "Epoch 24/100\n",
      "13039/13039 [==============================] - 6s 431us/step - loss: 6.6297e-05 - mae: 0.0042 - r_square: 0.8903 - root_mean_squared_error: 0.0081 - val_loss: 1.2651e-04 - val_mae: 0.0055 - val_r_square: 0.7949 - val_root_mean_squared_error: 0.0112\n",
      "Epoch 25/100\n",
      "13039/13039 [==============================] - 6s 431us/step - loss: 6.6669e-05 - mae: 0.0043 - r_square: 0.8897 - root_mean_squared_error: 0.0082 - val_loss: 1.1340e-04 - val_mae: 0.0051 - val_r_square: 0.8162 - val_root_mean_squared_error: 0.0106\n",
      "Epoch 26/100\n",
      "13039/13039 [==============================] - 6s 428us/step - loss: 6.5319e-05 - mae: 0.0042 - r_square: 0.8920 - root_mean_squared_error: 0.0081 - val_loss: 1.3687e-04 - val_mae: 0.0056 - val_r_square: 0.7781 - val_root_mean_squared_error: 0.0117\n",
      "Epoch 27/100\n",
      "13039/13039 [==============================] - 6s 431us/step - loss: 7.1333e-05 - mae: 0.0043 - r_square: 0.8820 - root_mean_squared_error: 0.0084 - val_loss: 1.5601e-04 - val_mae: 0.0072 - val_r_square: 0.7471 - val_root_mean_squared_error: 0.0125\n",
      "Epoch 28/100\n",
      "13039/13039 [==============================] - 6s 430us/step - loss: 6.5965e-05 - mae: 0.0042 - r_square: 0.8909 - root_mean_squared_error: 0.0081 - val_loss: 1.2316e-04 - val_mae: 0.0048 - val_r_square: 0.8004 - val_root_mean_squared_error: 0.0111\n",
      "Epoch 29/100\n",
      "13039/13039 [==============================] - 6s 434us/step - loss: 6.4639e-05 - mae: 0.0042 - r_square: 0.8931 - root_mean_squared_error: 0.0080 - val_loss: 1.1841e-04 - val_mae: 0.0049 - val_r_square: 0.8080 - val_root_mean_squared_error: 0.0109\n",
      "Epoch 30/100\n",
      "13039/13039 [==============================] - 6s 434us/step - loss: 6.5144e-05 - mae: 0.0042 - r_square: 0.8923 - root_mean_squared_error: 0.0081 - val_loss: 1.2284e-04 - val_mae: 0.0051 - val_r_square: 0.8009 - val_root_mean_squared_error: 0.0111\n",
      "Epoch 31/100\n",
      "13039/13039 [==============================] - 6s 433us/step - loss: 6.5117e-05 - mae: 0.0042 - r_square: 0.8923 - root_mean_squared_error: 0.0081 - val_loss: 1.2297e-04 - val_mae: 0.0050 - val_r_square: 0.8007 - val_root_mean_squared_error: 0.0111\n",
      "Epoch 32/100\n"
     ]
    },
    {
     "name": "stdout",
     "output_type": "stream",
     "text": [
      "13039/13039 [==============================] - 6s 435us/step - loss: 6.5035e-05 - mae: 0.0042 - r_square: 0.8924 - root_mean_squared_error: 0.0081 - val_loss: 1.3012e-04 - val_mae: 0.0055 - val_r_square: 0.7891 - val_root_mean_squared_error: 0.0114\n",
      "Epoch 33/100\n",
      "13039/13039 [==============================] - 6s 434us/step - loss: 6.5601e-05 - mae: 0.0042 - r_square: 0.8915 - root_mean_squared_error: 0.0081 - val_loss: 1.1499e-04 - val_mae: 0.0047 - val_r_square: 0.8136 - val_root_mean_squared_error: 0.0107\n",
      "Epoch 34/100\n",
      "13039/13039 [==============================] - 6s 472us/step - loss: 6.4080e-05 - mae: 0.0042 - r_square: 0.8940 - root_mean_squared_error: 0.0080 - val_loss: 1.2714e-04 - val_mae: 0.0054 - val_r_square: 0.7939 - val_root_mean_squared_error: 0.0113\n",
      "Epoch 35/100\n",
      "13039/13039 [==============================] - 6s 451us/step - loss: 6.0386e-05 - mae: 0.0041 - r_square: 0.9001 - root_mean_squared_error: 0.0078 - val_loss: 1.2943e-04 - val_mae: 0.0057 - val_r_square: 0.7902 - val_root_mean_squared_error: 0.0114\n",
      "Epoch 36/100\n",
      "13039/13039 [==============================] - 6s 433us/step - loss: 6.3587e-05 - mae: 0.0042 - r_square: 0.8948 - root_mean_squared_error: 0.0080 - val_loss: 1.2280e-04 - val_mae: 0.0051 - val_r_square: 0.8009 - val_root_mean_squared_error: 0.0111\n",
      "Epoch 37/100\n",
      "13039/13039 [==============================] - 6s 439us/step - loss: 6.1809e-05 - mae: 0.0042 - r_square: 0.8978 - root_mean_squared_error: 0.0079 - val_loss: 1.0520e-04 - val_mae: 0.0054 - val_r_square: 0.8295 - val_root_mean_squared_error: 0.0103\n",
      "Epoch 38/100\n",
      "13039/13039 [==============================] - 6s 432us/step - loss: 6.2429e-05 - mae: 0.0042 - r_square: 0.8967 - root_mean_squared_error: 0.0079 - val_loss: 1.4095e-04 - val_mae: 0.0061 - val_r_square: 0.7715 - val_root_mean_squared_error: 0.0119\n",
      "Epoch 39/100\n",
      "13039/13039 [==============================] - 6s 438us/step - loss: 6.1127e-05 - mae: 0.0042 - r_square: 0.8989 - root_mean_squared_error: 0.0078 - val_loss: 1.2184e-04 - val_mae: 0.0051 - val_r_square: 0.8025 - val_root_mean_squared_error: 0.0110\n",
      "Epoch 40/100\n",
      "13039/13039 [==============================] - 6s 446us/step - loss: 6.1979e-05 - mae: 0.0042 - r_square: 0.8975 - root_mean_squared_error: 0.0079 - val_loss: 1.2971e-04 - val_mae: 0.0055 - val_r_square: 0.7897 - val_root_mean_squared_error: 0.0114\n",
      "Epoch 41/100\n",
      "13039/13039 [==============================] - 6s 434us/step - loss: 6.3633e-05 - mae: 0.0042 - r_square: 0.8948 - root_mean_squared_error: 0.0080 - val_loss: 1.1657e-04 - val_mae: 0.0051 - val_r_square: 0.8110 - val_root_mean_squared_error: 0.0108\n",
      "Epoch 42/100\n",
      "13039/13039 [==============================] - 6s 431us/step - loss: 6.2629e-05 - mae: 0.0042 - r_square: 0.8964 - root_mean_squared_error: 0.0079 - val_loss: 1.1311e-04 - val_mae: 0.0047 - val_r_square: 0.8166 - val_root_mean_squared_error: 0.0106\n",
      "Epoch 43/100\n",
      "13039/13039 [==============================] - 6s 436us/step - loss: 6.1840e-05 - mae: 0.0041 - r_square: 0.8977 - root_mean_squared_error: 0.0079 - val_loss: 1.0740e-04 - val_mae: 0.0048 - val_r_square: 0.8259 - val_root_mean_squared_error: 0.0104\n",
      "Epoch 44/100\n",
      "13039/13039 [==============================] - 6s 432us/step - loss: 6.5112e-05 - mae: 0.0042 - r_square: 0.8923 - root_mean_squared_error: 0.0081 - val_loss: 1.7998e-04 - val_mae: 0.0083 - val_r_square: 0.7082 - val_root_mean_squared_error: 0.0134\n",
      "Epoch 45/100\n",
      "13039/13039 [==============================] - 6s 434us/step - loss: 6.1344e-05 - mae: 0.0041 - r_square: 0.8985 - root_mean_squared_error: 0.0078 - val_loss: 1.1917e-04 - val_mae: 0.0052 - val_r_square: 0.8068 - val_root_mean_squared_error: 0.0109\n",
      "Epoch 46/100\n",
      "13039/13039 [==============================] - 6s 435us/step - loss: 6.1525e-05 - mae: 0.0042 - r_square: 0.8982 - root_mean_squared_error: 0.0078 - val_loss: 1.1914e-04 - val_mae: 0.0053 - val_r_square: 0.8069 - val_root_mean_squared_error: 0.0109\n",
      "Epoch 47/100\n",
      "13039/13039 [==============================] - 6s 438us/step - loss: 6.0806e-05 - mae: 0.0042 - r_square: 0.8994 - root_mean_squared_error: 0.0078 - val_loss: 1.0578e-04 - val_mae: 0.0044 - val_r_square: 0.8285 - val_root_mean_squared_error: 0.0103\n",
      "Epoch 48/100\n",
      "13039/13039 [==============================] - 6s 434us/step - loss: 6.0753e-05 - mae: 0.0041 - r_square: 0.8995 - root_mean_squared_error: 0.0078 - val_loss: 1.1653e-04 - val_mae: 0.0053 - val_r_square: 0.8111 - val_root_mean_squared_error: 0.0108\n",
      "Epoch 49/100\n",
      "13039/13039 [==============================] - 6s 436us/step - loss: 6.0527e-05 - mae: 0.0041 - r_square: 0.8999 - root_mean_squared_error: 0.0078 - val_loss: 1.2027e-04 - val_mae: 0.0055 - val_r_square: 0.8050 - val_root_mean_squared_error: 0.0110\n",
      "Epoch 50/100\n",
      "13039/13039 [==============================] - 6s 433us/step - loss: 6.1328e-05 - mae: 0.0041 - r_square: 0.8986 - root_mean_squared_error: 0.0078 - val_loss: 1.0805e-04 - val_mae: 0.0046 - val_r_square: 0.8248 - val_root_mean_squared_error: 0.0104\n",
      "Epoch 51/100\n",
      "13039/13039 [==============================] - 6s 462us/step - loss: 6.8438e-05 - mae: 0.0043 - r_square: 0.8868 - root_mean_squared_error: 0.0083 - val_loss: 1.1123e-04 - val_mae: 0.0050 - val_r_square: 0.8197 - val_root_mean_squared_error: 0.0105\n",
      "Epoch 52/100\n",
      "13039/13039 [==============================] - 6s 483us/step - loss: 6.2611e-05 - mae: 0.0042 - r_square: 0.8964 - root_mean_squared_error: 0.0079 - val_loss: 1.1717e-04 - val_mae: 0.0047 - val_r_square: 0.8101 - val_root_mean_squared_error: 0.0108\n",
      "Epoch 53/100\n",
      "13039/13039 [==============================] - 6s 444us/step - loss: 6.0763e-05 - mae: 0.0042 - r_square: 0.8995 - root_mean_squared_error: 0.0078 - val_loss: 8.1457e-05 - val_mae: 0.0040 - val_r_square: 0.8680 - val_root_mean_squared_error: 0.0090\n",
      "Epoch 54/100\n",
      "13039/13039 [==============================] - 6s 437us/step - loss: 6.0723e-05 - mae: 0.0041 - r_square: 0.8996 - root_mean_squared_error: 0.0078 - val_loss: 9.7073e-05 - val_mae: 0.0045 - val_r_square: 0.8426 - val_root_mean_squared_error: 0.0099\n",
      "Epoch 55/100\n",
      "13039/13039 [==============================] - 6s 439us/step - loss: 6.0741e-05 - mae: 0.0042 - r_square: 0.8995 - root_mean_squared_error: 0.0078 - val_loss: 1.0179e-04 - val_mae: 0.0047 - val_r_square: 0.8350 - val_root_mean_squared_error: 0.0101\n",
      "Epoch 56/100\n",
      "13039/13039 [==============================] - 6s 435us/step - loss: 6.1930e-05 - mae: 0.0041 - r_square: 0.8976 - root_mean_squared_error: 0.0079 - val_loss: 1.0144e-04 - val_mae: 0.0047 - val_r_square: 0.8356 - val_root_mean_squared_error: 0.0101\n",
      "Epoch 57/100\n",
      "13039/13039 [==============================] - 6s 439us/step - loss: 6.1074e-05 - mae: 0.0041 - r_square: 0.8990 - root_mean_squared_error: 0.0078 - val_loss: 1.0843e-04 - val_mae: 0.0057 - val_r_square: 0.8242 - val_root_mean_squared_error: 0.0104\n",
      "Epoch 58/100\n",
      "13039/13039 [==============================] - 6s 447us/step - loss: 6.1133e-05 - mae: 0.0041 - r_square: 0.8989 - root_mean_squared_error: 0.0078 - val_loss: 8.2066e-05 - val_mae: 0.0044 - val_r_square: 0.8670 - val_root_mean_squared_error: 0.0091\n",
      "Epoch 59/100\n",
      "13039/13039 [==============================] - 6s 459us/step - loss: 6.0276e-05 - mae: 0.0041 - r_square: 0.9003 - root_mean_squared_error: 0.0078 - val_loss: 8.5800e-05 - val_mae: 0.0043 - val_r_square: 0.8609 - val_root_mean_squared_error: 0.0093\n",
      "Epoch 60/100\n",
      "13039/13039 [==============================] - 6s 438us/step - loss: 6.0826e-05 - mae: 0.0041 - r_square: 0.8994 - root_mean_squared_error: 0.0078 - val_loss: 9.5228e-05 - val_mae: 0.0046 - val_r_square: 0.8456 - val_root_mean_squared_error: 0.0098\n",
      "Epoch 61/100\n",
      "13039/13039 [==============================] - 6s 448us/step - loss: 5.9994e-05 - mae: 0.0041 - r_square: 0.9008 - root_mean_squared_error: 0.0077 - val_loss: 1.2527e-04 - val_mae: 0.0052 - val_r_square: 0.7969 - val_root_mean_squared_error: 0.0112\n",
      "Epoch 62/100\n",
      "13039/13039 [==============================] - 6s 446us/step - loss: 6.1405e-05 - mae: 0.0041 - r_square: 0.8984 - root_mean_squared_error: 0.0078 - val_loss: 8.8455e-05 - val_mae: 0.0043 - val_r_square: 0.8566 - val_root_mean_squared_error: 0.0094\n",
      "Epoch 63/100\n"
     ]
    },
    {
     "name": "stdout",
     "output_type": "stream",
     "text": [
      "13039/13039 [==============================] - 6s 443us/step - loss: 6.0836e-05 - mae: 0.0041 - r_square: 0.8994 - root_mean_squared_error: 0.0078 - val_loss: 9.1254e-05 - val_mae: 0.0045 - val_r_square: 0.8521 - val_root_mean_squared_error: 0.0096\n",
      "Epoch 64/100\n",
      "13039/13039 [==============================] - 6s 453us/step - loss: 6.1373e-05 - mae: 0.0041 - r_square: 0.8985 - root_mean_squared_error: 0.0078 - val_loss: 9.4963e-05 - val_mae: 0.0046 - val_r_square: 0.8461 - val_root_mean_squared_error: 0.0097\n",
      "Epoch 65/100\n",
      "13039/13039 [==============================] - 6s 439us/step - loss: 6.0161e-05 - mae: 0.0041 - r_square: 0.9005 - root_mean_squared_error: 0.0078 - val_loss: 9.1641e-05 - val_mae: 0.0043 - val_r_square: 0.8514 - val_root_mean_squared_error: 0.0096\n",
      "Epoch 66/100\n",
      "13039/13039 [==============================] - 6s 437us/step - loss: 6.2645e-05 - mae: 0.0042 - r_square: 0.8964 - root_mean_squared_error: 0.0079 - val_loss: 9.8286e-05 - val_mae: 0.0045 - val_r_square: 0.8407 - val_root_mean_squared_error: 0.0099\n",
      "Epoch 67/100\n",
      "13039/13039 [==============================] - 6s 441us/step - loss: 6.2504e-05 - mae: 0.0041 - r_square: 0.8966 - root_mean_squared_error: 0.0079 - val_loss: 9.8869e-05 - val_mae: 0.0046 - val_r_square: 0.8397 - val_root_mean_squared_error: 0.0099\n",
      "Epoch 68/100\n",
      "13039/13039 [==============================] - 7s 516us/step - loss: 6.0287e-05 - mae: 0.0041 - r_square: 0.9003 - root_mean_squared_error: 0.0078 - val_loss: 9.5025e-05 - val_mae: 0.0046 - val_r_square: 0.8460 - val_root_mean_squared_error: 0.0097\n",
      "Epoch 69/100\n",
      "13039/13039 [==============================] - 6s 441us/step - loss: 5.9185e-05 - mae: 0.0041 - r_square: 0.9021 - root_mean_squared_error: 0.0077 - val_loss: 9.2810e-05 - val_mae: 0.0041 - val_r_square: 0.8495 - val_root_mean_squared_error: 0.0096\n",
      "Epoch 70/100\n",
      "13039/13039 [==============================] - 6s 488us/step - loss: 6.1580e-05 - mae: 0.0042 - r_square: 0.8981 - root_mean_squared_error: 0.0078 - val_loss: 9.0040e-05 - val_mae: 0.0041 - val_r_square: 0.8540 - val_root_mean_squared_error: 0.0095\n",
      "Epoch 71/100\n",
      "13039/13039 [==============================] - 6s 442us/step - loss: 5.9292e-05 - mae: 0.0041 - r_square: 0.9019 - root_mean_squared_error: 0.0077 - val_loss: 9.7400e-05 - val_mae: 0.0043 - val_r_square: 0.8421 - val_root_mean_squared_error: 0.0099\n",
      "Epoch 72/100\n",
      "13039/13039 [==============================] - 6s 434us/step - loss: 6.0829e-05 - mae: 0.0041 - r_square: 0.8994 - root_mean_squared_error: 0.0078 - val_loss: 9.1600e-05 - val_mae: 0.0044 - val_r_square: 0.8515 - val_root_mean_squared_error: 0.0096\n",
      "Epoch 73/100\n",
      "13039/13039 [==============================] - 6s 440us/step - loss: 5.8844e-05 - mae: 0.0041 - r_square: 0.9027 - root_mean_squared_error: 0.0077 - val_loss: 8.8319e-05 - val_mae: 0.0041 - val_r_square: 0.8568 - val_root_mean_squared_error: 0.0094\n",
      "Epoch 74/100\n",
      "13039/13039 [==============================] - 6s 438us/step - loss: 5.8559e-05 - mae: 0.0041 - r_square: 0.9031 - root_mean_squared_error: 0.0077 - val_loss: 9.4093e-05 - val_mae: 0.0042 - val_r_square: 0.8475 - val_root_mean_squared_error: 0.0097\n",
      "Epoch 75/100\n",
      "13039/13039 [==============================] - 6s 453us/step - loss: 5.9972e-05 - mae: 0.0041 - r_square: 0.9008 - root_mean_squared_error: 0.0077 - val_loss: 8.8857e-05 - val_mae: 0.0047 - val_r_square: 0.8560 - val_root_mean_squared_error: 0.0094\n",
      "Epoch 76/100\n",
      "13039/13039 [==============================] - 6s 446us/step - loss: 5.8762e-05 - mae: 0.0041 - r_square: 0.9028 - root_mean_squared_error: 0.0077 - val_loss: 1.1025e-04 - val_mae: 0.0050 - val_r_square: 0.8213 - val_root_mean_squared_error: 0.0105\n",
      "Epoch 77/100\n",
      "13039/13039 [==============================] - 6s 446us/step - loss: 6.1491e-05 - mae: 0.0041 - r_square: 0.8983 - root_mean_squared_error: 0.0078 - val_loss: 9.3847e-05 - val_mae: 0.0043 - val_r_square: 0.8479 - val_root_mean_squared_error: 0.0097\n",
      "Epoch 78/100\n",
      "13039/13039 [==============================] - 6s 441us/step - loss: 5.9668e-05 - mae: 0.0041 - r_square: 0.9013 - root_mean_squared_error: 0.0077 - val_loss: 1.0457e-04 - val_mae: 0.0044 - val_r_square: 0.8305 - val_root_mean_squared_error: 0.0102\n",
      "Epoch 79/100\n",
      "13039/13039 [==============================] - 6s 439us/step - loss: 6.0882e-05 - mae: 0.0041 - r_square: 0.8993 - root_mean_squared_error: 0.0078 - val_loss: 9.1594e-05 - val_mae: 0.0043 - val_r_square: 0.8515 - val_root_mean_squared_error: 0.0096\n",
      "Epoch 80/100\n",
      "13039/13039 [==============================] - 6s 444us/step - loss: 5.9531e-05 - mae: 0.0041 - r_square: 0.9015 - root_mean_squared_error: 0.0077 - val_loss: 8.8992e-05 - val_mae: 0.0040 - val_r_square: 0.8557 - val_root_mean_squared_error: 0.0094\n",
      "Epoch 81/100\n",
      "13039/13039 [==============================] - 6s 440us/step - loss: 5.7302e-05 - mae: 0.0041 - r_square: 0.9052 - root_mean_squared_error: 0.0076 - val_loss: 9.9042e-05 - val_mae: 0.0043 - val_r_square: 0.8394 - val_root_mean_squared_error: 0.0100\n",
      "Epoch 82/100\n",
      "13039/13039 [==============================] - 6s 434us/step - loss: 5.9602e-05 - mae: 0.0041 - r_square: 0.9014 - root_mean_squared_error: 0.0077 - val_loss: 9.5361e-05 - val_mae: 0.0041 - val_r_square: 0.8454 - val_root_mean_squared_error: 0.0098\n",
      "Epoch 83/100\n",
      "13039/13039 [==============================] - 6s 434us/step - loss: 5.9076e-05 - mae: 0.0041 - r_square: 0.9023 - root_mean_squared_error: 0.0077 - val_loss: 1.0009e-04 - val_mae: 0.0042 - val_r_square: 0.8377 - val_root_mean_squared_error: 0.0100\n",
      "Epoch 84/100\n",
      "13039/13039 [==============================] - 6s 434us/step - loss: 6.0229e-05 - mae: 0.0041 - r_square: 0.9004 - root_mean_squared_error: 0.0078 - val_loss: 9.3224e-05 - val_mae: 0.0040 - val_r_square: 0.8489 - val_root_mean_squared_error: 0.0097\n",
      "Epoch 85/100\n",
      "13039/13039 [==============================] - 6s 438us/step - loss: 6.0642e-05 - mae: 0.0041 - r_square: 0.8997 - root_mean_squared_error: 0.0078 - val_loss: 9.1543e-05 - val_mae: 0.0044 - val_r_square: 0.8516 - val_root_mean_squared_error: 0.0096\n",
      "Epoch 86/100\n",
      "13039/13039 [==============================] - 6s 433us/step - loss: 6.0268e-05 - mae: 0.0041 - r_square: 0.9003 - root_mean_squared_error: 0.0078 - val_loss: 9.1794e-05 - val_mae: 0.0044 - val_r_square: 0.8512 - val_root_mean_squared_error: 0.0096\n",
      "Epoch 87/100\n",
      "13039/13039 [==============================] - 6s 436us/step - loss: 6.1426e-05 - mae: 0.0041 - r_square: 0.8984 - root_mean_squared_error: 0.0078 - val_loss: 9.2612e-05 - val_mae: 0.0042 - val_r_square: 0.8499 - val_root_mean_squared_error: 0.0096\n",
      "Epoch 88/100\n",
      "13039/13039 [==============================] - 6s 454us/step - loss: 5.6661e-05 - mae: 0.0041 - r_square: 0.9063 - root_mean_squared_error: 0.0075 - val_loss: 9.4144e-05 - val_mae: 0.0042 - val_r_square: 0.8474 - val_root_mean_squared_error: 0.0097\n",
      "Epoch 89/100\n",
      "13039/13039 [==============================] - 6s 448us/step - loss: 5.9159e-05 - mae: 0.0041 - r_square: 0.9022 - root_mean_squared_error: 0.0077 - val_loss: 9.4430e-05 - val_mae: 0.0041 - val_r_square: 0.8469 - val_root_mean_squared_error: 0.0097\n",
      "Epoch 90/100\n",
      "13039/13039 [==============================] - 6s 444us/step - loss: 5.9057e-05 - mae: 0.0041 - r_square: 0.9023 - root_mean_squared_error: 0.0077 - val_loss: 9.8519e-05 - val_mae: 0.0049 - val_r_square: 0.8403 - val_root_mean_squared_error: 0.0099\n",
      "Epoch 91/100\n",
      "13039/13039 [==============================] - 6s 458us/step - loss: 5.9731e-05 - mae: 0.0041 - r_square: 0.9012 - root_mean_squared_error: 0.0077 - val_loss: 9.4266e-05 - val_mae: 0.0045 - val_r_square: 0.8472 - val_root_mean_squared_error: 0.0097\n",
      "Epoch 92/100\n",
      "13039/13039 [==============================] - 6s 457us/step - loss: 6.0101e-05 - mae: 0.0041 - r_square: 0.9006 - root_mean_squared_error: 0.0078 - val_loss: 9.9289e-05 - val_mae: 0.0046 - val_r_square: 0.8390 - val_root_mean_squared_error: 0.0100\n",
      "Epoch 93/100\n",
      "13039/13039 [==============================] - 6s 472us/step - loss: 5.6136e-05 - mae: 0.0041 - r_square: 0.9072 - root_mean_squared_error: 0.0075 - val_loss: 1.0343e-04 - val_mae: 0.0041 - val_r_square: 0.8323 - val_root_mean_squared_error: 0.0102\n",
      "Epoch 94/100\n"
     ]
    },
    {
     "name": "stdout",
     "output_type": "stream",
     "text": [
      "13039/13039 [==============================] - 6s 449us/step - loss: 6.1890e-05 - mae: 0.0041 - r_square: 0.8976 - root_mean_squared_error: 0.0079 - val_loss: 9.4404e-05 - val_mae: 0.0044 - val_r_square: 0.8470 - val_root_mean_squared_error: 0.0097\n",
      "Epoch 95/100\n",
      "13039/13039 [==============================] - 6s 443us/step - loss: 5.9754e-05 - mae: 0.0041 - r_square: 0.9012 - root_mean_squared_error: 0.0077 - val_loss: 8.7246e-05 - val_mae: 0.0041 - val_r_square: 0.8586 - val_root_mean_squared_error: 0.0093\n",
      "Epoch 96/100\n",
      "13039/13039 [==============================] - 6s 447us/step - loss: 5.9287e-05 - mae: 0.0041 - r_square: 0.9019 - root_mean_squared_error: 0.0077 - val_loss: 7.5776e-05 - val_mae: 0.0041 - val_r_square: 0.8772 - val_root_mean_squared_error: 0.0087\n",
      "Epoch 97/100\n",
      "13039/13039 [==============================] - 6s 443us/step - loss: 5.9623e-05 - mae: 0.0041 - r_square: 0.9014 - root_mean_squared_error: 0.0077 - val_loss: 8.7032e-05 - val_mae: 0.0041 - val_r_square: 0.8589 - val_root_mean_squared_error: 0.0093\n",
      "Epoch 98/100\n",
      "13039/13039 [==============================] - 6s 443us/step - loss: 5.9601e-05 - mae: 0.0041 - r_square: 0.9014 - root_mean_squared_error: 0.0077 - val_loss: 8.8478e-05 - val_mae: 0.0042 - val_r_square: 0.8566 - val_root_mean_squared_error: 0.0094\n",
      "Epoch 99/100\n",
      "13039/13039 [==============================] - 6s 442us/step - loss: 5.8725e-05 - mae: 0.0041 - r_square: 0.9029 - root_mean_squared_error: 0.0077 - val_loss: 8.3622e-05 - val_mae: 0.0043 - val_r_square: 0.8644 - val_root_mean_squared_error: 0.0091\n",
      "Epoch 100/100\n",
      "13039/13039 [==============================] - 6s 450us/step - loss: 5.9704e-05 - mae: 0.0041 - r_square: 0.9013 - root_mean_squared_error: 0.0077 - val_loss: 7.7823e-05 - val_mae: 0.0041 - val_r_square: 0.8738 - val_root_mean_squared_error: 0.0088\n"
     ]
    },
    {
     "data": {
      "text/plain": [
       "<keras.callbacks.History at 0x16b32b810>"
      ]
     },
     "execution_count": 6,
     "metadata": {},
     "output_type": "execute_result"
    }
   ],
   "source": [
    "# Defining the model\n",
    "model = keras.Sequential([\n",
    "    keras.layers.Dense(32, input_shape=(26,) , activation='relu'),\n",
    "    keras.layers.AlphaDropout(0.1),\n",
    "    keras.layers.Dense(16,  activation='relu'),\n",
    "    keras.layers.Dense(16,  activation='relu'),\n",
    "    keras.layers.Dense(1, activation='linear')\n",
    "])\n",
    " \n",
    "optimizer = keras.optimizers.Adam(lr=0.01)\n",
    "model.compile(loss='mse',\n",
    "              optimizer=optimizer,\n",
    "              metrics=['mae',RSquare(),tf.keras.metrics.RootMeanSquaredError()])\n",
    "\n",
    "\n",
    "# fitting the model\n",
    "model.fit(X_train, y_train, epochs=100, batch_size=12,  validation_data=(X_val, y_val))"
   ]
  },
  {
   "cell_type": "code",
   "execution_count": 7,
   "id": "7d1a6ae2",
   "metadata": {
    "scrolled": true
   },
   "outputs": [
    {
     "name": "stdout",
     "output_type": "stream",
     "text": [
      "1223/1223 [==============================] - 0s 295us/step - loss: 4.5561e-05 - mae: 0.0040 - r_square: 0.9334 - root_mean_squared_error: 0.0067\n"
     ]
    },
    {
     "data": {
      "text/plain": [
       "[4.556076601147652e-05,\n",
       " 0.004028407856822014,\n",
       " 0.9333537220954895,\n",
       " 0.006749871652573347]"
      ]
     },
     "execution_count": 7,
     "metadata": {},
     "output_type": "execute_result"
    }
   ],
   "source": [
    "model.evaluate(X_test, y_test, batch_size=16)"
   ]
  },
  {
   "cell_type": "code",
   "execution_count": 8,
   "id": "5bfd3933",
   "metadata": {},
   "outputs": [
    {
     "name": "stdout",
     "output_type": "stream",
     "text": [
      "0     0.000000\n",
      "1     0.000000\n",
      "2     0.005155\n",
      "3     0.000000\n",
      "4     0.010309\n",
      "5     0.000000\n",
      "6     0.000000\n",
      "7     0.000000\n",
      "8     0.005155\n",
      "9     0.000000\n",
      "10    0.000000\n",
      "Name: ritardo_arrivo, dtype: float64\n"
     ]
    }
   ],
   "source": [
    "print(df_regression.loc[0:10].ritardo_arrivo)"
   ]
  },
  {
   "cell_type": "code",
   "execution_count": 9,
   "id": "23c1a756",
   "metadata": {
    "scrolled": true
   },
   "outputs": [],
   "source": [
    "prova = df_regression.loc[0:10]\n",
    "prova = prova.drop('ritardo_arrivo',axis=1)"
   ]
  },
  {
   "cell_type": "code",
   "execution_count": 10,
   "id": "adc1d284",
   "metadata": {
    "scrolled": true
   },
   "outputs": [
    {
     "name": "stdout",
     "output_type": "stream",
     "text": [
      "1/1 [==============================] - 0s 54ms/step\n"
     ]
    }
   ],
   "source": [
    "yhat = model.predict(prova.values)\n"
   ]
  },
  {
   "cell_type": "code",
   "execution_count": 11,
   "id": "04985c34",
   "metadata": {
    "scrolled": true
   },
   "outputs": [
    {
     "data": {
      "text/plain": [
       "array([[0.00404063],\n",
       "       [0.00404063],\n",
       "       [0.00404063],\n",
       "       [0.00404063],\n",
       "       [0.00404063],\n",
       "       [0.00404063],\n",
       "       [0.00404063],\n",
       "       [0.00404063],\n",
       "       [0.00404063],\n",
       "       [0.00404063],\n",
       "       [0.00404063]], dtype=float32)"
      ]
     },
     "execution_count": 11,
     "metadata": {},
     "output_type": "execute_result"
    }
   ],
   "source": [
    "yhat"
   ]
  },
  {
   "cell_type": "code",
   "execution_count": null,
   "id": "2116d833",
   "metadata": {},
   "outputs": [],
   "source": []
  }
 ],
 "metadata": {
  "kernelspec": {
   "display_name": "Python 3 (ipykernel)",
   "language": "python",
   "name": "python3"
  },
  "language_info": {
   "codemirror_mode": {
    "name": "ipython",
    "version": 3
   },
   "file_extension": ".py",
   "mimetype": "text/x-python",
   "name": "python",
   "nbconvert_exporter": "python",
   "pygments_lexer": "ipython3",
   "version": "3.11.5"
  }
 },
 "nbformat": 4,
 "nbformat_minor": 5
}
