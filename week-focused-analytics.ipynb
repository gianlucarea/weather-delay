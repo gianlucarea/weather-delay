{
 "cells": [
  {
   "cell_type": "code",
   "execution_count": 1,
   "id": "a33a616b",
   "metadata": {},
   "outputs": [],
   "source": [
    "import pandas as pd\n",
    "import gtfs_kit as gk\n"
   ]
  },
  {
   "cell_type": "code",
   "execution_count": 2,
   "id": "1b9d8fce",
   "metadata": {},
   "outputs": [],
   "source": [
    "feed = gk.feed.read_feed('../general_data_analytics.zip',dist_units=\"km\")"
   ]
  },
  {
   "cell_type": "code",
   "execution_count": 3,
   "id": "6b9b1d94",
   "metadata": {},
   "outputs": [],
   "source": [
    "routes = gk.routes.get_routes(feed)\n",
    "stop_times = feed.get_stop_times()\n",
    "trips = feed.get_trips()\n",
    "stops = feed.get_stops()\n",
    "shapes = feed.shapes\n",
    "calendar_dates = feed.calendar_dates\n",
    "calendar = feed.calendar"
   ]
  },
  {
   "cell_type": "markdown",
   "id": "f9453963",
   "metadata": {},
   "source": [
    "# Collecting a single week data"
   ]
  },
  {
   "cell_type": "markdown",
   "id": "e65342e7",
   "metadata": {},
   "source": [
    "## Select trips between Mon 02-Oct-2023 and 06-Oct-2023\n"
   ]
  },
  {
   "cell_type": "code",
   "execution_count": 4,
   "id": "1528898f",
   "metadata": {
    "scrolled": true
   },
   "outputs": [],
   "source": [
    "## Collecting all service date of trips on those days\n",
    "sw_calendar_dates = calendar_dates.loc[(calendar_dates['date'] == '20231002') | \n",
    "                                    (calendar_dates['date'] == '20231003') |\n",
    "                                    (calendar_dates['date'] == '20231004') |\n",
    "                                    (calendar_dates['date'] == '20231005') |\n",
    "                                    (calendar_dates['date'] == '20231006')]\n"
   ]
  },
  {
   "cell_type": "code",
   "execution_count": 8,
   "id": "24da9ffb",
   "metadata": {},
   "outputs": [],
   "source": [
    "## Creating new calendar and collect service date from previous new calendar_dates with drop duplicates\n",
    "sw_calendar = calendar.iloc[0:0]\n",
    "service_id_list = list(dict.fromkeys( sw_calendar_dates['service_id']))\n",
    "\n",
    "for service_id in service_id_list:\n",
    "    row  = calendar.loc[calendar['service_id'] == service_id]\n",
    "    sw_calendar = pd.concat([sw_calendar, row],\n",
    "                      ignore_index = True)"
   ]
  },
  {
   "cell_type": "code",
   "execution_count": 9,
   "id": "5642f22f",
   "metadata": {},
   "outputs": [],
   "source": [
    "## Creating new trips dataframe and collect trips using the list of service id\n",
    "sw_trips = trips.iloc[0:0]\n",
    "\n",
    "for service_id in service_id_list:\n",
    "    row  = trips.loc[trips['service_id'] == service_id]\n",
    "    sw_trips = pd.concat([sw_trips, row],\n",
    "                      ignore_index = True)"
   ]
  },
  {
   "cell_type": "code",
   "execution_count": 12,
   "id": "24f45329",
   "metadata": {},
   "outputs": [],
   "source": [
    "## Creating list of shapes_id,route_id,trips_id from sw_trips\n",
    "route_id_list = list(dict.fromkeys(sw_trips['route_id']))\n",
    "shape_id_list = list(dict.fromkeys(sw_trips['shape_id']))\n",
    "trip_id_list = list(dict.fromkeys(sw_trips['trip_id']))"
   ]
  },
  {
   "cell_type": "code",
   "execution_count": 14,
   "id": "f38fd135",
   "metadata": {},
   "outputs": [],
   "source": [
    "## Creating new route dataframe\n",
    "sw_routes = routes.iloc[0:0]\n",
    "\n",
    "for route_id in route_id_list:\n",
    "    row = routes.loc[routes['route_id']==route_id]\n",
    "    sw_routes = pd.concat([sw_routes,row],ignore_index=True)"
   ]
  },
  {
   "cell_type": "code",
   "execution_count": 17,
   "id": "ba08fa08",
   "metadata": {},
   "outputs": [],
   "source": [
    "## Creating new shape dataframe\n",
    "sw_shapes = shapes.iloc[0:0]\n",
    "\n",
    "for shape_id in shape_id_list:\n",
    "    row = shapes.loc[shapes['shape_id']==shape_id]\n",
    "    sw_shapes = pd.concat([sw_shapes, row],ignore_index = True)"
   ]
  },
  {
   "cell_type": "code",
   "execution_count": 16,
   "id": "bad56900",
   "metadata": {},
   "outputs": [],
   "source": [
    "## Creating new stop_times dataframe\n",
    "sw_stop_times = stop_times.iloc[0:0]\n",
    "\n",
    "for trip_id in trip_id_list:\n",
    "    row = stop_times.loc[stop_times['trip_id'] == trip_id]\n",
    "    sw_stop_times = pd.concat([sw_stop_times,row],ignore_index = True)"
   ]
  },
  {
   "cell_type": "code",
   "execution_count": 28,
   "id": "108622ff",
   "metadata": {},
   "outputs": [],
   "source": [
    "stop_id_list = list(dict.fromkeys(sw_stop_times['stop_id']))"
   ]
  },
  {
   "cell_type": "code",
   "execution_count": 31,
   "id": "5e2bcb0f",
   "metadata": {},
   "outputs": [
    {
     "name": "stdout",
     "output_type": "stream",
     "text": [
      "(28, 6)\n",
      "(28, 6)\n"
     ]
    }
   ],
   "source": [
    "## Creating new stop dataframe, should be equal at this point \n",
    "## but we do it for safe reasons\n",
    "sw_stops = stops.iloc[0:0]\n",
    "\n",
    "for stop_id in stop_id_list:\n",
    "    row = stops.loc[stops['stop_id']==stop_id]\n",
    "    sw_stops = pd.concat([sw_stops,row],ignore_index = True)\n"
   ]
  },
  {
   "cell_type": "code",
   "execution_count": 32,
   "id": "3734b968",
   "metadata": {
    "scrolled": true
   },
   "outputs": [
    {
     "data": {
      "text/html": [
       "<div>\n",
       "<style scoped>\n",
       "    .dataframe tbody tr th:only-of-type {\n",
       "        vertical-align: middle;\n",
       "    }\n",
       "\n",
       "    .dataframe tbody tr th {\n",
       "        vertical-align: top;\n",
       "    }\n",
       "\n",
       "    .dataframe thead th {\n",
       "        text-align: right;\n",
       "    }\n",
       "</style>\n",
       "<table border=\"1\" class=\"dataframe\">\n",
       "  <thead>\n",
       "    <tr style=\"text-align: right;\">\n",
       "      <th></th>\n",
       "      <th>Name</th>\n",
       "      <th>Initial</th>\n",
       "      <th>Updated</th>\n",
       "      <th>Difference</th>\n",
       "    </tr>\n",
       "  </thead>\n",
       "  <tbody>\n",
       "    <tr>\n",
       "      <th>0</th>\n",
       "      <td>Routes</td>\n",
       "      <td>(3, 7)</td>\n",
       "      <td>(1, 7)</td>\n",
       "      <td>(2, 0)</td>\n",
       "    </tr>\n",
       "    <tr>\n",
       "      <th>1</th>\n",
       "      <td>Stops</td>\n",
       "      <td>(28, 6)</td>\n",
       "      <td>(28, 6)</td>\n",
       "      <td>(0, 0)</td>\n",
       "    </tr>\n",
       "    <tr>\n",
       "      <th>2</th>\n",
       "      <td>Trips</td>\n",
       "      <td>(1149, 7)</td>\n",
       "      <td>(51, 7)</td>\n",
       "      <td>(1098, 0)</td>\n",
       "    </tr>\n",
       "    <tr>\n",
       "      <th>3</th>\n",
       "      <td>Stop_Times</td>\n",
       "      <td>(12393, 6)</td>\n",
       "      <td>(654, 6)</td>\n",
       "      <td>(11739, 0)</td>\n",
       "    </tr>\n",
       "    <tr>\n",
       "      <th>4</th>\n",
       "      <td>Shapes</td>\n",
       "      <td>(96692, 6)</td>\n",
       "      <td>(41916, 6)</td>\n",
       "      <td>(54776, 0)</td>\n",
       "    </tr>\n",
       "    <tr>\n",
       "      <th>5</th>\n",
       "      <td>Calendar</td>\n",
       "      <td>(201, 10)</td>\n",
       "      <td>(13, 10)</td>\n",
       "      <td>(188, 0)</td>\n",
       "    </tr>\n",
       "    <tr>\n",
       "      <th>6</th>\n",
       "      <td>Calendar_Dates</td>\n",
       "      <td>(28260, 2)</td>\n",
       "      <td>(65, 2)</td>\n",
       "      <td>(28195, 0)</td>\n",
       "    </tr>\n",
       "  </tbody>\n",
       "</table>\n",
       "</div>"
      ],
      "text/plain": [
       "             Name     Initial     Updated  Difference\n",
       "0          Routes      (3, 7)      (1, 7)      (2, 0)\n",
       "1           Stops     (28, 6)     (28, 6)      (0, 0)\n",
       "2           Trips   (1149, 7)     (51, 7)   (1098, 0)\n",
       "3      Stop_Times  (12393, 6)    (654, 6)  (11739, 0)\n",
       "4          Shapes  (96692, 6)  (41916, 6)  (54776, 0)\n",
       "5        Calendar   (201, 10)    (13, 10)    (188, 0)\n",
       "6  Calendar_Dates  (28260, 2)     (65, 2)  (28195, 0)"
      ]
     },
     "execution_count": 32,
     "metadata": {},
     "output_type": "execute_result"
    }
   ],
   "source": [
    "# Check value change\n",
    "subtracted_dimensions = pd.DataFrame(columns=[\"Name\",\"Initial\",\"Updated\",\"Difference\"])\n",
    "\n",
    "\n",
    "res = tuple(map(lambda i, j: i - j, routes.shape, sw_routes.shape))\n",
    "subtracted_dimensions.loc[0] = [\"Routes\",routes.shape, sw_routes.shape, res]\n",
    "\n",
    "res = tuple(map(lambda i, j: i - j, stops.shape, sw_stops.shape))\n",
    "subtracted_dimensions.loc[1] = [\"Stops\",stops.shape, sw_stops.shape, res]\n",
    "\n",
    "res = tuple(map(lambda i, j: i - j, trips.shape, sw_trips.shape))\n",
    "subtracted_dimensions.loc[2] = [\"Trips\",trips.shape, sw_trips.shape, res]\n",
    "\n",
    "res = tuple(map(lambda i, j: i - j, stop_times.shape,sw_stop_times.shape))\n",
    "subtracted_dimensions.loc[3] = [\"Stop_Times\",stop_times.shape, sw_stop_times.shape, res]\n",
    "\n",
    "res = tuple(map(lambda i, j: i - j, shapes.shape, sw_shapes.shape))\n",
    "subtracted_dimensions.loc[4] = [\"Shapes\",shapes.shape, sw_shapes.shape, res]\n",
    "\n",
    "res = tuple(map(lambda i, j: i - j, calendar.shape, sw_calendar.shape))\n",
    "subtracted_dimensions.loc[5] = [\"Calendar\",calendar.shape, sw_calendar.shape, res]\n",
    "\n",
    "res = tuple(map(lambda i, j: i - j, calendar_dates.shape, sw_calendar_dates.shape))\n",
    "subtracted_dimensions.loc[6] = [\"Calendar_Dates\",calendar_dates.shape, sw_calendar_dates.shape, res]\n",
    "\n",
    "subtracted_dimensions"
   ]
  }
 ],
 "metadata": {
  "kernelspec": {
   "display_name": "Python 3 (ipykernel)",
   "language": "python",
   "name": "python3"
  },
  "language_info": {
   "codemirror_mode": {
    "name": "ipython",
    "version": 3
   },
   "file_extension": ".py",
   "mimetype": "text/x-python",
   "name": "python",
   "nbconvert_exporter": "python",
   "pygments_lexer": "ipython3",
   "version": "3.9.13"
  }
 },
 "nbformat": 4,
 "nbformat_minor": 5
}
