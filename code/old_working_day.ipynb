{
 "cells": [
  {
   "cell_type": "markdown",
   "id": "97fc894f",
   "metadata": {},
   "source": [
    "# Import"
   ]
  },
  {
   "cell_type": "code",
   "execution_count": 1,
   "id": "08951256",
   "metadata": {},
   "outputs": [],
   "source": [
    "import pandas as pd\n",
    "import gtfs_kit as gk\n",
    "import helper #homemade function file helper.py\n",
    "import warnings\n",
    "import numpy as np\n",
    "import json\n",
    "\n",
    "import seaborn as sns\n",
    "import os\n",
    "from datetime import datetime\n",
    "from tqdm import tqdm\n",
    "from sklearn.preprocessing import LabelEncoder\n",
    "from sklearn.ensemble import RandomForestClassifier\n",
    "from sklearn.metrics import r2_score \n",
    "from math import sqrt\n",
    "from sklearn.metrics import classification_report\n",
    "import matplotlib\n",
    "import matplotlib.pyplot as plt\n",
    "import joblib\n",
    "\n",
    "warnings.simplefilter(action='ignore', category=pd.errors.SettingWithCopyWarning)"
   ]
  },
  {
   "cell_type": "code",
   "execution_count": 2,
   "id": "5cf58fa3",
   "metadata": {},
   "outputs": [],
   "source": [
    "#Settings\n",
    "setting_date = '20231106'\n",
    "weather_setting_date = '2023-11-06T'\n",
    "ritardo_partenza_treno = 4"
   ]
  },
  {
   "cell_type": "markdown",
   "id": "d665a8fe",
   "metadata": {},
   "source": [
    "# Preprocessing"
   ]
  },
  {
   "cell_type": "markdown",
   "id": "a9c6c493",
   "metadata": {},
   "source": [
    "### GTFS Static Preprocessing"
   ]
  },
  {
   "cell_type": "code",
   "execution_count": 3,
   "id": "a497b3b2",
   "metadata": {},
   "outputs": [],
   "source": [
    "feed = gk.feed.read_feed('../../feed_collection/20221214.gtfs',dist_units=\"km\")\n",
    "\n",
    "#Datasets Creation\n",
    "routes,stop_times,trips = pd.DataFrame(),pd.DataFrame(),pd.DataFrame()\n",
    "stops,shapes,calendar_dates = pd.DataFrame(),pd.DataFrame(),pd.DataFrame()"
   ]
  },
  {
   "cell_type": "code",
   "execution_count": 4,
   "id": "018ea644",
   "metadata": {},
   "outputs": [],
   "source": [
    "# Selecting Pisa Lucca Aulla\n",
    "routes_feed,stop_times_feed,trips_feed = feed.routes, feed.stop_times, feed.trips \n",
    "stops_feed,shapes_feed,calendar_dates_feed = feed.stops , feed.shapes, feed.calendar_dates\n",
    "    \n",
    "### Get the route information for Routes where route is Pisa-Lucca-Aulla and usefull ids\n",
    "sub_routes = routes_feed.loc[routes_feed['route_long_name'] == 'Pisa - Lucca - Aulla'].reset_index(drop=True)\n",
    "routes = pd.concat([routes, sub_routes])\n",
    "route_id = sub_routes.iloc[0]['route_id']\n",
    "\n",
    "### Get all the trips in for Pisa-Lucca-Aulla\n",
    "sub_trips = trips_feed.loc[trips_feed['route_id'] == route_id].reset_index(drop=True)\n",
    "trips = pd.concat([trips, sub_trips]).reset_index(drop=True)\n",
    "\n",
    "### Get all the stops time regarding the Pisa-Lucca-Aulla \n",
    "sub_stop_times = pd.merge(sub_trips, stop_times_feed, on=['trip_id','trip_id']).reset_index(drop=True)\n",
    "sub_stop_times = sub_stop_times.drop(['route_id', 'service_id','trip_headsign', 'trip_short_name','direction_id', 'shape_id'], axis=1)\n",
    "stop_times = pd.concat([stop_times, sub_stop_times]).reset_index(drop=True)\n",
    "\n",
    "### Get all the stops of the Pisa-Lucca-Aulla route\n",
    "sub_stops = pd.merge(sub_stop_times,stops_feed, on=['stop_id','stop_id']).reset_index(drop=True)\n",
    "sub_stops = sub_stops.drop(['trip_id', 'arrival_time','departure_time', 'stop_sequence','shape_dist_traveled'], axis=1)\n",
    "stops = pd.concat([stops, sub_stops]).reset_index(drop=True)\n",
    "\n",
    "### Get all the shapes related with the Pisa-Lucca-Aulla trips\n",
    "sub_shapes = pd.merge(sub_trips, shapes_feed, on=['shape_id','shape_id']).reset_index(drop=True)\n",
    "sub_shapes = sub_shapes.drop(['route_id', 'service_id','trip_headsign', 'trip_short_name','direction_id', 'trip_id'], axis=1)\n",
    "shapes = pd.concat([shapes, sub_shapes]).reset_index(drop=True)\n",
    "\n",
    "### Get all the calendar dates related with the Pisa-Lucca-Aulla trips\n",
    "sub_dates = pd.merge(sub_trips, calendar_dates_feed, on=['service_id','service_id']).reset_index(drop=True)\n",
    "sub_dates = sub_dates.drop(['route_id', 'shape_id','trip_headsign', 'trip_short_name','direction_id', 'trip_id'], axis=1)\n",
    "calendar_dates = pd.concat([calendar_dates, sub_dates]).reset_index(drop=True)\n",
    "\n",
    "### Clean dataset\n",
    "routes = routes.drop_duplicates().reset_index(drop=True)\n",
    "trips = trips.drop_duplicates().reset_index(drop=True)\n",
    "stops = stops.drop_duplicates().reset_index(drop=True)\n",
    "stop_times = stop_times.drop_duplicates().reset_index(drop=True)\n",
    "shapes = shapes.drop_duplicates().reset_index(drop=True)\n",
    "calendar_dates = calendar_dates.drop_duplicates().reset_index(drop=True)\n",
    "calendar_dates = calendar_dates.drop(['exception_type'], axis=1)\n",
    "\n",
    "# Delete the stops not delonging to our railway line \n",
    "stops_id_to_delete = [\"S06725_1\",\"S06506_1\",\"S06505_1\",\"S06504_1\",\"S06502_1\",\"S06351_1\",\"S06350_1\",\"S06040_1\"]\n",
    "for stops_to_delete in stops_id_to_delete:\n",
    "    stops = stops[stops.stop_id != stops_to_delete]\n",
    "    \n",
    "main_dataset = stop_times.copy()\n",
    "main_dataset = pd.merge(main_dataset, trips, on=['trip_id','trip_id']).reset_index(drop=True)\n",
    "main_dataset = pd.merge(main_dataset, calendar_dates, on=['service_id','service_id']).reset_index(drop=True)\n",
    "main_dataset = pd.merge(main_dataset, stops, on=['stop_id','stop_id']).reset_index(drop=True)\n",
    "main_dataset = main_dataset.drop(['route_id', 'service_id','trip_headsign', 'shape_id','stop_name'], axis=1)\n",
    "\n",
    "main_dataset.sort_values('trip_short_name',ascending=False)\n",
    "main_dataset = main_dataset.rename(columns={'trip_short_name': 'codice','stop_id':'codice_stazione','date':'data_giorno'})\n",
    "main_dataset = main_dataset.loc[(main_dataset[\"data_giorno\"] == setting_date)]"
   ]
  },
  {
   "cell_type": "code",
   "execution_count": 5,
   "id": "c4753b48",
   "metadata": {},
   "outputs": [],
   "source": [
    "# Clean memory\n",
    "del stops,stops_to_delete,calendar_dates,shapes,stop_times,trips,routes\n",
    "del sub_dates,sub_shapes,sub_stops,sub_routes"
   ]
  },
  {
   "cell_type": "markdown",
   "id": "778e3edb",
   "metadata": {},
   "source": [
    "### Weather Preprocessing\n"
   ]
  },
  {
   "cell_type": "code",
   "execution_count": 6,
   "id": "dccefa71",
   "metadata": {
    "scrolled": true
   },
   "outputs": [],
   "source": [
    "locations = pd.read_csv('../../weather/locations.csv')\n",
    "temp_mesurments = pd.read_csv('../../weather/november.csv')\n",
    "mappa_location_codice = helper.mappaloccodice()\n",
    "hours_of_the_day =  helper.hours_of_the_day()\n",
    "measurments = pd.DataFrame()\n",
    "\n",
    "for i in range(len(hours_of_the_day)):\n",
    "    temp_date = weather_setting_date + hours_of_the_day[i] +\":00\" \n",
    "    temp = temp_mesurments.loc[(temp_mesurments['time'] == temp_date)]\n",
    "    measurments = pd.concat([measurments, temp], ignore_index=True)\n",
    "\n",
    "locations[\"codice_stazione\"] = locations[\"location_id\"].apply(lambda x: mappa_location_codice.get(x))\n",
    "measurments[\"codice_stazione\"] = measurments[\"location_id\"].apply(lambda x: mappa_location_codice.get(x))\n",
    "measurments = measurments.assign(data_giorno=None)\n",
    "measurments = measurments.assign(orario=None)"
   ]
  },
  {
   "cell_type": "code",
   "execution_count": 7,
   "id": "df7b0ba3",
   "metadata": {},
   "outputs": [],
   "source": [
    "for index, row  in measurments.iterrows():\n",
    "    date,time = measurments.loc[index,\"time\"].split(\"T\")\n",
    "    measurments.loc[index,'orario'] = time\n",
    "    measurments.loc[index,'data_giorno'] = date.replace(\"-\",\"\")\n"
   ]
  },
  {
   "cell_type": "code",
   "execution_count": 8,
   "id": "dd89aa31",
   "metadata": {},
   "outputs": [],
   "source": [
    "measurments = measurments.rename(columns={'temperature_2m (°C)': 'temperature',\n",
    "                                          'apparent_temperature (°C)' : 'app_temp',\n",
    "                                          'relative_humidity_2m (%)' : 'humidity',\n",
    "                                          'precipitation (mm)' : 'precipitation',\n",
    "                                          'rain (mm)' : 'rain', \n",
    "                                          'snowfall (cm)':'snow_fall',\n",
    "                                          'snow_depth (m)':'snow_depth',\n",
    "                                          'weather_code (wmo code)' : 'wmo_code',\n",
    "                                          'wind_speed_10m (km/h)':'wind_speed_10m',\n",
    "                                          'wind_speed_100m (km/h)':'wind_speed_100m',\n",
    "                                          'wind_direction_10m (°)':'wind_dir_10m',\n",
    "                                          'wind_direction_100m (°)':'wind_dir_100m',\n",
    "                                          'wind_gusts_10m (km/h)' : 'wind_gusts',\n",
    "                                          'soil_temperature_0_to_7cm (°C)':'soil_temperature'\n",
    "                                         })\n",
    "\n",
    "measurments['data_giorno'] = measurments['data_giorno'].astype(str)\n",
    "weather = measurments.copy()\n",
    "weather['data_giorno'] = weather['data_giorno'].astype(str)"
   ]
  },
  {
   "cell_type": "code",
   "execution_count": 9,
   "id": "5a11c287",
   "metadata": {},
   "outputs": [],
   "source": [
    "# Clean memory\n",
    "del locations, temp, measurments"
   ]
  },
  {
   "cell_type": "markdown",
   "id": "faa1ce10",
   "metadata": {},
   "source": [
    "### Delays Preprocessing"
   ]
  },
  {
   "cell_type": "code",
   "execution_count": 10,
   "id": "530d160c",
   "metadata": {},
   "outputs": [],
   "source": [
    "lista_fermate = helper.get_lista_fermate()\n",
    "mappa_location_codice = helper.get_nome_codice_loc()\n",
    "directory = '../../realtime_data_testing'\n",
    "#Read Files\n",
    "delays_df =  pd.DataFrame(columns=['n','p','rp','a','ra','c','oaz','opz','op','oa','fr','pr','date'])\n",
    "for filename in os.listdir(directory):\n",
    "    file = os.path.join(directory, filename)\n",
    "    if os.path.isfile(file):\n",
    "        f = open(file) \n",
    "        data = json.load(f)\n",
    "        giorno = f.name[33:43].split('_')\n",
    "        date_to_add = giorno[2] + giorno[1] + giorno[0]\n",
    "        df = pd.DataFrame(data['treni'])\n",
    "        df = df[df.p.isin(lista_fermate) & df.a.isin(lista_fermate)]\n",
    "        df = df.reset_index(drop=True)\n",
    "        df['date'] = date_to_add\n",
    "        df.dropna(axis=1, how='all')\n",
    "        delays_df = pd.concat([delays_df, df]).reset_index(drop=True)\n",
    "#Read \n",
    "delays_df = delays_df.rename(columns={'n': 'codice', 'p': 'punto_partenza','rp':'ritardo_partenza','a':'punto_arrivo',\n",
    "                                     'ra':'ritardo_arrivo','c':'categoria'})\n",
    "delays_df.dropna(axis=1, how='all')\n",
    "delays_df = delays_df.reset_index(drop=True)\n",
    "\n",
    "for index, row in delays_df.iterrows():\n",
    "    if(pd.notnull(delays_df['cn'][index])):\n",
    "        value = delays_df.loc[index,'cn'].split(\",\")\n",
    "        delays_df.loc[index,'codice'] = row['codice']+\"*\"+value[0]"
   ]
  },
  {
   "cell_type": "code",
   "execution_count": 11,
   "id": "a0d9bd69",
   "metadata": {},
   "outputs": [
    {
     "name": "stdout",
     "output_type": "stream",
     "text": [
      "row 0/200\n"
     ]
    }
   ],
   "source": [
    "# We now expand the dataset by having trip_id, date, station\n",
    "delays_expanded = pd.DataFrame(columns=['codice','data_giorno','codice_stazione','opt','oat'])\n",
    "max_val = delays_df.index.max()\n",
    "for index, row  in delays_df.iterrows():\n",
    "    if(index % 1000 == 0):\n",
    "        print(\"row \" + str(index) + \"/\" +str(max_val))\n",
    "    json_to_put_in_table = str(delays_df.loc[index, 'fr']).replace(\"'\",\"\\\"\")\n",
    "    if(json_to_put_in_table != \"nan\"):\n",
    "        temp_dictionary = json.loads(json_to_put_in_table)\n",
    "        df = pd.DataFrame(temp_dictionary)\n",
    "        df['codice'] = row['codice']\n",
    "        df['data_giorno'] = row['date']\n",
    "        df.oa = df.oa.apply(lambda x: datetime.fromtimestamp(x).time())\n",
    "        df.op = df.op.apply(lambda x: datetime.fromtimestamp(x).time())\n",
    "        delays_expanded = pd.concat([delays_expanded, df]).reset_index(drop=True)\n",
    "    else:   \n",
    "        row_partenza = {'codice': row['codice'], 'data_giorno':row['date'],'codice_stazione':'', 'n':row['punto_partenza'], \n",
    "                        'ra': 'N', 'rp' : row['ritardo_partenza'],'oa': 0,'op': datetime.fromtimestamp(row['op']).time() }\n",
    "        row_arrivo = {'codice': row['codice'], 'data_giorno':row['date'], 'codice_stazione':'','n':row['punto_arrivo'], \n",
    "                        'ra': row['ritardo_arrivo'] , 'rp' : 'N','oa': datetime.fromtimestamp(row['oa']).time(),'op': 0 }\n",
    "        delays_expanded = pd.concat([delays_expanded, pd.DataFrame([row_partenza])], ignore_index=True)\n",
    "        delays_expanded = pd.concat([delays_expanded, pd.DataFrame([row_arrivo])], ignore_index=True)"
   ]
  },
  {
   "cell_type": "code",
   "execution_count": 12,
   "id": "bf2c2554",
   "metadata": {},
   "outputs": [],
   "source": [
    "delays_expanded = delays_expanded.rename(columns={'n': 'stazione', 'ra': 'ritardo_arrivo',\n",
    "                                                  'rp':'ritardo_partenza','oa':'orario_arrivo',\n",
    "                                                  'op':'orario_partenza'})\n",
    " \n",
    "delays_expanded[\"codice_stazione\"] = delays_expanded[\"stazione\"].apply(lambda x: mappa_location_codice.get(x))\n",
    "delays_expanded = delays_expanded.drop(['stazione'], axis=1)\n",
    "\n",
    "delays = delays_expanded.copy()\n",
    "delays[\"codice\"] = delays[\"codice\"].astype(str)\n",
    "delays[\"data_giorno\"] = delays[\"data_giorno\"].astype(str)"
   ]
  },
  {
   "cell_type": "code",
   "execution_count": 13,
   "id": "0db2feec",
   "metadata": {},
   "outputs": [],
   "source": [
    "# Clean Memory\n",
    "del delays_expanded,delays_df,data"
   ]
  },
  {
   "cell_type": "code",
   "execution_count": 14,
   "id": "f7ae5c81",
   "metadata": {},
   "outputs": [
    {
     "name": "stderr",
     "output_type": "stream",
     "text": [
      "181it [00:00, 18023.96it/s]\n"
     ]
    }
   ],
   "source": [
    "# Join and Clean\n",
    "main_dataset = pd.merge(main_dataset, delays, on=['codice', 'data_giorno','codice_stazione'])\n",
    "\n",
    "#Calcolo orario arrotondato per join con weather.\n",
    "main_dataset['orario'] = main_dataset.loc[:, 'arrival_time']\n",
    "max_index_for_display = main_dataset.index.max()\n",
    "for index, row  in tqdm(main_dataset.iterrows()):\n",
    "    orario_to_split = main_dataset.loc[index,\"orario\"].split(\":\")\n",
    "    if orario_to_split[1] >= \"30\":\n",
    "        orario_to_split[0]= str( int(orario_to_split[0]) + 1 )\n",
    "    main_dataset.loc[index,\"orario\"] = orario_to_split[0] + \":00\"\n",
    "    \n",
    "#Join on Weather\n",
    "main_dataset = pd.merge(main_dataset, weather, on=['data_giorno','orario','codice_stazione'])"
   ]
  },
  {
   "cell_type": "code",
   "execution_count": 15,
   "id": "5a46d3f1",
   "metadata": {},
   "outputs": [],
   "source": [
    "# Clean for memory\n",
    "del weather, delays"
   ]
  },
  {
   "cell_type": "code",
   "execution_count": 16,
   "id": "2a5ce9b4",
   "metadata": {},
   "outputs": [],
   "source": [
    "main_dataset = main_dataset.sort_values(['trip_id','data_giorno','stop_sequence'],ascending=True)\n"
   ]
  },
  {
   "cell_type": "code",
   "execution_count": 17,
   "id": "a70aff25",
   "metadata": {},
   "outputs": [],
   "source": [
    "main_dataset = main_dataset.loc[(main_dataset.trip_id != \"4118_296528\") & (main_dataset.trip_id != \"4118_296529\")]"
   ]
  },
  {
   "cell_type": "code",
   "execution_count": 18,
   "id": "6ec4e379",
   "metadata": {},
   "outputs": [
    {
     "data": {
      "text/html": [
       "<div>\n",
       "<style scoped>\n",
       "    .dataframe tbody tr th:only-of-type {\n",
       "        vertical-align: middle;\n",
       "    }\n",
       "\n",
       "    .dataframe tbody tr th {\n",
       "        vertical-align: top;\n",
       "    }\n",
       "\n",
       "    .dataframe thead th {\n",
       "        text-align: right;\n",
       "    }\n",
       "</style>\n",
       "<table border=\"1\" class=\"dataframe\">\n",
       "  <thead>\n",
       "    <tr style=\"text-align: right;\">\n",
       "      <th></th>\n",
       "      <th>trip_id</th>\n",
       "      <th>arrival_time</th>\n",
       "      <th>departure_time</th>\n",
       "      <th>codice_stazione</th>\n",
       "      <th>stop_sequence</th>\n",
       "      <th>shape_dist_traveled</th>\n",
       "      <th>codice</th>\n",
       "      <th>direction_id</th>\n",
       "      <th>data_giorno</th>\n",
       "      <th>stop_lat</th>\n",
       "      <th>...</th>\n",
       "      <th>rain</th>\n",
       "      <th>snow_fall</th>\n",
       "      <th>snow_depth</th>\n",
       "      <th>wmo_code</th>\n",
       "      <th>wind_speed_10m</th>\n",
       "      <th>wind_speed_100m</th>\n",
       "      <th>wind_dir_10m</th>\n",
       "      <th>wind_dir_100m</th>\n",
       "      <th>wind_gusts</th>\n",
       "      <th>soil_temperature</th>\n",
       "    </tr>\n",
       "  </thead>\n",
       "  <tbody>\n",
       "    <tr>\n",
       "      <th>6</th>\n",
       "      <td>4118_296532</td>\n",
       "      <td>15:52:00</td>\n",
       "      <td>15:52:00</td>\n",
       "      <td>S06404_1</td>\n",
       "      <td>1</td>\n",
       "      <td>0.00000</td>\n",
       "      <td>19210</td>\n",
       "      <td>0</td>\n",
       "      <td>20231106</td>\n",
       "      <td>43.837397</td>\n",
       "      <td>...</td>\n",
       "      <td>0.0</td>\n",
       "      <td>0.0</td>\n",
       "      <td>0.0</td>\n",
       "      <td>1</td>\n",
       "      <td>13.6</td>\n",
       "      <td>23.4</td>\n",
       "      <td>238</td>\n",
       "      <td>239</td>\n",
       "      <td>31.0</td>\n",
       "      <td>18.1</td>\n",
       "    </tr>\n",
       "    <tr>\n",
       "      <th>80</th>\n",
       "      <td>4118_296532</td>\n",
       "      <td>15:59:00</td>\n",
       "      <td>16:04:00</td>\n",
       "      <td>S06313_1</td>\n",
       "      <td>2</td>\n",
       "      <td>5.23393</td>\n",
       "      <td>19210</td>\n",
       "      <td>0</td>\n",
       "      <td>20231106</td>\n",
       "      <td>43.875088</td>\n",
       "      <td>...</td>\n",
       "      <td>0.0</td>\n",
       "      <td>0.0</td>\n",
       "      <td>0.0</td>\n",
       "      <td>1</td>\n",
       "      <td>8.3</td>\n",
       "      <td>16.9</td>\n",
       "      <td>252</td>\n",
       "      <td>254</td>\n",
       "      <td>27.7</td>\n",
       "      <td>17.4</td>\n",
       "    </tr>\n",
       "    <tr>\n",
       "      <th>88</th>\n",
       "      <td>4118_296532</td>\n",
       "      <td>16:08:00</td>\n",
       "      <td>16:09:00</td>\n",
       "      <td>S06312_1</td>\n",
       "      <td>3</td>\n",
       "      <td>9.08714</td>\n",
       "      <td>19210</td>\n",
       "      <td>0</td>\n",
       "      <td>20231106</td>\n",
       "      <td>43.908382</td>\n",
       "      <td>...</td>\n",
       "      <td>0.0</td>\n",
       "      <td>0.0</td>\n",
       "      <td>0.0</td>\n",
       "      <td>1</td>\n",
       "      <td>8.3</td>\n",
       "      <td>16.9</td>\n",
       "      <td>252</td>\n",
       "      <td>254</td>\n",
       "      <td>27.7</td>\n",
       "      <td>17.3</td>\n",
       "    </tr>\n",
       "    <tr>\n",
       "      <th>100</th>\n",
       "      <td>4118_296532</td>\n",
       "      <td>16:15:00</td>\n",
       "      <td>16:16:00</td>\n",
       "      <td>S06310_1</td>\n",
       "      <td>4</td>\n",
       "      <td>16.41975</td>\n",
       "      <td>19210</td>\n",
       "      <td>0</td>\n",
       "      <td>20231106</td>\n",
       "      <td>43.959490</td>\n",
       "      <td>...</td>\n",
       "      <td>0.0</td>\n",
       "      <td>0.0</td>\n",
       "      <td>0.0</td>\n",
       "      <td>1</td>\n",
       "      <td>7.3</td>\n",
       "      <td>14.1</td>\n",
       "      <td>259</td>\n",
       "      <td>255</td>\n",
       "      <td>23.4</td>\n",
       "      <td>16.8</td>\n",
       "    </tr>\n",
       "    <tr>\n",
       "      <th>110</th>\n",
       "      <td>4118_296532</td>\n",
       "      <td>16:20:00</td>\n",
       "      <td>16:21:00</td>\n",
       "      <td>S06309_1</td>\n",
       "      <td>5</td>\n",
       "      <td>19.92630</td>\n",
       "      <td>19210</td>\n",
       "      <td>0</td>\n",
       "      <td>20231106</td>\n",
       "      <td>43.977306</td>\n",
       "      <td>...</td>\n",
       "      <td>0.0</td>\n",
       "      <td>0.0</td>\n",
       "      <td>0.0</td>\n",
       "      <td>1</td>\n",
       "      <td>7.3</td>\n",
       "      <td>14.1</td>\n",
       "      <td>259</td>\n",
       "      <td>255</td>\n",
       "      <td>23.4</td>\n",
       "      <td>16.7</td>\n",
       "    </tr>\n",
       "    <tr>\n",
       "      <th>...</th>\n",
       "      <td>...</td>\n",
       "      <td>...</td>\n",
       "      <td>...</td>\n",
       "      <td>...</td>\n",
       "      <td>...</td>\n",
       "      <td>...</td>\n",
       "      <td>...</td>\n",
       "      <td>...</td>\n",
       "      <td>...</td>\n",
       "      <td>...</td>\n",
       "      <td>...</td>\n",
       "      <td>...</td>\n",
       "      <td>...</td>\n",
       "      <td>...</td>\n",
       "      <td>...</td>\n",
       "      <td>...</td>\n",
       "      <td>...</td>\n",
       "      <td>...</td>\n",
       "      <td>...</td>\n",
       "      <td>...</td>\n",
       "      <td>...</td>\n",
       "    </tr>\n",
       "    <tr>\n",
       "      <th>21</th>\n",
       "      <td>4118_296638</td>\n",
       "      <td>17:42:00</td>\n",
       "      <td>17:42:00</td>\n",
       "      <td>S06404_1</td>\n",
       "      <td>1</td>\n",
       "      <td>0.00000</td>\n",
       "      <td>18594</td>\n",
       "      <td>0</td>\n",
       "      <td>20231106</td>\n",
       "      <td>43.837397</td>\n",
       "      <td>...</td>\n",
       "      <td>0.0</td>\n",
       "      <td>0.0</td>\n",
       "      <td>0.0</td>\n",
       "      <td>1</td>\n",
       "      <td>9.6</td>\n",
       "      <td>22.5</td>\n",
       "      <td>250</td>\n",
       "      <td>248</td>\n",
       "      <td>19.4</td>\n",
       "      <td>16.7</td>\n",
       "    </tr>\n",
       "    <tr>\n",
       "      <th>171</th>\n",
       "      <td>4118_296638</td>\n",
       "      <td>17:48:00</td>\n",
       "      <td>17:49:00</td>\n",
       "      <td>S06402_1</td>\n",
       "      <td>2</td>\n",
       "      <td>8.01853</td>\n",
       "      <td>18594</td>\n",
       "      <td>0</td>\n",
       "      <td>20231106</td>\n",
       "      <td>43.821737</td>\n",
       "      <td>...</td>\n",
       "      <td>0.0</td>\n",
       "      <td>0.0</td>\n",
       "      <td>0.0</td>\n",
       "      <td>1</td>\n",
       "      <td>9.6</td>\n",
       "      <td>22.5</td>\n",
       "      <td>250</td>\n",
       "      <td>248</td>\n",
       "      <td>19.4</td>\n",
       "      <td>16.7</td>\n",
       "    </tr>\n",
       "    <tr>\n",
       "      <th>45</th>\n",
       "      <td>4118_296638</td>\n",
       "      <td>17:57:00</td>\n",
       "      <td>17:58:00</td>\n",
       "      <td>S06400_1</td>\n",
       "      <td>3</td>\n",
       "      <td>14.83468</td>\n",
       "      <td>18594</td>\n",
       "      <td>0</td>\n",
       "      <td>20231106</td>\n",
       "      <td>43.764855</td>\n",
       "      <td>...</td>\n",
       "      <td>0.0</td>\n",
       "      <td>0.0</td>\n",
       "      <td>0.0</td>\n",
       "      <td>1</td>\n",
       "      <td>7.0</td>\n",
       "      <td>20.2</td>\n",
       "      <td>258</td>\n",
       "      <td>254</td>\n",
       "      <td>23.8</td>\n",
       "      <td>16.9</td>\n",
       "    </tr>\n",
       "    <tr>\n",
       "      <th>52</th>\n",
       "      <td>4118_296638</td>\n",
       "      <td>18:07:00</td>\n",
       "      <td>18:08:00</td>\n",
       "      <td>S06501_1</td>\n",
       "      <td>4</td>\n",
       "      <td>20.90887</td>\n",
       "      <td>18594</td>\n",
       "      <td>0</td>\n",
       "      <td>20231106</td>\n",
       "      <td>43.723446</td>\n",
       "      <td>...</td>\n",
       "      <td>0.0</td>\n",
       "      <td>0.0</td>\n",
       "      <td>0.0</td>\n",
       "      <td>1</td>\n",
       "      <td>7.3</td>\n",
       "      <td>20.3</td>\n",
       "      <td>261</td>\n",
       "      <td>257</td>\n",
       "      <td>13.7</td>\n",
       "      <td>16.6</td>\n",
       "    </tr>\n",
       "    <tr>\n",
       "      <th>68</th>\n",
       "      <td>4118_296638</td>\n",
       "      <td>18:13:00</td>\n",
       "      <td>18:13:00</td>\n",
       "      <td>S06500_1</td>\n",
       "      <td>5</td>\n",
       "      <td>23.13283</td>\n",
       "      <td>18594</td>\n",
       "      <td>0</td>\n",
       "      <td>20231106</td>\n",
       "      <td>43.708231</td>\n",
       "      <td>...</td>\n",
       "      <td>0.0</td>\n",
       "      <td>0.0</td>\n",
       "      <td>0.0</td>\n",
       "      <td>1</td>\n",
       "      <td>7.3</td>\n",
       "      <td>20.3</td>\n",
       "      <td>261</td>\n",
       "      <td>257</td>\n",
       "      <td>13.7</td>\n",
       "      <td>16.6</td>\n",
       "    </tr>\n",
       "  </tbody>\n",
       "</table>\n",
       "<p>160 rows × 35 columns</p>\n",
       "</div>"
      ],
      "text/plain": [
       "         trip_id arrival_time departure_time codice_stazione  stop_sequence  \\\n",
       "6    4118_296532     15:52:00       15:52:00        S06404_1              1   \n",
       "80   4118_296532     15:59:00       16:04:00        S06313_1              2   \n",
       "88   4118_296532     16:08:00       16:09:00        S06312_1              3   \n",
       "100  4118_296532     16:15:00       16:16:00        S06310_1              4   \n",
       "110  4118_296532     16:20:00       16:21:00        S06309_1              5   \n",
       "..           ...          ...            ...             ...            ...   \n",
       "21   4118_296638     17:42:00       17:42:00        S06404_1              1   \n",
       "171  4118_296638     17:48:00       17:49:00        S06402_1              2   \n",
       "45   4118_296638     17:57:00       17:58:00        S06400_1              3   \n",
       "52   4118_296638     18:07:00       18:08:00        S06501_1              4   \n",
       "68   4118_296638     18:13:00       18:13:00        S06500_1              5   \n",
       "\n",
       "     shape_dist_traveled codice  direction_id data_giorno   stop_lat  ...  \\\n",
       "6                0.00000  19210             0    20231106  43.837397  ...   \n",
       "80               5.23393  19210             0    20231106  43.875088  ...   \n",
       "88               9.08714  19210             0    20231106  43.908382  ...   \n",
       "100             16.41975  19210             0    20231106  43.959490  ...   \n",
       "110             19.92630  19210             0    20231106  43.977306  ...   \n",
       "..                   ...    ...           ...         ...        ...  ...   \n",
       "21               0.00000  18594             0    20231106  43.837397  ...   \n",
       "171              8.01853  18594             0    20231106  43.821737  ...   \n",
       "45              14.83468  18594             0    20231106  43.764855  ...   \n",
       "52              20.90887  18594             0    20231106  43.723446  ...   \n",
       "68              23.13283  18594             0    20231106  43.708231  ...   \n",
       "\n",
       "     rain snow_fall snow_depth wmo_code wind_speed_10m wind_speed_100m  \\\n",
       "6     0.0       0.0        0.0        1           13.6            23.4   \n",
       "80    0.0       0.0        0.0        1            8.3            16.9   \n",
       "88    0.0       0.0        0.0        1            8.3            16.9   \n",
       "100   0.0       0.0        0.0        1            7.3            14.1   \n",
       "110   0.0       0.0        0.0        1            7.3            14.1   \n",
       "..    ...       ...        ...      ...            ...             ...   \n",
       "21    0.0       0.0        0.0        1            9.6            22.5   \n",
       "171   0.0       0.0        0.0        1            9.6            22.5   \n",
       "45    0.0       0.0        0.0        1            7.0            20.2   \n",
       "52    0.0       0.0        0.0        1            7.3            20.3   \n",
       "68    0.0       0.0        0.0        1            7.3            20.3   \n",
       "\n",
       "    wind_dir_10m wind_dir_100m wind_gusts  soil_temperature  \n",
       "6            238           239       31.0              18.1  \n",
       "80           252           254       27.7              17.4  \n",
       "88           252           254       27.7              17.3  \n",
       "100          259           255       23.4              16.8  \n",
       "110          259           255       23.4              16.7  \n",
       "..           ...           ...        ...               ...  \n",
       "21           250           248       19.4              16.7  \n",
       "171          250           248       19.4              16.7  \n",
       "45           258           254       23.8              16.9  \n",
       "52           261           257       13.7              16.6  \n",
       "68           261           257       13.7              16.6  \n",
       "\n",
       "[160 rows x 35 columns]"
      ]
     },
     "execution_count": 18,
     "metadata": {},
     "output_type": "execute_result"
    }
   ],
   "source": [
    "main_dataset"
   ]
  },
  {
   "cell_type": "code",
   "execution_count": 19,
   "id": "79d6fb28",
   "metadata": {
    "scrolled": true
   },
   "outputs": [
    {
     "name": "stderr",
     "output_type": "stream",
     "text": [
      "160it [00:00, 1048.66it/s]\n"
     ]
    }
   ],
   "source": [
    "#Sort Dataset\n",
    "main_dataset = main_dataset.sort_values(['trip_id','data_giorno','stop_sequence'],ascending=True)\n",
    "main_dataset = main_dataset.reset_index(drop=True)\n",
    "\n",
    "# We create an empty column for time different, speed, distance \n",
    "main_dataset = main_dataset.assign(temperature_linea=None)\n",
    "main_dataset = main_dataset.assign(app_temp_linea=None)\n",
    "main_dataset = main_dataset.assign(rain_linea=None)\n",
    "main_dataset = main_dataset.assign(snow_fall_linea=None)\n",
    "main_dataset = main_dataset.assign(snow_depth_linea=None)\n",
    "main_dataset = main_dataset.assign(humidity_linea=None)\n",
    "main_dataset = main_dataset.assign(precipitation_linea=None)\n",
    "main_dataset = main_dataset.assign(wmo_code_linea=None)\n",
    "main_dataset = main_dataset.assign(wind_speed_10m_linea=None)\n",
    "main_dataset = main_dataset.assign(wind_speed_100m_linea=None)\n",
    "main_dataset = main_dataset.assign(wind_dir_10m_linea=None)\n",
    "main_dataset = main_dataset.assign(wind_dir_100m_linea=None)\n",
    "main_dataset = main_dataset.assign(wind_gusts_linea=None)\n",
    "main_dataset = main_dataset.assign(soil_temperature_linea=None)\n",
    "\n",
    "max_index_for_display = main_dataset.index.max()\n",
    "\n",
    "for index, row  in tqdm(main_dataset.iterrows()):\n",
    "    if row['stop_sequence'] == 1:\n",
    "        main_dataset['temperature_linea'][index] = row['temperature']\n",
    "        main_dataset['app_temp_linea'][index] = row['app_temp']\n",
    "        main_dataset['rain_linea'][index] = row['rain']\n",
    "        main_dataset['snow_fall_linea'][index] = row['snow_fall']\n",
    "        main_dataset['snow_depth_linea'][index] = row['snow_depth']\n",
    "        main_dataset['humidity_linea'][index] = row['humidity']\n",
    "        main_dataset['precipitation_linea'][index] = row['precipitation']\n",
    "        main_dataset['wind_speed_10m_linea'][index] = row['wind_speed_10m']\n",
    "        main_dataset['wind_speed_100m_linea'][index] = row['wind_speed_100m']\n",
    "        main_dataset['wind_dir_10m_linea'][index] = row['wind_dir_10m']\n",
    "        main_dataset['wind_dir_100m_linea'][index] = row['wind_dir_100m']\n",
    "        main_dataset['wmo_code_linea'][index] = row['wmo_code']\n",
    "        main_dataset['wind_gusts_linea'][index] = row['wind_gusts']\n",
    "        main_dataset['soil_temperature_linea'][index] = row['soil_temperature']\n",
    "    else:\n",
    "        main_dataset['temperature_linea'][index] = ((row['temperature'] + main_dataset.loc[index - 1,'temperature']) / 2) \n",
    "        main_dataset['app_temp_linea'][index] = ((row['app_temp'] + main_dataset.loc[index - 1,'app_temp']) / 2) \n",
    "        main_dataset['rain_linea'][index] = ((row['rain'] + main_dataset.loc[index - 1,'rain']) / 2) \n",
    "        main_dataset['snow_fall_linea'][index] = ((row['snow_fall'] + main_dataset.loc[index - 1,'snow_fall']) / 2) \n",
    "        main_dataset['snow_depth_linea'][index] = ((row['snow_depth'] + main_dataset.loc[index - 1,'snow_depth']) / 2) \n",
    "        main_dataset['precipitation_linea'][index] = ((row['precipitation'] + main_dataset.loc[index - 1,'precipitation']) / 2) \n",
    "        main_dataset['humidity_linea'][index] = ((row['humidity'] + main_dataset.loc[index - 1,'humidity']) / 2)\n",
    "        main_dataset['wind_speed_10m_linea'][index] = ((row['wind_speed_10m'] + main_dataset.loc[index - 1,'wind_speed_10m']) / 2) \n",
    "        main_dataset['wind_speed_100m_linea'][index] =((row['wind_speed_100m'] + main_dataset.loc[index - 1,'wind_speed_100m']) / 2)  \n",
    "        main_dataset['wind_dir_10m_linea'][index] = ((row['wind_dir_10m'] + main_dataset.loc[index - 1,'wind_dir_10m']) / 2) \n",
    "        main_dataset['wind_dir_100m_linea'][index] = ((row['wind_dir_100m'] + main_dataset.loc[index - 1,'wind_dir_100m']) / 2)\n",
    "        main_dataset['wmo_code_linea'][index] = ((row['wmo_code'] + main_dataset.loc[index - 1,'wmo_code']) / 2) \n",
    "        main_dataset['wind_gusts_linea'][index] = ((row['wind_gusts'] + main_dataset.loc[index - 1,'wind_gusts']) / 2) \n",
    "        main_dataset['soil_temperature_linea'][index] = ((row['soil_temperature'] + main_dataset.loc[index - 1,'soil_temperature']) / 2)"
   ]
  },
  {
   "cell_type": "code",
   "execution_count": 20,
   "id": "5a0b4285",
   "metadata": {
    "scrolled": false
   },
   "outputs": [
    {
     "name": "stderr",
     "output_type": "stream",
     "text": [
      "160it [00:00, 34952.53it/s]\n",
      "160it [00:00, 6848.68it/s]\n"
     ]
    }
   ],
   "source": [
    "# Drop Duplicates\n",
    "row_to_delete =[]  \n",
    "# Change orario realtime arrivo stazione 1 (non c'è to = arrivo_schedulato)\n",
    "for index, row  in tqdm(main_dataset.iterrows()):\n",
    "    # X nessun ritardo, N significa che non riparte perché era l'ultima destinazione oppure quella di partenza\n",
    "    if((row['ritardo_arrivo'] == 'X') |( row['ritardo_arrivo'] == 'N')):\n",
    "        main_dataset.loc[index,\"ritardo_arrivo\"] = '0'\n",
    "    if((row['ritardo_partenza'] == 'X' )| (row['ritardo_partenza'] == 'N')):\n",
    "        main_dataset.loc[index,\"ritardo_partenza\"] = '0'\n",
    "    if((row['ritardo_arrivo'] == 'S') | (row['ritardo_arrivo'] == 'n.d.')):\n",
    "        row_to_delete.append(index)\n",
    "    if((row['ritardo_partenza'] == 'S') | (row['ritardo_partenza'] == 'n.d.')):\n",
    "        row_to_delete.append(index)\n",
    "\n",
    "row_to_delete = list(dict.fromkeys(row_to_delete))\n",
    "main_dataset = main_dataset[~main_dataset.index.isin(row_to_delete)]\n",
    "main_dataset.reset_index(drop=True)\n",
    "\n",
    "main_dataset[\"ritardo_partenza\"] = main_dataset[\"ritardo_partenza\"].astype(int)\n",
    "main_dataset[\"ritardo_arrivo\"] = main_dataset[\"ritardo_arrivo\"].astype(int)\n",
    "max_index_for_display = main_dataset.index.max()\n",
    "\n",
    "for index, row  in tqdm(main_dataset.iterrows()):\n",
    "    main_dataset.loc[index,'arrival_time'] = row['arrival_time'].replace(':','')\n",
    "    main_dataset.loc[index,'departure_time'] = row['departure_time'].replace(':','')\n",
    "    main_dataset.loc[index,'stop_code'] = row['stop_code'].replace('S','')\n",
    "    main_dataset.loc[index,'time_diff'] = 0\n",
    "    main_dataset.loc[index,'dist_diff'] = 0\n",
    "    main_dataset.loc[index,'speed'] = 0\n",
    "    \n",
    "    if row['ritardo_arrivo'] < 0:\n",
    "        main_dataset.loc[index,'ritardo_arrivo'] = 0\n",
    "    if row['ritardo_partenza'] < 0:\n",
    "        main_dataset.loc[index,'ritardo_partenza'] = 0\n"
   ]
  },
  {
   "cell_type": "code",
   "execution_count": 21,
   "id": "f0712160",
   "metadata": {},
   "outputs": [],
   "source": [
    "df_linea =  pd.DataFrame(columns=['trip_id','arrival_time','departure_time','codice_stazione_p',\n",
    "                                  'codice_stazione_a','indice_tratta','shape_dist_traveled',\n",
    "                                  'time_diff','speed','dist_diff','codice','direction_id','data_giorno',\n",
    "                                  'stop_code_p','stop_code_a','ritardo_partenza','ritardo_arrivo',\n",
    "                                  'temperature_linea','app_temp_linea','rain_linea','snow_fall_linea','snow_depth_linea','humidity_linea',\n",
    "                                  'precipitation_linea','wmo_code_linea','wind_speed_10m_linea','wind_speed_100m_linea',\n",
    "                                  'wind_dir_10m_linea','wind_dir_100m_linea','wind_gusts_linea','soil_temperature_linea'])"
   ]
  },
  {
   "cell_type": "code",
   "execution_count": 22,
   "id": "c8174b23",
   "metadata": {},
   "outputs": [
    {
     "name": "stderr",
     "output_type": "stream",
     "text": [
      "160it [00:00, 1284.45it/s]\n"
     ]
    }
   ],
   "source": [
    "# Calculating Distance, Time and avg Speed between last stop and current stop\n",
    "max_val = main_dataset.index.max()\n",
    "for index, row  in tqdm(main_dataset.iterrows()):\n",
    "    if(index < max_val):\n",
    "        next_row = main_dataset.iloc[[index+1]]\n",
    "        check1 = (next_row['trip_id'] == row['trip_id']).bool()\n",
    "        check2 = (next_row['data_giorno'] == row['data_giorno']).bool()\n",
    "        if(check1 & check2):\n",
    "            row_to_concat = {'trip_id': row['trip_id'],\n",
    "                             'departure_time':row['departure_time'],\n",
    "                             'arrival_time':next_row['arrival_time'].values,\n",
    "                             'codice_stazione_p':row['codice_stazione'],\n",
    "                             'codice_stazione_a': next_row['codice_stazione'].values[0],\n",
    "                             'indice_tratta':row['stop_sequence'],\n",
    "                             'shape_dist_traveled':next_row['shape_dist_traveled'].values,\n",
    "                             'time_diff':next_row['time_diff'].values,\n",
    "                             'speed':next_row['speed'].values,\n",
    "                             'dist_diff':next_row['dist_diff'].values,\n",
    "                             'codice':row['codice'],\n",
    "                             'direction_id':row['direction_id'],\n",
    "                             'data_giorno':row['data_giorno'],\n",
    "                             'stop_code_p':row['stop_code'],\n",
    "                             'stop_code_a':next_row['stop_code'].values[0],\n",
    "                             'ritardo_partenza':row['ritardo_partenza'],\n",
    "                             'ritardo_arrivo':next_row['ritardo_arrivo'].values,\n",
    "                             'temperature_linea':next_row['temperature_linea'].values,\n",
    "                             'app_temp_linea':next_row['app_temp_linea'].values,\n",
    "                             'rain_linea':next_row['rain_linea'].values,\n",
    "                             'snow_fall_linea':next_row['snow_fall_linea'].values,\n",
    "                             'snow_depth_linea':next_row['snow_depth_linea'].values,\n",
    "                             'humidity_linea':next_row['humidity_linea'].values,\n",
    "                             'precipitation_linea':next_row['precipitation_linea'].values,\n",
    "                             'wmo_code_linea':next_row['wmo_code_linea'].values,\n",
    "                             'wind_speed_10m_linea':next_row['wind_speed_10m_linea'].values,\n",
    "                             'wind_speed_100m_linea':next_row['wind_speed_100m_linea'].values,\n",
    "                             'wind_dir_10m_linea':next_row['wind_dir_10m_linea'].values,\n",
    "                             'wind_dir_100m_linea':next_row['wind_dir_100m_linea'].values,\n",
    "                             'wind_gusts_linea': next_row['wind_gusts_linea'].values,\n",
    "                             'soil_temperature_linea':next_row['soil_temperature_linea'].values\n",
    "                        }    \n",
    "            df_linea = pd.concat([df_linea, pd.DataFrame([row_to_concat])], ignore_index=True)"
   ]
  },
  {
   "cell_type": "code",
   "execution_count": 23,
   "id": "48a5bc6b",
   "metadata": {},
   "outputs": [],
   "source": [
    "df_linea['arrival_time'] = df_linea['arrival_time'].astype(int)\n",
    "#df_linea['codice_stazione_a'] = \n",
    "df_linea['shape_dist_traveled'] = df_linea['shape_dist_traveled'].astype(float)\n",
    "df_linea['time_diff'] = df_linea['time_diff'].astype(float)\n",
    "df_linea['speed'] = df_linea['speed'].astype(float)\n",
    "df_linea['dist_diff'] = df_linea['dist_diff'].astype(float)\n",
    "#df_linea['stop_code_a'] = df_linea['stop_code_a'].transform(lambda x: ','.join(x))\n",
    "df_linea['ritardo_arrivo'] = df_linea['ritardo_arrivo'].astype(int)\n",
    "df_linea['temperature_linea'] = df_linea['temperature_linea'].astype(float)\n",
    "df_linea['app_temp_linea'] = df_linea['app_temp_linea'].astype(float)\n",
    "df_linea['rain_linea'] = df_linea['rain_linea'].astype(float)\n",
    "df_linea['snow_fall_linea'] = df_linea['snow_fall_linea'].astype(float)\n",
    "df_linea['snow_depth_linea'] = df_linea['snow_depth_linea'].astype(float)\n",
    "df_linea['humidity_linea'] = df_linea['humidity_linea'].astype(float)\n",
    "df_linea['precipitation_linea'] = df_linea['precipitation_linea'].astype(float)\n",
    "df_linea['wmo_code_linea'] = df_linea['wmo_code_linea'].astype(float)\n",
    "df_linea['wind_speed_10m_linea'] = df_linea['wind_speed_10m_linea'].astype(float)\n",
    "df_linea['wind_speed_100m_linea'] = df_linea['wind_speed_100m_linea'].astype(float)\n",
    "df_linea['wind_dir_10m_linea'] = df_linea['wind_dir_10m_linea'].astype(float)\n",
    "df_linea['wind_dir_100m_linea'] = df_linea['wind_dir_100m_linea'].astype(float)\n",
    "df_linea['wind_gusts_linea'] = df_linea['wind_gusts_linea'].astype(float)\n",
    "df_linea['soil_temperature_linea'] = df_linea['soil_temperature_linea'].astype(float)\n",
    "df_linea['departure_time'] = df_linea['departure_time'].astype(int)\n",
    "df_linea['indice_tratta'] = df_linea['indice_tratta'].astype(int)\n",
    "df_linea['codice'] = df_linea['codice'].astype(int)\n",
    "df_linea['direction_id'] = df_linea['direction_id'].astype(int)\n",
    "df_linea['data_giorno'] = df_linea['data_giorno'].astype(int)\n",
    "df_linea['stop_code_a'] = df_linea['stop_code_a'].astype(int)\n",
    "df_linea['stop_code_p'] = df_linea['stop_code_p'].astype(int)\n",
    "df_linea['ritardo_partenza'] = df_linea['ritardo_partenza'].astype(int)\n",
    "df_linea['ritardo_arrivo'] = df_linea['ritardo_arrivo'].astype(int)\n",
    "df_linea['wind_dir_10m_linea'] = df_linea['wind_dir_10m_linea'].astype(int)"
   ]
  },
  {
   "cell_type": "code",
   "execution_count": 24,
   "id": "7477445a",
   "metadata": {},
   "outputs": [],
   "source": [
    "del main_dataset"
   ]
  },
  {
   "cell_type": "code",
   "execution_count": 25,
   "id": "b799c628",
   "metadata": {},
   "outputs": [],
   "source": [
    "df_linea = df_linea.reset_index(drop=True)\n",
    "main_dataset = df_linea.copy()\n",
    "main_dataset = main_dataset.assign(isArrivoRitardo=0)\n",
    "main_dataset = main_dataset.assign(isPartenzaRitardo=0)\n",
    "for index,row in main_dataset.iterrows():\n",
    "    if ((row['ritardo_partenza'] >= 1)):\n",
    "        main_dataset.loc[index,'isPartenzaRitardo'] = 1\n",
    "    if ((row['ritardo_arrivo'] >= 1)):\n",
    "        main_dataset.loc[index,'isArrivoRitardo'] = 1\n",
    "del df_linea"
   ]
  },
  {
   "cell_type": "markdown",
   "id": "242e5157",
   "metadata": {},
   "source": [
    "### Matrix 28x28"
   ]
  },
  {
   "cell_type": "code",
   "execution_count": 26,
   "id": "a5de93d2",
   "metadata": {},
   "outputs": [],
   "source": [
    "#Load tables\n",
    "distance = pd.read_csv('../csv/distance_matrix.csv',index_col=[0])\n",
    "time =  pd.read_csv('../csv/time_matrix.csv',index_col=[0])\n",
    "speed = pd.read_csv('../csv/speed_matrix.csv',index_col=[0]) "
   ]
  },
  {
   "cell_type": "code",
   "execution_count": 27,
   "id": "a9f5cb34",
   "metadata": {},
   "outputs": [],
   "source": [
    "for index,row in main_dataset.iterrows():\n",
    "    main_dataset.loc[index,'dist_diff'] = distance.loc[row['codice_stazione_p']][row['codice_stazione_a']]\n",
    "    main_dataset.loc[index,'time_diff'] = time.loc[row['codice_stazione_p']][row['codice_stazione_a']]\n",
    "    main_dataset.loc[index,'speed'] = speed.loc[row['codice_stazione_p']][row['codice_stazione_a']]\n",
    "del distance,time,speed"
   ]
  },
  {
   "cell_type": "code",
   "execution_count": 28,
   "id": "d4f791eb",
   "metadata": {},
   "outputs": [],
   "source": [
    "main_dataset = main_dataset.round({'speed':0,'temperature_linea':0,'wind_dir_10m_linea':0,'soil_temperature_linea':0 ,\n",
    "                                  'wind_gusts_linea':0, 'wind_dir_100m_linea':0 ,'wind_speed_100m_linea':0,\n",
    "                                  'wind_speed_10m_linea':0, 'wmo_code_linea':0 , 'humidity_linea':0}) \n",
    "\n",
    "labelEncoder = LabelEncoder()\n",
    "main_dataset[\"trip_id\"] = labelEncoder.fit_transform(main_dataset[\"trip_id\"])\n",
    "main_dataset = main_dataset.drop(['codice_stazione_p','codice_stazione_a'], axis=1)\n",
    "main_dataset[\"isArrivoRitardo\"] = main_dataset[\"isArrivoRitardo\"].astype(float)\n",
    "main_dataset[\"isPartenzaRitardo\"] = main_dataset[\"isPartenzaRitardo\"].astype(float)\n",
    "\n",
    "trip_ids = set(main_dataset.trip_id)\n",
    "mdf_copy = main_dataset.copy()\n",
    "main_dataset = main_dataset.assign(classification_prevision_on_row=0)\n",
    "main_dataset = main_dataset.assign(regression_prevision_on_row=0)\n",
    "main_dataset = main_dataset.assign(classification_prevision_on_train=0)\n",
    "main_dataset = main_dataset.assign(regression_prevision_on_train=0)"
   ]
  },
  {
   "cell_type": "code",
   "execution_count": 29,
   "id": "a6351b8f",
   "metadata": {},
   "outputs": [],
   "source": [
    "mdf_copy.to_csv(\"mdf.csv\")"
   ]
  },
  {
   "cell_type": "code",
   "execution_count": 30,
   "id": "14d50547",
   "metadata": {},
   "outputs": [],
   "source": [
    "classificator =  joblib.load(\"./models/under_sampling/RandomForestClassifier.joblib\")\n",
    "regressor = joblib.load(\"./models/regressions/RandomForestRegressor.joblib\")"
   ]
  },
  {
   "cell_type": "markdown",
   "id": "98e74b2d",
   "metadata": {},
   "source": [
    "### Classifing and Predict each line of each trip"
   ]
  },
  {
   "cell_type": "code",
   "execution_count": 31,
   "id": "f0b197f7",
   "metadata": {},
   "outputs": [],
   "source": [
    "X = mdf_copy.drop(['isArrivoRitardo','ritardo_arrivo'], axis=1)\n"
   ]
  },
  {
   "cell_type": "code",
   "execution_count": 32,
   "id": "bbf14af2",
   "metadata": {},
   "outputs": [],
   "source": [
    "for i in trip_ids:\n",
    "    df = X.loc[(X.trip_id == i)]\n",
    "    df.reset_index(drop=True)\n",
    "    if(not df.empty):\n",
    "        for index, row in df.iterrows():\n",
    "                #Classification i < max index\n",
    "                value = classificator.predict([row.values])\n",
    "                main_dataset.loc[(main_dataset.trip_id == i) & \n",
    "                                 (main_dataset.indice_tratta == row['indice_tratta']),\n",
    "                        'classification_prevision_on_row'] = value\n",
    "                \n",
    "                df.loc[(df.trip_id == i) & (df.indice_tratta == row['indice_tratta']),\n",
    "                        'isArrivoRitardo'] = value\n",
    "                \n",
    "                #Regression i < max index\n",
    "                temp = df.loc[index:index].copy()\n",
    "                temp.drop(columns=[\"trip_id\",\"indice_tratta\",\"codice\",\"data_giorno\"\n",
    "                                         ], inplace=True)\n",
    "                \n",
    "                if(value > 0 ):\n",
    "                    rit_val = regressor.predict(temp.values)\n",
    "                    main_dataset.loc[(main_dataset.trip_id == i) & (main_dataset.indice_tratta == row['indice_tratta']),\n",
    "                                    'regression_prevision_on_row'] = rit_val\n",
    "                    #df.loc[index+1,'ritardo_partenza'] = rit_val\n",
    "                    df = df.drop(['isArrivoRitardo'], axis=1)\n",
    "    else:\n",
    "        main_dataset = main_dataset.loc[(main_dataset.trip_id != i)]"
   ]
  },
  {
   "cell_type": "code",
   "execution_count": 33,
   "id": "e99dcb37",
   "metadata": {},
   "outputs": [],
   "source": [
    "del row,df,X,temp"
   ]
  },
  {
   "cell_type": "markdown",
   "id": "25401ee0",
   "metadata": {},
   "source": [
    "# Result"
   ]
  },
  {
   "cell_type": "code",
   "execution_count": 34,
   "id": "3d104545",
   "metadata": {},
   "outputs": [],
   "source": [
    "result= main_dataset.copy()"
   ]
  },
  {
   "cell_type": "code",
   "execution_count": 35,
   "id": "e65806bd",
   "metadata": {},
   "outputs": [],
   "source": [
    "result.drop(columns=[\"arrival_time\",\"departure_time\",\"shape_dist_traveled\",\"time_diff\",\n",
    "                     \"speed\",\"dist_diff\",\"codice\",\"direction_id\",\"data_giorno\",\n",
    "                     \"temperature_linea\",\"app_temp_linea\",\"rain_linea\",\"snow_fall_linea\",\"snow_depth_linea\",\"humidity_linea\",\n",
    "                     \"precipitation_linea\",\"wmo_code_linea\",\"wind_speed_10m_linea\",\"wind_speed_100m_linea\",\n",
    "                     \"wind_dir_10m_linea\",\"wind_dir_100m_linea\",\n",
    "                     \"wind_gusts_linea\",\"soil_temperature_linea\"\n",
    "                                         ], inplace=True)"
   ]
  },
  {
   "cell_type": "markdown",
   "id": "0cfc7f64",
   "metadata": {},
   "source": [
    "result['regression_prevision_on_row'] = round(result.regression_prevision_on_row,0)"
   ]
  },
  {
   "cell_type": "markdown",
   "id": "9c9bba92",
   "metadata": {},
   "source": [
    "result[\"regression_prevision_on_row\"] = result[\"regression_prevision_on_row\"].astype(int)\n",
    "\n",
    "result[\"isPartenzaRitardo\"] = result[\"isPartenzaRitardo\"].astype(bool)\n",
    "result[\"isArrivoRitardo\"] = result[\"isArrivoRitardo\"].astype(bool)\n",
    "result[\"classification_prevision_on_row\"] = result[\"classification_prevision_on_row\"].astype(bool)\n"
   ]
  },
  {
   "cell_type": "code",
   "execution_count": 36,
   "id": "90868df0",
   "metadata": {},
   "outputs": [],
   "source": [
    "result.to_csv(\"result.csv\")"
   ]
  },
  {
   "cell_type": "code",
   "execution_count": 37,
   "id": "50655800",
   "metadata": {},
   "outputs": [
    {
     "name": "stdout",
     "output_type": "stream",
     "text": [
      "              precision    recall  f1-score   support\n",
      "\n",
      "         0.0       0.66      0.78      0.71        40\n",
      "         1.0       0.90      0.83      0.86        94\n",
      "\n",
      "    accuracy                           0.81       134\n",
      "   macro avg       0.78      0.80      0.79       134\n",
      "weighted avg       0.83      0.81      0.82       134\n",
      "\n"
     ]
    }
   ],
   "source": [
    "actual = result.isArrivoRitardo.values\n",
    "predicted = result.classification_prevision_on_row.values\n",
    "print(classification_report(actual, predicted))                                                     "
   ]
  },
  {
   "cell_type": "code",
   "execution_count": 38,
   "id": "df5c76ee",
   "metadata": {
    "scrolled": false
   },
   "outputs": [
    {
     "name": "stdout",
     "output_type": "stream",
     "text": [
      "Mean absolute error : 0.5935820895522388\n",
      "Mean squared error : 2.2470988505747123\n",
      "Root mean squared error : 1.4990326382619934\n"
     ]
    }
   ],
   "source": [
    "n = len(result)\n",
    "total_for_mae = 0\n",
    "total_for_mse = []\n",
    "\n",
    "# for loop for iteration \n",
    "for i in range(n): \n",
    "    if(result.loc[i, 'classification_prevision_on_row'] == 1): \n",
    "        value = result.loc[i,'ritardo_arrivo'] - result.loc[i,'regression_prevision_on_row']\n",
    "        total_for_mae += abs(value)\n",
    "        total_for_mse.append(value)\n",
    "\n",
    "df = result.loc[(result['classification_prevision_on_row'] == 1)]\n",
    "actual = df.ritardo_arrivo.values\n",
    "predicted = df.regression_prevision_on_row.values\n",
    "\n",
    "\n",
    "mae = total_for_mae/n \n",
    "mse = np.square(total_for_mse).mean()\n",
    "rmse = sqrt(mse)\n",
    "\n",
    "# display \n",
    "print(\"Mean absolute error : \" + str(mae)) \n",
    "print(\"Mean squared error : \" + str(mse))\n",
    "print(\"Root mean squared error : \" + str(rmse))\n",
    "\n",
    "#del df,actual,predicted\n"
   ]
  },
  {
   "cell_type": "code",
   "execution_count": 39,
   "id": "13324f5c",
   "metadata": {},
   "outputs": [],
   "source": [
    "width = 12\n",
    "height = 10"
   ]
  },
  {
   "cell_type": "code",
   "execution_count": 40,
   "id": "79f59043",
   "metadata": {},
   "outputs": [
    {
     "data": {
      "image/png": "[encoded data removed]",
      "text/plain": [
       "<Figure size 640x480 with 1 Axes>"
      ]
     },
     "metadata": {},
     "output_type": "display_data"
    }
   ],
   "source": [
    "fig, ax = plt.subplots()\n",
    "ax.scatter(actual, predicted, edgecolors=(0, 0, 0))\n",
    "ax.plot([actual.min(), actual.max()], [actual.min(), actual.max()], 'k--', lw=1)\n",
    "ax.set_xlabel('Measured')\n",
    "ax.set_ylabel('Predicted')\n",
    "plt.show()\n"
   ]
  },
  {
   "cell_type": "code",
   "execution_count": 41,
   "id": "69b45cc4",
   "metadata": {},
   "outputs": [
    {
     "name": "stderr",
     "output_type": "stream",
     "text": [
      "/var/folders/zt/4qm_9p2d267_7b0p2r1hsg840000gn/T/ipykernel_12902/797627122.py:4: UserWarning: \n",
      "\n",
      "`distplot` is a deprecated function and will be removed in seaborn v0.14.0.\n",
      "\n",
      "Please adapt your code to use either `displot` (a figure-level function with\n",
      "similar flexibility) or `kdeplot` (an axes-level function for kernel density plots).\n",
      "\n",
      "For a guide to updating your code to use the new functions, please see\n",
      "https://gist.github.com/mwaskom/de44147ed2974457ad6372750bbe5751\n",
      "\n",
      "  ax1 = sns.distplot(actual, hist=False, color=\"r\", label=\"Actual Value\")\n",
      "/var/folders/zt/4qm_9p2d267_7b0p2r1hsg840000gn/T/ipykernel_12902/797627122.py:5: UserWarning: \n",
      "\n",
      "`distplot` is a deprecated function and will be removed in seaborn v0.14.0.\n",
      "\n",
      "Please adapt your code to use either `displot` (a figure-level function with\n",
      "similar flexibility) or `kdeplot` (an axes-level function for kernel density plots).\n",
      "\n",
      "For a guide to updating your code to use the new functions, please see\n",
      "https://gist.github.com/mwaskom/de44147ed2974457ad6372750bbe5751\n",
      "\n",
      "  sns.distplot(predicted, hist=False, color=\"b\", label=\"Fitted Values\" , ax=ax1)\n"
     ]
    },
    {
     "data": {
      "image/png": "[encoded data removed]",
      "text/plain": [
       "<Figure size 1200x1000 with 1 Axes>"
      ]
     },
     "metadata": {},
     "output_type": "display_data"
    }
   ],
   "source": [
    "plt.figure(figsize=(width, height))\n",
    "\n",
    "\n",
    "ax1 = sns.distplot(actual, hist=False, color=\"r\", label=\"Actual Value\")\n",
    "sns.distplot(predicted, hist=False, color=\"b\", label=\"Fitted Values\" , ax=ax1)\n",
    "ax1.legend(loc='upper left', ncols=2)\n",
    "\n",
    "\n",
    "plt.title('Actual vs Predicted')\n",
    "plt.xlabel('Actual Value')\n",
    "plt.ylabel('Predicted Values')\n",
    "\n",
    "plt.show()\n",
    "plt.close()"
   ]
  },
  {
   "cell_type": "code",
   "execution_count": 42,
   "id": "797d97cb",
   "metadata": {},
   "outputs": [
    {
     "data": {
      "image/png": "[encoded data removed]",
      "text/plain": [
       "<Figure size 640x480 with 1 Axes>"
      ]
     },
     "metadata": {},
     "output_type": "display_data"
    }
   ],
   "source": [
    "from scipy.stats import gaussian_kde\n",
    "# Calculate the point density\n",
    "xy = np.vstack([actual,predicted])\n",
    "z = gaussian_kde(xy)(xy)\n",
    "\n",
    "# Sort the points by density, so that the densest points are plotted last\n",
    "idx = z.argsort()\n",
    "x, y, z = actual[idx], predicted[idx], z[idx]\n",
    "\n",
    "fig, ax = plt.subplots()\n",
    "ax.scatter(x, y, c=z, s=50)\n",
    "\n",
    "plt.show()\n"
   ]
  },
  {
   "cell_type": "code",
   "execution_count": 43,
   "id": "a2f83eba",
   "metadata": {},
   "outputs": [
    {
     "data": {
      "image/png": "[encoded data removed]",
      "text/plain": [
       "<Figure size 640x480 with 1 Axes>"
      ]
     },
     "metadata": {},
     "output_type": "display_data"
    }
   ],
   "source": [
    "sns.regplot(x=\"ritardo_arrivo\", y=\"regression_prevision_on_row\", data=result);\n"
   ]
  },
  {
   "cell_type": "code",
   "execution_count": null,
   "id": "4c62e07e",
   "metadata": {},
   "outputs": [],
   "source": []
  }
 ],
 "metadata": {
  "kernelspec": {
   "display_name": "Python 3 (ipykernel)",
   "language": "python",
   "name": "python3"
  },
  "language_info": {
   "codemirror_mode": {
    "name": "ipython",
    "version": 3
   },
   "file_extension": ".py",
   "mimetype": "text/x-python",
   "name": "python",
   "nbconvert_exporter": "python",
   "pygments_lexer": "ipython3",
   "version": "3.11.5"
  }
 },
 "nbformat": 4,
 "nbformat_minor": 5
}
