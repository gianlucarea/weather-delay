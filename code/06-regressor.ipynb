{
 "cells": [
  {
   "cell_type": "markdown",
   "id": "b9db4684",
   "metadata": {},
   "source": [
    "# Import"
   ]
  },
  {
   "cell_type": "code",
   "execution_count": 17,
   "id": "c5c48cbe",
   "metadata": {},
   "outputs": [],
   "source": [
    "import pandas as pd\n",
    "import numpy as np\n",
    "import matplotlib.pyplot as plt\n",
    "import joblib\n",
    "import helper\n",
    "\n",
    "from sklearn.model_selection import train_test_split\n",
    "from sklearn.linear_model import LinearRegression\n",
    "from sklearn.tree import DecisionTreeRegressor\n",
    "from sklearn.ensemble import RandomForestRegressor\n",
    "from sklearn.ensemble import ExtraTreesRegressor\n",
    "from sklearn.ensemble import GradientBoostingRegressor\n",
    "from sklearn.ensemble import BaggingRegressor\n",
    "from sklearn.ensemble import AdaBoostRegressor"
   ]
  },
  {
   "cell_type": "markdown",
   "id": "832130f7",
   "metadata": {},
   "source": [
    "# Load Dataset"
   ]
  },
  {
   "cell_type": "code",
   "execution_count": 18,
   "id": "866918d7",
   "metadata": {},
   "outputs": [],
   "source": [
    "df_regression = pd.read_csv(\"../processed_files/df_for_ml.csv\", index_col=[0])"
   ]
  },
  {
   "cell_type": "code",
   "execution_count": 19,
   "id": "45be5d01",
   "metadata": {},
   "outputs": [
    {
     "name": "stdout",
     "output_type": "stream",
     "text": [
      "<class 'pandas.core.frame.DataFrame'>\n",
      "Index: 250637 entries, 0 to 250636\n",
      "Data columns (total 31 columns):\n",
      " #   Column                 Non-Null Count   Dtype  \n",
      "---  ------                 --------------   -----  \n",
      " 0   trip_id                250637 non-null  int64  \n",
      " 1   arrival_time           250637 non-null  int64  \n",
      " 2   departure_time         250637 non-null  int64  \n",
      " 3   line_index             250637 non-null  int64  \n",
      " 4   shape_dist_traveled    250637 non-null  float64\n",
      " 5   time_diff              250637 non-null  float64\n",
      " 6   speed                  250637 non-null  float64\n",
      " 7   dist_diff              250637 non-null  float64\n",
      " 8   code                   250637 non-null  int64  \n",
      " 9   direction_id           250637 non-null  int64  \n",
      " 10  day_date               250637 non-null  int64  \n",
      " 11  stop_code_d            250637 non-null  int64  \n",
      " 12  stop_code_a            250637 non-null  int64  \n",
      " 13  departure_delay        250637 non-null  int64  \n",
      " 14  arrival_delay          250637 non-null  int64  \n",
      " 15  temperature_line       250637 non-null  float64\n",
      " 16  app_temp_line          250637 non-null  float64\n",
      " 17  rain_line              250637 non-null  float64\n",
      " 18  snow_fall_line         250637 non-null  float64\n",
      " 19  snow_depth_line        250637 non-null  float64\n",
      " 20  humidity_line          250637 non-null  float64\n",
      " 21  precipitation_line     250637 non-null  float64\n",
      " 22  wmo_code_line          250637 non-null  float64\n",
      " 23  wind_speed_10m_line    250637 non-null  float64\n",
      " 24  wind_speed_100m_line   250637 non-null  float64\n",
      " 25  wind_dir_10m_line      250637 non-null  float64\n",
      " 26  wind_dir_100m_line     250637 non-null  float64\n",
      " 27  wind_gusts_line        250637 non-null  float64\n",
      " 28  soil_temperature_line  250637 non-null  float64\n",
      " 29  isArrivalDelay         250637 non-null  float64\n",
      " 30  isDepartureDelay       250637 non-null  float64\n",
      "dtypes: float64(20), int64(11)\n",
      "memory usage: 61.2 MB\n"
     ]
    }
   ],
   "source": [
    "df_regression.info()"
   ]
  },
  {
   "cell_type": "code",
   "execution_count": 20,
   "id": "3a46a821",
   "metadata": {},
   "outputs": [
    {
     "data": {
      "text/plain": [
       "(250637, 27)"
      ]
     },
     "execution_count": 20,
     "metadata": {},
     "output_type": "execute_result"
    }
   ],
   "source": [
    "# Drop column on wich i don't want to train\n",
    "df_regression.drop(columns=[\"trip_id\",\n",
    "                 \"line_index\",\n",
    "                 \"code\",\n",
    "                 \"day_date\"], inplace=True)\n",
    "df_regression.shape"
   ]
  },
  {
   "cell_type": "code",
   "execution_count": 21,
   "id": "de35e0ff",
   "metadata": {},
   "outputs": [],
   "source": [
    "# We only need to train on delayed trains on line\n",
    "df_regression = df_regression[df_regression['arrival_delay'] > 0]\n",
    "df_regression.reset_index(inplace=True, drop=True)\n"
   ]
  },
  {
   "cell_type": "code",
   "execution_count": 22,
   "id": "81c0ed89",
   "metadata": {},
   "outputs": [],
   "source": [
    "X_train, X_test, y_train, y_test = train_test_split(df_regression.loc[:, df_regression.columns != \"arrival_delay\"].values , df_regression[\"arrival_delay\"].values , test_size=0.20, random_state=10)\n",
    "# To avoid excessive memory usage we delete the dataset\n",
    "del df_regression"
   ]
  },
  {
   "cell_type": "code",
   "execution_count": 23,
   "id": "16f22ca7",
   "metadata": {},
   "outputs": [
    {
     "name": "stdout",
     "output_type": "stream",
     "text": [
      "X_train:  {(156210, 26)}\n",
      "X_test:  {(39053, 26)}\n",
      "y_train:  {(156210,)}\n",
      "y_test:  {(39053,)}\n"
     ]
    }
   ],
   "source": [
    "print(f\"X_train: \",{X_train.shape})\n",
    "print(f\"X_test: \",{X_test.shape})\n",
    "print(f\"y_train: \",{y_train.shape})\n",
    "print(f\"y_test: \",{y_test.shape})"
   ]
  },
  {
   "cell_type": "code",
   "execution_count": 8,
   "id": "5d00c857",
   "metadata": {},
   "outputs": [],
   "source": [
    "# We initialize a dataset to easily call for see statistics\n",
    "statistics = pd.DataFrame(columns=['regressor','mse','rmse','mae','r2'])\n"
   ]
  },
  {
   "cell_type": "markdown",
   "id": "e26e0192",
   "metadata": {},
   "source": [
    "# Regression"
   ]
  },
  {
   "cell_type": "markdown",
   "id": "fd773806",
   "metadata": {},
   "source": [
    "## Linear Regression"
   ]
  },
  {
   "cell_type": "code",
   "execution_count": 24,
   "id": "22be6f62",
   "metadata": {},
   "outputs": [
    {
     "name": "stdout",
     "output_type": "stream",
     "text": [
      "  regressor       mse      rmse       mae        r2\n",
      "0    Linear  2.393458  1.547081  0.811484  0.901024\n"
     ]
    }
   ],
   "source": [
    "model = LinearRegression(n_jobs=-1)\n",
    "model.fit(X_train, y_train)\n",
    "joblib.dump(model, \"./models/regressions/LinearRegression.joblib\")\n",
    "# model = joblib.load(\"./models/regressions/LinearRegression.joblib\")\n",
    "y_pred = model.predict(X_test)\n",
    "statistics = helper.regressor_metrics(y_test, y_pred, \"Linear\", statistics)\n",
    "\n",
    "del model\n",
    "del y_pred"
   ]
  },
  {
   "cell_type": "markdown",
   "id": "e47e1045",
   "metadata": {},
   "source": [
    "## Decision Tree Regressor"
   ]
  },
  {
   "cell_type": "code",
   "execution_count": 10,
   "id": "31f3e13c",
   "metadata": {},
   "outputs": [
    {
     "name": "stdout",
     "output_type": "stream",
     "text": [
      "      regressor       mse      rmse       mae        r2\n",
      "0  DecisionTree  5.015856  2.239611  0.678614  0.779608\n"
     ]
    }
   ],
   "source": [
    "model = DecisionTreeRegressor()\n",
    "model.fit(X_train, y_train)\n",
    "joblib.dump(model, \"./models/regressions/DecisionTreeRegressor.joblib\")\n",
    "#model = joblib.load(\"./models/regressions/DecisionTreeRegressor.joblib\")\n",
    "y_pred = model.predict(X_test)\n",
    "statistics = helper.regressor_metrics(y_test, y_pred, \"DecisionTree\", statistics)\n",
    "del model\n",
    "del y_pred"
   ]
  },
  {
   "cell_type": "markdown",
   "id": "73e6e405",
   "metadata": {},
   "source": [
    "## Random Forest"
   ]
  },
  {
   "cell_type": "code",
   "execution_count": 25,
   "id": "1dcff6d7",
   "metadata": {},
   "outputs": [
    {
     "name": "stdout",
     "output_type": "stream",
     "text": [
      "      regressor      mse      rmse       mae        r2\n",
      "0  RandomForest  2.46109  1.568786  0.529998  0.898227\n"
     ]
    }
   ],
   "source": [
    "model = RandomForestRegressor(n_jobs=-1)\n",
    "model.fit(X_train, y_train)\n",
    "joblib.dump(model, \"./models/regressions/RandomForestRegressor.joblib\")\n",
    "#model = joblib.load(\"./models/regressions/RandomForestRegressor.joblib\")\n",
    "y_pred = model.predict(X_test)\n",
    "statistics = helper.regressor_metrics(y_test, y_pred, \"RandomForest\", statistics)\n",
    "del model\n",
    "del y_pred"
   ]
  },
  {
   "cell_type": "markdown",
   "id": "883efe6d",
   "metadata": {},
   "source": [
    "## Extra Trees Regressor"
   ]
  },
  {
   "cell_type": "code",
   "execution_count": 12,
   "id": "c215839c",
   "metadata": {},
   "outputs": [
    {
     "name": "stdout",
     "output_type": "stream",
     "text": [
      "    regressor       mse      rmse       mae        r2\n",
      "0  ExtraTrees  2.304844  1.518171  0.545726  0.898727\n"
     ]
    }
   ],
   "source": [
    "model = ExtraTreesRegressor(n_jobs=-1)\n",
    "model.fit(X_train, y_train)\n",
    "joblib.dump(model, \"./models/regressions/ExtraTreesRegressor.joblib\")\n",
    "#model = joblib.load(\"./models/regressions/ExtraTreesRegressor.joblib\")\n",
    "y_pred = model.predict(X_test)\n",
    "statistics = helper.regressor_metrics(y_test, y_pred, \"ExtraTrees\", statistics)\n",
    "copy_X = y_pred.copy()\n",
    "del model\n",
    "del y_pred"
   ]
  },
  {
   "cell_type": "markdown",
   "id": "d439196a",
   "metadata": {},
   "source": [
    "## Gradient Boosting Regressor"
   ]
  },
  {
   "cell_type": "code",
   "execution_count": 13,
   "id": "cd743e6a",
   "metadata": {},
   "outputs": [
    {
     "name": "stdout",
     "output_type": "stream",
     "text": [
      "          regressor       mse      rmse       mae        r2\n",
      "0  GradientBoosting  2.417967  1.554981  0.659275  0.893757\n"
     ]
    }
   ],
   "source": [
    "model = GradientBoostingRegressor()\n",
    "model.fit(X_train, y_train)\n",
    "joblib.dump(model, \"./models/regressions/GradientBoostingRegressor.joblib\")\n",
    "#model = joblib.load(\"./models/regressions/GradientBoostingRegressor.joblib\")\n",
    "y_pred = model.predict(X_test)\n",
    "statistics = helper.regressor_metrics(y_test, y_pred, \"GradientBoosting\", statistics)\n",
    "del model\n",
    "del y_pred"
   ]
  },
  {
   "cell_type": "markdown",
   "id": "60710703",
   "metadata": {},
   "source": [
    "## Bagging Regressor\n"
   ]
  },
  {
   "cell_type": "code",
   "execution_count": 14,
   "id": "da8ff9c2",
   "metadata": {
    "scrolled": true
   },
   "outputs": [
    {
     "name": "stdout",
     "output_type": "stream",
     "text": [
      "  regressor       mse      rmse       mae        r2\n",
      "0   Bagging  2.724607  1.650638  0.569013  0.880283\n"
     ]
    }
   ],
   "source": [
    "model = BaggingRegressor()\n",
    "model.fit(X_train, y_train)\n",
    "joblib.dump(model, \"./models/regressions/BaggingRegressor.joblib\")\n",
    "#model = joblib.load(\"./models/regressions/BaggingRegressor.joblib\")\n",
    "y_pred = model.predict(X_test)\n",
    "statistics = helper.regressor_metrics(y_test, y_pred, \"Bagging\", statistics)\n",
    "del model\n",
    "del y_pred"
   ]
  },
  {
   "cell_type": "markdown",
   "id": "f1f56e11",
   "metadata": {},
   "source": [
    "## AdaBoostRegressor\n"
   ]
  },
  {
   "cell_type": "code",
   "execution_count": 15,
   "id": "013efc28",
   "metadata": {},
   "outputs": [
    {
     "name": "stdout",
     "output_type": "stream",
     "text": [
      "  regressor        mse      rmse       mae        r2\n",
      "0  AdaBoost  35.931468  5.994286  3.997358 -0.578798\n"
     ]
    }
   ],
   "source": [
    "model = AdaBoostRegressor()\n",
    "model.fit(X_train, y_train)\n",
    "joblib.dump(model, \"./models/regressions/AdaBoostRegressor.joblib\")\n",
    "#model = joblib.load(\"./models/regressions/AdaBoostRegressor.joblib\")\n",
    "y_pred = model.predict(X_test)\n",
    "statistics = helper.regressor_metrics(y_test, y_pred, \"AdaBoost\", statistics)\n",
    "del model\n",
    "del y_pred"
   ]
  },
  {
   "cell_type": "markdown",
   "id": "569fc168",
   "metadata": {},
   "source": [
    "# Result"
   ]
  },
  {
   "cell_type": "code",
   "execution_count": 16,
   "id": "891ba185",
   "metadata": {
    "scrolled": true
   },
   "outputs": [
    {
     "data": {
      "text/html": [
       "<div>\n",
       "<style scoped>\n",
       "    .dataframe tbody tr th:only-of-type {\n",
       "        vertical-align: middle;\n",
       "    }\n",
       "\n",
       "    .dataframe tbody tr th {\n",
       "        vertical-align: top;\n",
       "    }\n",
       "\n",
       "    .dataframe thead th {\n",
       "        text-align: right;\n",
       "    }\n",
       "</style>\n",
       "<table border=\"1\" class=\"dataframe\">\n",
       "  <thead>\n",
       "    <tr style=\"text-align: right;\">\n",
       "      <th></th>\n",
       "      <th>regressor</th>\n",
       "      <th>mse</th>\n",
       "      <th>rmse</th>\n",
       "      <th>mae</th>\n",
       "      <th>r2</th>\n",
       "    </tr>\n",
       "  </thead>\n",
       "  <tbody>\n",
       "    <tr>\n",
       "      <th>0</th>\n",
       "      <td>Linear</td>\n",
       "      <td>3.574039</td>\n",
       "      <td>1.890513</td>\n",
       "      <td>0.825628</td>\n",
       "      <td>0.842960</td>\n",
       "    </tr>\n",
       "    <tr>\n",
       "      <th>1</th>\n",
       "      <td>DecisionTree</td>\n",
       "      <td>5.015856</td>\n",
       "      <td>2.239611</td>\n",
       "      <td>0.678614</td>\n",
       "      <td>0.779608</td>\n",
       "    </tr>\n",
       "    <tr>\n",
       "      <th>2</th>\n",
       "      <td>RandomForest</td>\n",
       "      <td>2.474592</td>\n",
       "      <td>1.573084</td>\n",
       "      <td>0.541915</td>\n",
       "      <td>0.891269</td>\n",
       "    </tr>\n",
       "    <tr>\n",
       "      <th>3</th>\n",
       "      <td>ExtraTrees</td>\n",
       "      <td>2.304844</td>\n",
       "      <td>1.518171</td>\n",
       "      <td>0.545726</td>\n",
       "      <td>0.898727</td>\n",
       "    </tr>\n",
       "    <tr>\n",
       "      <th>4</th>\n",
       "      <td>GradientBoosting</td>\n",
       "      <td>2.417967</td>\n",
       "      <td>1.554981</td>\n",
       "      <td>0.659275</td>\n",
       "      <td>0.893757</td>\n",
       "    </tr>\n",
       "    <tr>\n",
       "      <th>5</th>\n",
       "      <td>Bagging</td>\n",
       "      <td>2.724607</td>\n",
       "      <td>1.650638</td>\n",
       "      <td>0.569013</td>\n",
       "      <td>0.880283</td>\n",
       "    </tr>\n",
       "    <tr>\n",
       "      <th>6</th>\n",
       "      <td>AdaBoost</td>\n",
       "      <td>35.931468</td>\n",
       "      <td>5.994286</td>\n",
       "      <td>3.997358</td>\n",
       "      <td>-0.578798</td>\n",
       "    </tr>\n",
       "  </tbody>\n",
       "</table>\n",
       "</div>"
      ],
      "text/plain": [
       "          regressor        mse      rmse       mae        r2\n",
       "0            Linear   3.574039  1.890513  0.825628  0.842960\n",
       "1      DecisionTree   5.015856  2.239611  0.678614  0.779608\n",
       "2      RandomForest   2.474592  1.573084  0.541915  0.891269\n",
       "3        ExtraTrees   2.304844  1.518171  0.545726  0.898727\n",
       "4  GradientBoosting   2.417967  1.554981  0.659275  0.893757\n",
       "5           Bagging   2.724607  1.650638  0.569013  0.880283\n",
       "6          AdaBoost  35.931468  5.994286  3.997358 -0.578798"
      ]
     },
     "execution_count": 16,
     "metadata": {},
     "output_type": "execute_result"
    }
   ],
   "source": [
    "statistics.head(10)"
   ]
  }
 ],
 "metadata": {
  "kernelspec": {
   "display_name": "Python 3 (ipykernel)",
   "language": "python",
   "name": "python3"
  },
  "language_info": {
   "codemirror_mode": {
    "name": "ipython",
    "version": 3
   },
   "file_extension": ".py",
   "mimetype": "text/x-python",
   "name": "python",
   "nbconvert_exporter": "python",
   "pygments_lexer": "ipython3",
   "version": "3.11.5"
  }
 },
 "nbformat": 4,
 "nbformat_minor": 5
}
