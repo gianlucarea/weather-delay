{
 "cells": [
  {
   "cell_type": "markdown",
   "id": "b9db4684",
   "metadata": {},
   "source": [
    "# Import"
   ]
  },
  {
   "cell_type": "code",
   "execution_count": 1,
   "id": "c5c48cbe",
   "metadata": {},
   "outputs": [],
   "source": [
    "import pandas as pd\n",
    "import numpy as np\n",
    "import matplotlib.pyplot as plt\n",
    "import joblib\n",
    "import helper\n",
    "\n",
    "from sklearn.model_selection import train_test_split\n",
    "from sklearn.linear_model import LinearRegression\n",
    "from sklearn.tree import DecisionTreeRegressor\n",
    "from sklearn.ensemble import RandomForestRegressor\n",
    "from sklearn.ensemble import ExtraTreesRegressor\n",
    "from sklearn.ensemble import GradientBoostingRegressor"
   ]
  },
  {
   "cell_type": "markdown",
   "id": "832130f7",
   "metadata": {},
   "source": [
    "# Load Dataset"
   ]
  },
  {
   "cell_type": "code",
   "execution_count": 2,
   "id": "866918d7",
   "metadata": {},
   "outputs": [],
   "source": [
    "df_regression = pd.read_csv(\"../processed_files/df_for_ml.csv\", index_col=[0])"
   ]
  },
  {
   "cell_type": "code",
   "execution_count": 3,
   "id": "45be5d01",
   "metadata": {},
   "outputs": [
    {
     "name": "stdout",
     "output_type": "stream",
     "text": [
      "<class 'pandas.core.frame.DataFrame'>\n",
      "Index: 251059 entries, 0 to 251058\n",
      "Data columns (total 31 columns):\n",
      " #   Column                  Non-Null Count   Dtype  \n",
      "---  ------                  --------------   -----  \n",
      " 0   trip_id                 251059 non-null  int64  \n",
      " 1   arrival_time            251059 non-null  int64  \n",
      " 2   departure_time          251059 non-null  int64  \n",
      " 3   indice_tratta           251059 non-null  int64  \n",
      " 4   shape_dist_traveled     251059 non-null  float64\n",
      " 5   time_diff               251059 non-null  float64\n",
      " 6   speed                   251059 non-null  float64\n",
      " 7   dist_diff               251059 non-null  float64\n",
      " 8   codice                  251059 non-null  int64  \n",
      " 9   direction_id            251059 non-null  int64  \n",
      " 10  data_giorno             251059 non-null  int64  \n",
      " 11  stop_code_p             251059 non-null  int64  \n",
      " 12  stop_code_a             251059 non-null  int64  \n",
      " 13  ritardo_partenza        251059 non-null  int64  \n",
      " 14  ritardo_arrivo          251059 non-null  int64  \n",
      " 15  temperature_linea       251059 non-null  float64\n",
      " 16  app_temp_linea          251059 non-null  float64\n",
      " 17  rain_linea              251059 non-null  float64\n",
      " 18  snow_fall_linea         251059 non-null  float64\n",
      " 19  snow_depth_linea        251059 non-null  float64\n",
      " 20  humidity_linea          251059 non-null  float64\n",
      " 21  precipitation_linea     251059 non-null  float64\n",
      " 22  wmo_code_linea          251059 non-null  float64\n",
      " 23  wind_speed_10m_linea    251059 non-null  float64\n",
      " 24  wind_speed_100m_linea   251059 non-null  float64\n",
      " 25  wind_dir_10m_linea      251059 non-null  float64\n",
      " 26  wind_dir_100m_linea     251059 non-null  float64\n",
      " 27  wind_gusts_linea        251059 non-null  float64\n",
      " 28  soil_temperature_linea  251059 non-null  float64\n",
      " 29  isArrivoRitardo         251059 non-null  float64\n",
      " 30  isPartenzaRitardo       251059 non-null  float64\n",
      "dtypes: float64(20), int64(11)\n",
      "memory usage: 61.3 MB\n"
     ]
    }
   ],
   "source": [
    "df_regression.info()"
   ]
  },
  {
   "cell_type": "code",
   "execution_count": 4,
   "id": "3a46a821",
   "metadata": {},
   "outputs": [
    {
     "data": {
      "text/plain": [
       "(251059, 27)"
      ]
     },
     "execution_count": 4,
     "metadata": {},
     "output_type": "execute_result"
    }
   ],
   "source": [
    "# Drop column on wich i don't want to train\n",
    "df_regression.drop(columns=[\"trip_id\",\n",
    "                 \"indice_tratta\",\n",
    "                 \"codice\",\n",
    "                 \"data_giorno\"], inplace=True)\n",
    "df_regression.shape"
   ]
  },
  {
   "cell_type": "code",
   "execution_count": 5,
   "id": "de35e0ff",
   "metadata": {},
   "outputs": [],
   "source": [
    "# We only need to train on delayed trains on line\n",
    "df_regression = df_regression[df_regression['ritardo_arrivo'] > 0]\n",
    "df_regression.reset_index(inplace=True, drop=True)\n"
   ]
  },
  {
   "cell_type": "code",
   "execution_count": 6,
   "id": "81c0ed89",
   "metadata": {},
   "outputs": [],
   "source": [
    "X_train, X_test, y_train, y_test = train_test_split(df_regression.loc[:, df_regression.columns != \"ritardo_arrivo\"].values , df_regression[\"ritardo_arrivo\"].values , test_size=0.20, random_state=1)\n",
    "# To avoid excessive memory usage we delete the dataset\n",
    "del df_regression"
   ]
  },
  {
   "cell_type": "code",
   "execution_count": 7,
   "id": "5d00c857",
   "metadata": {},
   "outputs": [],
   "source": [
    "# We initialize a dataset to easily call for see statistics\n",
    "statistics = pd.DataFrame(columns=['regressor','mse','rmse','ae','r2'])\n"
   ]
  },
  {
   "cell_type": "markdown",
   "id": "d5c98048",
   "metadata": {},
   "source": [
    "# Regression"
   ]
  },
  {
   "cell_type": "markdown",
   "id": "1b8e4761",
   "metadata": {},
   "source": [
    "## Linear Regression"
   ]
  },
  {
   "cell_type": "code",
   "execution_count": 8,
   "id": "986b5fa3",
   "metadata": {},
   "outputs": [
    {
     "name": "stdout",
     "output_type": "stream",
     "text": [
      "  regressor       mse      rmse       mae        r2        regressor \n",
      "0       NaN  2.418711  1.555221  0.684516  0.901168  LinearRegression\n"
     ]
    }
   ],
   "source": [
    "model = LinearRegression(n_jobs=-1)\n",
    "model.fit(X_train, y_train)\n",
    "joblib.dump(model, \"./models/regressions/LogisticRegression.joblib\")\n",
    "# model = joblib.load(\"./models/regressions/LogisticRegression.joblib\")\n",
    "y_pred = model.predict(X_test)\n",
    "statistics = helper.regressor_metrics(y_test, y_pred, \"LinearRegression\", statistics)\n",
    "\n",
    "del model\n",
    "del y_pred"
   ]
  },
  {
   "cell_type": "code",
   "execution_count": 9,
   "id": "b5fc8c69",
   "metadata": {},
   "outputs": [
    {
     "data": {
      "text/html": [
       "<div>\n",
       "<style scoped>\n",
       "    .dataframe tbody tr th:only-of-type {\n",
       "        vertical-align: middle;\n",
       "    }\n",
       "\n",
       "    .dataframe tbody tr th {\n",
       "        vertical-align: top;\n",
       "    }\n",
       "\n",
       "    .dataframe thead th {\n",
       "        text-align: right;\n",
       "    }\n",
       "</style>\n",
       "<table border=\"1\" class=\"dataframe\">\n",
       "  <thead>\n",
       "    <tr style=\"text-align: right;\">\n",
       "      <th></th>\n",
       "      <th>regressor</th>\n",
       "      <th>mse</th>\n",
       "      <th>rmse</th>\n",
       "      <th>ae</th>\n",
       "      <th>r2</th>\n",
       "      <th>regressor</th>\n",
       "      <th>mae</th>\n",
       "    </tr>\n",
       "  </thead>\n",
       "  <tbody>\n",
       "    <tr>\n",
       "      <th>0</th>\n",
       "      <td>NaN</td>\n",
       "      <td>2.418711</td>\n",
       "      <td>1.555221</td>\n",
       "      <td>NaN</td>\n",
       "      <td>0.901168</td>\n",
       "      <td>LinearRegression</td>\n",
       "      <td>0.684516</td>\n",
       "    </tr>\n",
       "  </tbody>\n",
       "</table>\n",
       "</div>"
      ],
      "text/plain": [
       "  regressor       mse      rmse   ae        r2        regressor        mae\n",
       "0       NaN  2.418711  1.555221  NaN  0.901168  LinearRegression  0.684516"
      ]
     },
     "execution_count": 9,
     "metadata": {},
     "output_type": "execute_result"
    }
   ],
   "source": [
    "statistics.head()"
   ]
  },
  {
   "cell_type": "code",
   "execution_count": null,
   "id": "6c33e389",
   "metadata": {},
   "outputs": [],
   "source": []
  }
 ],
 "metadata": {
  "kernelspec": {
   "display_name": "Python 3 (ipykernel)",
   "language": "python",
   "name": "python3"
  },
  "language_info": {
   "codemirror_mode": {
    "name": "ipython",
    "version": 3
   },
   "file_extension": ".py",
   "mimetype": "text/x-python",
   "name": "python",
   "nbconvert_exporter": "python",
   "pygments_lexer": "ipython3",
   "version": "3.11.5"
  }
 },
 "nbformat": 4,
 "nbformat_minor": 5
}
