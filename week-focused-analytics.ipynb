{
 "cells": [
  {
   "cell_type": "code",
   "execution_count": 1,
   "id": "613d780c",
   "metadata": {},
   "outputs": [],
   "source": [
    "import pandas as pd\n",
    "import gtfs_kit as gk\n"
   ]
  },
  {
   "cell_type": "code",
   "execution_count": 2,
   "id": "aa947faf",
   "metadata": {},
   "outputs": [],
   "source": [
    "feed = gk.feed.read_feed('../general_data_analytics.zip',dist_units=\"km\")"
   ]
  },
  {
   "cell_type": "markdown",
   "id": "728a2638",
   "metadata": {},
   "source": [
    "### Collecting a single week data"
   ]
  },
  {
   "cell_type": "code",
   "execution_count": null,
   "id": "ae426703",
   "metadata": {},
   "outputs": [],
   "source": [
    "### Select trips between Mon 02-Oct-2023 and 06-Oct-2023\n"
   ]
  }
 ],
 "metadata": {
  "kernelspec": {
   "display_name": "Python 3 (ipykernel)",
   "language": "python",
   "name": "python3"
  },
  "language_info": {
   "codemirror_mode": {
    "name": "ipython",
    "version": 3
   },
   "file_extension": ".py",
   "mimetype": "text/x-python",
   "name": "python",
   "nbconvert_exporter": "python",
   "pygments_lexer": "ipython3",
   "version": "3.9.13"
  }
 },
 "nbformat": 4,
 "nbformat_minor": 5
}
