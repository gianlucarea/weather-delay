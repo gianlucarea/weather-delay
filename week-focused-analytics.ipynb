{
 "cells": [
  {
   "cell_type": "code",
   "execution_count": 1,
   "id": "bf4a6946",
   "metadata": {},
   "outputs": [],
   "source": [
    "import pandas as pd\n",
    "import gtfs_kit as gk\n",
    "import matplotlib as mpl\n",
    "import matplotlib.pyplot as plt"
   ]
  },
  {
   "cell_type": "code",
   "execution_count": 2,
   "id": "374a1bf4",
   "metadata": {},
   "outputs": [],
   "source": [
    "feed = gk.feed.read_feed('../general_data_analytics.zip',dist_units=\"km\")"
   ]
  },
  {
   "cell_type": "code",
   "execution_count": 3,
   "id": "665de0c1",
   "metadata": {},
   "outputs": [],
   "source": [
    "routes = gk.routes.get_routes(feed)\n",
    "stop_times = feed.get_stop_times()\n",
    "trips = feed.get_trips()\n",
    "stops = feed.get_stops()\n",
    "shapes = feed.shapes\n",
    "calendar_dates = feed.calendar_dates\n",
    "calendar = feed.calendar"
   ]
  },
  {
   "cell_type": "markdown",
   "id": "dc2dd8cc",
   "metadata": {},
   "source": [
    "# Collecting a single week data"
   ]
  },
  {
   "cell_type": "markdown",
   "id": "f5998811",
   "metadata": {},
   "source": [
    "## Select trips between Mon 02-Oct-2023 and 08-Oct-2023\n"
   ]
  },
  {
   "cell_type": "code",
   "execution_count": null,
   "id": "bcaf67fc",
   "metadata": {
    "scrolled": true
   },
   "outputs": [],
   "source": [
    "## Collecting all service date of trips on those days\n",
    "sw_calendar_dates = calendar_dates.loc[(calendar_dates['date'] == '20231002') | \n",
    "                                    (calendar_dates['date'] == '20231003') |\n",
    "                                    (calendar_dates['date'] == '20231004') |\n",
    "                                    (calendar_dates['date'] == '20231005') |\n",
    "                                    (calendar_dates['date'] == '20231006') |\n",
    "                                    (calendar_dates['date'] == '20231007') |\n",
    "                                    (calendar_dates['date'] == '20231008') ]\n"
   ]
  },
  {
   "cell_type": "code",
   "execution_count": null,
   "id": "532f5282",
   "metadata": {},
   "outputs": [],
   "source": [
    "## Creating new calendar and collect service date from previous new calendar_dates with drop duplicates\n",
    "sw_calendar = calendar.iloc[0:0]\n",
    "service_id_list = list(dict.fromkeys( sw_calendar_dates['service_id']))\n",
    "\n",
    "for service_id in service_id_list:\n",
    "    row  = calendar.loc[calendar['service_id'] == service_id]\n",
    "    sw_calendar = pd.concat([sw_calendar, row],\n",
    "                      ignore_index = True)"
   ]
  },
  {
   "cell_type": "code",
   "execution_count": null,
   "id": "66036d07",
   "metadata": {},
   "outputs": [],
   "source": [
    "## Creating new trips dataframe and collect trips using the list of service id\n",
    "sw_trips = trips.iloc[0:0]\n",
    "\n",
    "for service_id in service_id_list:\n",
    "    row  = trips.loc[trips['service_id'] == service_id]\n",
    "    sw_trips = pd.concat([sw_trips, row],\n",
    "                      ignore_index = True)"
   ]
  },
  {
   "cell_type": "code",
   "execution_count": null,
   "id": "3a5e98b1",
   "metadata": {},
   "outputs": [],
   "source": [
    "## Creating list of shapes_id,route_id,trips_id from sw_trips\n",
    "route_id_list = list(dict.fromkeys(sw_trips['route_id']))\n",
    "shape_id_list = list(dict.fromkeys(sw_trips['shape_id']))\n",
    "trip_id_list = list(dict.fromkeys(sw_trips['trip_id']))"
   ]
  },
  {
   "cell_type": "code",
   "execution_count": null,
   "id": "a158afb1",
   "metadata": {},
   "outputs": [],
   "source": [
    "## Creating new route dataframe\n",
    "sw_routes = routes.iloc[0:0]\n",
    "\n",
    "for route_id in route_id_list:\n",
    "    row = routes.loc[routes['route_id']==route_id]\n",
    "    sw_routes = pd.concat([sw_routes,row],ignore_index=True)"
   ]
  },
  {
   "cell_type": "code",
   "execution_count": null,
   "id": "c32ef38e",
   "metadata": {},
   "outputs": [],
   "source": [
    "## Creating new shape dataframe\n",
    "sw_shapes = shapes.iloc[0:0]\n",
    "\n",
    "for shape_id in shape_id_list:\n",
    "    row = shapes.loc[shapes['shape_id']==shape_id]\n",
    "    sw_shapes = pd.concat([sw_shapes, row],ignore_index = True)"
   ]
  },
  {
   "cell_type": "code",
   "execution_count": null,
   "id": "9be0c556",
   "metadata": {},
   "outputs": [],
   "source": [
    "## Creating new stop_times dataframe\n",
    "sw_stop_times = stop_times.iloc[0:0]\n",
    "\n",
    "for trip_id in trip_id_list:\n",
    "    row = stop_times.loc[stop_times['trip_id'] == trip_id]\n",
    "    sw_stop_times = pd.concat([sw_stop_times,row],ignore_index = True)"
   ]
  },
  {
   "cell_type": "code",
   "execution_count": null,
   "id": "ab883848",
   "metadata": {},
   "outputs": [],
   "source": [
    "stop_id_list = list(dict.fromkeys(sw_stop_times['stop_id']))"
   ]
  },
  {
   "cell_type": "code",
   "execution_count": null,
   "id": "0f3cdf39",
   "metadata": {},
   "outputs": [],
   "source": [
    "## Creating new stop dataframe, should be equal at this point \n",
    "## but we do it for safe reasons\n",
    "sw_stops = stops.iloc[0:0]\n",
    "\n",
    "for stop_id in stop_id_list:\n",
    "    row = stops.loc[stops['stop_id']==stop_id]\n",
    "    sw_stops = pd.concat([sw_stops,row],ignore_index = True)\n"
   ]
  },
  {
   "cell_type": "code",
   "execution_count": null,
   "id": "9e34c865",
   "metadata": {
    "scrolled": false
   },
   "outputs": [],
   "source": [
    "# Check value change\n",
    "subtracted_dimensions = pd.DataFrame(columns=[\"Name\",\"Initial\",\"Updated\",\"Difference\"])\n",
    "\n",
    "\n",
    "res = tuple(map(lambda i, j: i - j, routes.shape, sw_routes.shape))\n",
    "subtracted_dimensions.loc[0] = [\"Routes\",routes.shape, sw_routes.shape, res]\n",
    "\n",
    "res = tuple(map(lambda i, j: i - j, stops.shape, sw_stops.shape))\n",
    "subtracted_dimensions.loc[1] = [\"Stops\",stops.shape, sw_stops.shape, res]\n",
    "\n",
    "res = tuple(map(lambda i, j: i - j, trips.shape, sw_trips.shape))\n",
    "subtracted_dimensions.loc[2] = [\"Trips\",trips.shape, sw_trips.shape, res]\n",
    "\n",
    "res = tuple(map(lambda i, j: i - j, stop_times.shape,sw_stop_times.shape))\n",
    "subtracted_dimensions.loc[3] = [\"Stop_Times\",stop_times.shape, sw_stop_times.shape, res]\n",
    "\n",
    "res = tuple(map(lambda i, j: i - j, shapes.shape, sw_shapes.shape))\n",
    "subtracted_dimensions.loc[4] = [\"Shapes\",shapes.shape, sw_shapes.shape, res]\n",
    "\n",
    "res = tuple(map(lambda i, j: i - j, calendar.shape, sw_calendar.shape))\n",
    "subtracted_dimensions.loc[5] = [\"Calendar\",calendar.shape, sw_calendar.shape, res]\n",
    "\n",
    "res = tuple(map(lambda i, j: i - j, calendar_dates.shape, sw_calendar_dates.shape))\n",
    "subtracted_dimensions.loc[6] = [\"Calendar_Dates\",calendar_dates.shape, sw_calendar_dates.shape, res]\n",
    "\n",
    "subtracted_dimensions"
   ]
  },
  {
   "cell_type": "markdown",
   "id": "8f3493f3",
   "metadata": {},
   "source": [
    "### General Statistics on single week"
   ]
  },
  {
   "cell_type": "code",
   "execution_count": null,
   "id": "058e619e",
   "metadata": {},
   "outputs": [],
   "source": [
    "# Join the dataset for easy at use\n",
    "df_analytics = trips\n",
    "df_analytics = pd.merge(df_analytics, sw_routes, on=['route_id','route_id'])\n",
    "df_analytics = pd.merge(df_analytics, sw_stop_times, on=['trip_id','trip_id'])\n",
    "df_analytics = pd.merge(df_analytics, sw_stops, on=['stop_id','stop_id'])"
   ]
  },
  {
   "cell_type": "code",
   "execution_count": null,
   "id": "267f4367",
   "metadata": {},
   "outputs": [],
   "source": [
    "# Basic statistics on the number of stops\n",
    "print(\"Mean of stop_sequence : \" + str(df_analytics.stop_sequence.mean()))\n",
    "print('-' * 50)\n",
    "print(\"Median of stop_sequence : \" + str(df_analytics.stop_sequence.median()))\n",
    "print('-' * 50)\n",
    "print(\"Standard Deviation of stop_sequence : \" + str(df_analytics.stop_sequence.std()))\n",
    "print('-' * 50)\n",
    "print(\"Skewness of stop_sequence : \" + str(df_analytics.stop_sequence.skew()))"
   ]
  },
  {
   "cell_type": "code",
   "execution_count": null,
   "id": "6c76f6d2",
   "metadata": {
    "scrolled": true
   },
   "outputs": [],
   "source": [
    "# Distribution of number of stops in the dataset\n",
    "plt.title('Distribution of the no. stops in the dataset')\n",
    "plt.hist(df_analytics.stop_sequence)\n",
    "plt.xlabel('No. Stops')\n",
    "plt.ylabel('Frequency')\n",
    "plt.show()"
   ]
  },
  {
   "cell_type": "code",
   "execution_count": null,
   "id": "8ff88da0",
   "metadata": {},
   "outputs": [],
   "source": [
    "# Number of stops per trip\n",
    "plt.boxplot(df_analytics.stop_sequence)\n",
    "\n",
    "plt.title('No. stops per trip')\n",
    "plt.show()"
   ]
  },
  {
   "cell_type": "markdown",
   "id": "5c8e8ea1",
   "metadata": {},
   "source": [
    "1- Densità elevata solo stop -> \n",
    "tanti treni in un periodo orario \n",
    "che si susseguono ed hanno un numero di fermate medio alte."
   ]
  },
  {
   "cell_type": "code",
   "execution_count": null,
   "id": "10aa6e22",
   "metadata": {},
   "outputs": [],
   "source": [
    "print(\"N. on monday trips \" + str(sum(sw_calendar['monday'])))\n",
    "print(\"N. on tuesday trips \" + str(sum(sw_calendar['tuesday'])))\n",
    "print(\"N. on wednesday trips \" + str(sum(sw_calendar['wednesday'])))\n",
    "print(\"N. on thursday trips \" + str(sum(sw_calendar['thursday'])))\n",
    "print(\"N. on friday trips \" + str(sum(sw_calendar['friday'])))\n",
    "print(\"N. on saturday trips \" + str(sum(sw_calendar['saturday'])))\n",
    "print(\"N. on sunday trips \" + str(sum(sw_calendar['sunday'])))"
   ]
  },
  {
   "cell_type": "code",
   "execution_count": null,
   "id": "a02cc8a6",
   "metadata": {},
   "outputs": [],
   "source": [
    "sw_calendar.drop(sw_calendar[sw_calendar['monday'] <= 0].index, inplace = True)\n",
    "monday_service_id = list(sw_calendar['service_id'])"
   ]
  },
  {
   "cell_type": "code",
   "execution_count": null,
   "id": "9a9bfbf3",
   "metadata": {},
   "outputs": [],
   "source": [
    "## Creating new trips dataframe and collect trips using the list of service id\n",
    "monday_trips = trips.iloc[0:0]\n",
    "\n",
    "for service_id in monday_service_id:\n",
    "    rows  = sw_trips.loc[sw_trips['service_id'] == service_id]\n",
    "    monday_trips = pd.concat([monday_trips, rows],\n",
    "                      ignore_index = True)\n",
    "    \n",
    "monday_trip_id = list(monday_trips['trip_id'])"
   ]
  },
  {
   "cell_type": "code",
   "execution_count": null,
   "id": "5a11385b",
   "metadata": {},
   "outputs": [],
   "source": [
    "# We choose the train between 07:00 and 10:00 \n",
    "lower_time = '07:00:00'\n",
    "higher_time = '10:00:00'\n",
    "monday_stop_times = sw_stop_times.iloc[0:0]\n",
    "\n",
    "sw_stop_times = sw_stop_times.loc[((sw_stop_times['arrival_time'] >= lower_time) &\n",
    "                                  (sw_stop_times['arrival_time'] <= higher_time))| (\n",
    "                                  (sw_stop_times['departure_time'] >= lower_time) &\n",
    "                                  (sw_stop_times['departure_time'] <= higher_time))]\n",
    "\n",
    "trips_between_bounds = list(dict.fromkeys(sw_stop_times['trip_id']))\n",
    "\n",
    "sw_monday_trips = trips.iloc[0:0]\n",
    "\n",
    "for trip_id in trips_between_bounds:\n",
    "    temp_trips = monday_trips.loc[monday_trips['trip_id'] == trip_id]\n",
    "    sw_monday_trips = pd.concat([sw_monday_trips, temp_trips], ignore_index = True)"
   ]
  },
  {
   "cell_type": "code",
   "execution_count": null,
   "id": "b215c3f7",
   "metadata": {},
   "outputs": [],
   "source": [
    "# Generate usefull info"
   ]
  }
 ],
 "metadata": {
  "kernelspec": {
   "display_name": "Python 3 (ipykernel)",
   "language": "python",
   "name": "python3"
  },
  "language_info": {
   "codemirror_mode": {
    "name": "ipython",
    "version": 3
   },
   "file_extension": ".py",
   "mimetype": "text/x-python",
   "name": "python",
   "nbconvert_exporter": "python",
   "pygments_lexer": "ipython3",
   "version": "3.9.13"
  }
 },
 "nbformat": 4,
 "nbformat_minor": 5
}
